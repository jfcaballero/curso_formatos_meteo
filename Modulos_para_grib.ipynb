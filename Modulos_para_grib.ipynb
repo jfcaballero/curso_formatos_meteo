{
 "cells": [
  {
   "cell_type": "markdown",
   "id": "2a9e29bc",
   "metadata": {},
   "source": [
    "# Módulos útiles para ficheros grib"
   ]
  },
  {
   "cell_type": "markdown",
   "id": "7e414f0c",
   "metadata": {},
   "source": [
    "Para abrir el notebook en Colab pulsa el botón:"
   ]
  },
  {
   "cell_type": "markdown",
   "id": "24f66cff",
   "metadata": {},
   "source": [
    "<a href=\"https://colab.research.google.com/github/jlcasador/curso_formatos_meteo/blob/main/Modulos_para_grib.ipynb\" target=\"_blank\"><img src=\"https://colab.research.google.com/assets/colab-badge.svg\" alt=\"Open In Colab\"/></a>"
   ]
  },
  {
   "cell_type": "markdown",
   "id": "affda2d7",
   "metadata": {},
   "source": [
    "[GRIB](https://confluence.ecmwf.int/display/CKB/What+are+GRIB+files+and+how+can+I+read+them) es un acrónimo cuyas siglas corresponden a \"General Regularly distributed Information in Binary form\".  \n",
    "Es un [formato estándar de la Organización Meteorológica Mundial (OMM)](https://library.wmo.int/index.php?lvl=notice_display&id=10684) para archivar e intercambiar datos meteorológicos."
   ]
  },
  {
   "cell_type": "markdown",
   "id": "1e8e053e",
   "metadata": {},
   "source": [
    "Esta foto puede representar la jerarquía de paquetes que vamos a usar en este curso:"
   ]
  },
  {
   "cell_type": "markdown",
   "id": "cd70f499",
   "metadata": {},
   "source": [
    "![jerarquía de módulos](matroshka_grib_60.jpg)"
   ]
  },
  {
   "cell_type": "markdown",
   "id": "18d8b391",
   "metadata": {},
   "source": [
    "### Instalación"
   ]
  },
  {
   "cell_type": "markdown",
   "id": "b4eb0384",
   "metadata": {},
   "source": [
    "#### Instalación de eccodes utilizando CMake"
   ]
  },
  {
   "cell_type": "markdown",
   "id": "098eb594",
   "metadata": {},
   "source": [
    "Para instalar eccodes podemos seguir las [instrucciones de instalación de la web del ECMWF](https://confluence.ecmwf.int/display/ECC/ecCodes+installation), como sigue: "
   ]
  },
  {
   "cell_type": "code",
   "execution_count": null,
   "id": "d6c92d00",
   "metadata": {},
   "outputs": [],
   "source": [
    "!wget https://confluence.ecmwf.int/download/attachments/45757960/eccodes-2.30.0-Source.tar.gz?api=v2 -O eccodes-2.30.0-Source.tar.gz\n",
    "!tar -xzf  /content/eccodes-2.30.0-Source.tar.gz\n",
    "!mkdir build ; cd build\n",
    "%cd build\n",
    "!cmake -DCMAKE_INSTALL_PREFIX=eccodes ../eccodes-2.30.0-Source\n",
    "!make -j 4\n",
    "!make install\n",
    "%cd /content"
   ]
  },
  {
   "cell_type": "code",
   "execution_count": null,
   "id": "da2fba83",
   "metadata": {},
   "outputs": [],
   "source": [
    "# Para poder encontrar las grib tools\n",
    "import os\n",
    "PATH = os.getenv('PATH')\n",
    "os.environ['PATH'] = ':'.join([PATH, '/content/build/eccodes/bin'])"
   ]
  },
  {
   "cell_type": "code",
   "execution_count": null,
   "id": "b8403ec5",
   "metadata": {},
   "outputs": [],
   "source": [
    "!codes_info"
   ]
  },
  {
   "cell_type": "markdown",
   "id": "3d92f305",
   "metadata": {},
   "source": [
    "#### Instalación de eccodes con Conda"
   ]
  },
  {
   "cell_type": "markdown",
   "id": "a3da4e07",
   "metadata": {},
   "source": [
    "Otra alternativa es instalar conda, y después instalar eccodes desde conda:"
   ]
  },
  {
   "cell_type": "code",
   "execution_count": null,
   "id": "8760b975",
   "metadata": {},
   "outputs": [],
   "source": [
    "!pip install -q condacolab\n",
    "import condacolab\n",
    "condacolab.install() # expect a kernel restart"
   ]
  },
  {
   "cell_type": "code",
   "execution_count": null,
   "id": "6b33fd2b",
   "metadata": {},
   "outputs": [],
   "source": [
    "!conda install -q eccodes -c conda-forge"
   ]
  },
  {
   "cell_type": "code",
   "execution_count": null,
   "id": "c753b678",
   "metadata": {},
   "outputs": [],
   "source": [
    "!codes_info"
   ]
  },
  {
   "cell_type": "markdown",
   "id": "01fc892e",
   "metadata": {},
   "source": [
    "#### Instalación de otros paquetes"
   ]
  },
  {
   "cell_type": "markdown",
   "id": "a19c3124",
   "metadata": {},
   "source": [
    "(Notar que xarray está instalado por defecto en este entorno)"
   ]
  },
  {
   "cell_type": "code",
   "execution_count": null,
   "id": "434c2336",
   "metadata": {},
   "outputs": [],
   "source": [
    "!conda install -c conda-forge cfgrib"
   ]
  },
  {
   "cell_type": "code",
   "execution_count": null,
   "id": "306a1b9e",
   "metadata": {},
   "outputs": [],
   "source": [
    "!conda install metview-batch -c conda-forge\n",
    "#!conda install metview -c conda-forge # si se quiere instalar metview completo (con GUI)"
   ]
  },
  {
   "cell_type": "code",
   "execution_count": null,
   "id": "566a6dc0",
   "metadata": {},
   "outputs": [],
   "source": [
    "!conda install metview-python -c conda-forge"
   ]
  },
  {
   "cell_type": "code",
   "execution_count": null,
   "id": "425a633f",
   "metadata": {},
   "outputs": [],
   "source": [
    "!conda install -c conda-forge cartopy"
   ]
  },
  {
   "cell_type": "code",
   "execution_count": null,
   "id": "9cc3fed1",
   "metadata": {},
   "outputs": [],
   "source": [
    "!pip install climetlab"
   ]
  },
  {
   "cell_type": "markdown",
   "id": "0b8a9b8d",
   "metadata": {},
   "source": [
    "#### Ficheros de ejemplo"
   ]
  },
  {
   "cell_type": "code",
   "execution_count": null,
   "id": "13b87148",
   "metadata": {},
   "outputs": [],
   "source": [
    "!test -f ecmwf_surface.grib | wget https://owncloud.aemet.es/index.php/s/tpl9SuZ16HeByJA/download -O ecmwf_surface.grib\n",
    "!test -f air_quality.grb2 | wget https://owncloud.aemet.es/index.php/s/XsRZh7OezHwcARx/download -O air_quality.grb2"
   ]
  },
  {
   "cell_type": "markdown",
   "id": "6378c38c",
   "metadata": {},
   "source": [
    "### Estructura de un fichero grib. Grib_tools"
   ]
  },
  {
   "cell_type": "markdown",
   "id": "b80f6146",
   "metadata": {},
   "source": [
    "- Unas palabras sobre gribs\n",
    "- grib1 y grib2\n",
    "- conversiones grib1 a grib2, a netcdf"
   ]
  },
  {
   "cell_type": "markdown",
   "id": "747e3b80",
   "metadata": {},
   "source": [
    "https://library.wmo.int/index.php?lvl=notice_display&id=10684"
   ]
  },
  {
   "cell_type": "markdown",
   "id": "5dacc367",
   "metadata": {},
   "source": [
    "Las [grib keys](https://confluence.ecmwf.int/display/ECC/GRIB+Keys) son metadatos de cada mensaje grib. Nos informan sobre características tales como.  \n",
    "Algunas keys importantes son:\n",
    "- centre: centro de origen del grib (notar que cada centro tendrá su tabla de definiciones)\n",
    "- edition: indica si el fichero grib es de tipo 1 o 2\n",
    "- gridType: tipo de grid (por ejemplo, regular_ll)\n",
    "- table2Version: tabla de parámetros a la que pertenece el parámetro\n",
    "- indicatorOfParameter: parámetro (para grib1)\n",
    "- level: nivel\n",
    "- typeOfLevel: tipo de nivel (superficie, nivel de presión ...)\n",
    "- paramId: key computada que el ECMWF utiliza para facilitar la identificación del parámetro \n",
    "- dataDate: fecha de ejecución del modelo\n",
    "- dataTime: hora de ejecución del modelo (\"pasada\")\n",
    "- step: alcance (normalmente en horas)\n",
    "- shortName: nombre corto del parámetro (depende de la tabla de definiciones)\n",
    "- name: nombre largo del parámetro (depende de la tabla de definiciones)\n",
    "\n",
    "Otras keys dan información sobre la distribución espacial de los puntos:\n",
    "- longitudeOfFirstGridPointInDegrees\n",
    "- latitudeOfFirstGridPointInDegrees\n",
    "- longitudeOfLastGridPointInDegrees\n",
    "- latitudeOfLastGridPointInDegrees\n",
    "- iDirectionIncrementInDegrees\n",
    "- jDirectionIncrementInDegrees\n",
    "- Ni\n",
    "- Nj"
   ]
  },
  {
   "cell_type": "markdown",
   "id": "bddf55c7",
   "metadata": {},
   "source": [
    "Las [grib tools](https://confluence.ecmwf.int/display/ECC/GRIB+tools) son un conjunto de comandos que permiten "
   ]
  },
  {
   "cell_type": "markdown",
   "id": "126174f5",
   "metadata": {},
   "source": [
    "grib_ls muestra el contenido de algunas keys de un fichero grib. Da una línea por cada mensaje grib:"
   ]
  },
  {
   "cell_type": "code",
   "execution_count": null,
   "id": "072c38d1",
   "metadata": {},
   "outputs": [],
   "source": [
    "!grib_ls ecmwf_surface.grib"
   ]
  },
  {
   "cell_type": "code",
   "execution_count": null,
   "id": "dda490c4",
   "metadata": {},
   "outputs": [],
   "source": [
    "# Cuidado con mayúsculas y espacios!\n",
    "!grib_ls -p paramId,shortName,dataDate,dataTime,step ecmwf_surface.grib"
   ]
  },
  {
   "cell_type": "markdown",
   "id": "5f18644d",
   "metadata": {},
   "source": [
    "grib_dump nos da el valor de todas las keys codificadas del grib:"
   ]
  },
  {
   "cell_type": "code",
   "execution_count": null,
   "id": "16f76096",
   "metadata": {},
   "outputs": [],
   "source": [
    "!grib_dump ecmwf_surface.grib | head -n 120"
   ]
  },
  {
   "cell_type": "markdown",
   "id": "19a641cd",
   "metadata": {},
   "source": [
    "Para aclarar qué código corresponden a cada parámetro podemos consultar las [tablas de parámetros](https://codes.ecmwf.int/grib/param-db/). Estas tablas son válidas para gribs procedentes del ECMWF."
   ]
  },
  {
   "cell_type": "markdown",
   "id": "f1c52ddc",
   "metadata": {},
   "source": [
    "### Módulo eccodes"
   ]
  },
  {
   "cell_type": "markdown",
   "id": "12e0ab8c",
   "metadata": {},
   "source": [
    "https://confluence.ecmwf.int/display/ECC/ecCodes+Home"
   ]
  },
  {
   "cell_type": "code",
   "execution_count": null,
   "id": "4d47b39f",
   "metadata": {},
   "outputs": [],
   "source": [
    "import eccodes as ec"
   ]
  },
  {
   "cell_type": "code",
   "execution_count": null,
   "id": "9e5f2ec4",
   "metadata": {},
   "outputs": [],
   "source": [
    "f = open(\"ecmwf_surface.grib\", \"rb\")"
   ]
  },
  {
   "cell_type": "code",
   "execution_count": null,
   "id": "f9b8960f",
   "metadata": {},
   "outputs": [],
   "source": [
    "gid = ec.codes_new_from_file(f, ec.CODES_PRODUCT_GRIB)"
   ]
  },
  {
   "cell_type": "code",
   "execution_count": null,
   "id": "ee13e511",
   "metadata": {},
   "outputs": [],
   "source": [
    "ec.codes_get(gid, \"paramId\")"
   ]
  },
  {
   "cell_type": "code",
   "execution_count": null,
   "id": "000817ef",
   "metadata": {},
   "outputs": [],
   "source": [
    "ec.codes_release(gid)"
   ]
  },
  {
   "cell_type": "code",
   "execution_count": null,
   "id": "8df60330",
   "metadata": {},
   "outputs": [],
   "source": [
    "f.close()"
   ]
  },
  {
   "cell_type": "markdown",
   "id": "9daa84c1",
   "metadata": {},
   "source": [
    "Hay una [documentación en línea](https://sites.ecmwf.int/docs/eccodes/namespaceec_codes.html) sobre las distintas funciones de eccodes."
   ]
  },
  {
   "cell_type": "markdown",
   "id": "1195875f",
   "metadata": {},
   "source": [
    "La API original está escrita en C, y permite manejar la memoria directamente leyendo cada uno de los mensajes del fichero grib:"
   ]
  },
  {
   "cell_type": "markdown",
   "id": "bdabc771",
   "metadata": {},
   "source": [
    "![flujo basico C](flujo_basico_C.png)"
   ]
  },
  {
   "cell_type": "markdown",
   "id": "cf597c8c",
   "metadata": {},
   "source": [
    "La interfaz de python nos oculta la mayor parte de la gestión de memoria (pero cuidado con codes_release!), evitándonos este trabajo extra:"
   ]
  },
  {
   "cell_type": "markdown",
   "id": "3dd9712a",
   "metadata": {},
   "source": [
    "![flujo_basico_python](flujo_basico_python.png)"
   ]
  },
  {
   "cell_type": "markdown",
   "id": "8699bd2c",
   "metadata": {},
   "source": [
    "Algo un poco más complicado:"
   ]
  },
  {
   "cell_type": "code",
   "execution_count": null,
   "id": "2cf85d14",
   "metadata": {},
   "outputs": [],
   "source": [
    "def nearest_value(filename, input_paramid, latitude, longitude):\n",
    "    \n",
    "    f = open(filename, \"rb\")\n",
    "    values = {}\n",
    "    \n",
    "    while True:\n",
    "        gid = ec.codes_new_from_file(f, ec.CODES_PRODUCT_GRIB)\n",
    "        if gid is None: break\n",
    "        \n",
    "        paramid = ec.codes_get(gid, \"paramId\")\n",
    "        step = ec.codes_get(gid, \"step\")\n",
    "        if paramid==input_paramid:\n",
    "            values[step] = ec.codes_grib_find_nearest(gid, latitude, longitude)[0].value\n",
    "        \n",
    "        ec.codes_release(gid)\n",
    "\n",
    "    f.close()\n",
    "    \n",
    "    return values"
   ]
  },
  {
   "cell_type": "code",
   "execution_count": null,
   "id": "df3c09ee",
   "metadata": {},
   "outputs": [],
   "source": [
    "nearest_value(\"ecmwf_surface.grib\", 167, 40, -5)"
   ]
  },
  {
   "cell_type": "markdown",
   "id": "635617c3",
   "metadata": {},
   "source": [
    "### Módulo xarray"
   ]
  },
  {
   "cell_type": "code",
   "execution_count": null,
   "id": "4246792a",
   "metadata": {},
   "outputs": [],
   "source": [
    "from datetime import timedelta\n",
    "import numpy as np\n",
    "import matplotlib.pyplot as plt\n",
    "import xarray as xr\n",
    "import cartopy.crs as ccrs"
   ]
  },
  {
   "cell_type": "code",
   "execution_count": null,
   "id": "5fbe025d",
   "metadata": {},
   "outputs": [],
   "source": [
    "ds = xr.load_dataset(\"ecmwf_surface.grib\", engine=\"cfgrib\")"
   ]
  },
  {
   "cell_type": "markdown",
   "id": "77cb8e9b",
   "metadata": {},
   "source": [
    "Notar que xarray (con cfgrib) solo puede leer correctamente [gribs homogéneos](https://github.com/ecmwf/cfgrib/blob/master/README.rst)"
   ]
  },
  {
   "cell_type": "markdown",
   "id": "ee46954e",
   "metadata": {},
   "source": [
    "Seleccionamos el campo de la temperatura a 2m, para el alcance h+12:"
   ]
  },
  {
   "cell_type": "code",
   "execution_count": null,
   "id": "6bd46b2c",
   "metadata": {},
   "outputs": [],
   "source": [
    "t_h12 = ds.sel(step = timedelta(hours=12)).t2m - 273.15"
   ]
  },
  {
   "cell_type": "code",
   "execution_count": null,
   "id": "4a80e985",
   "metadata": {},
   "outputs": [],
   "source": [
    "t_h12.plot()"
   ]
  },
  {
   "cell_type": "markdown",
   "id": "53231040",
   "metadata": {},
   "source": [
    "O, si usamos cartopy para mostrar el mapa en proyección Mercator, por ejemplo, e incluimos la línea de costa:"
   ]
  },
  {
   "cell_type": "code",
   "execution_count": null,
   "id": "753ed95e",
   "metadata": {},
   "outputs": [],
   "source": [
    "plt.figure(figsize=(8,4.5))\n",
    "ax = plt.axes(projection=ccrs.Mercator())\n",
    "ax.coastlines()\n",
    "t_h12.plot.contourf(ax=ax, transform=ccrs.PlateCarree(), levels= np.arange(-20,25,1))\n",
    "plt.show()"
   ]
  },
  {
   "cell_type": "code",
   "execution_count": null,
   "id": "b17ad853",
   "metadata": {},
   "outputs": [],
   "source": []
  },
  {
   "cell_type": "markdown",
   "id": "8694f333",
   "metadata": {},
   "source": [
    "### Módulo metview"
   ]
  },
  {
   "cell_type": "markdown",
   "id": "845123f9",
   "metadata": {},
   "source": [
    "[Metview](https://confluence.ecmwf.int/display/METV/Metview) ([documentación aquí](https://metview.readthedocs.io/en/latest/)) es una aplicación desarrollada por el ECMWF que proporciona un entorno completo de trabajo para meteorólogos. Da herramientas para el acceso, procesamiento y visualización de datos meteorológicos (ver la [galería](https://confluence.ecmwf.int/display/METV/Gallery))."
   ]
  },
  {
   "cell_type": "markdown",
   "id": "6b0a92bb",
   "metadata": {},
   "source": [
    "Nosotros la utilizaremos aquí solamente para ilustrar el [recorte e interpolación de campos](https://www.ecmwf.int/en/newsletter/169/computing/advanced-regridding-metview)."
   ]
  },
  {
   "cell_type": "code",
   "execution_count": null,
   "id": "84d3c015",
   "metadata": {},
   "outputs": [],
   "source": [
    "import metview as mv"
   ]
  },
  {
   "cell_type": "markdown",
   "id": "365a7435",
   "metadata": {},
   "source": [
    "### Módulo climetlab"
   ]
  },
  {
   "cell_type": "markdown",
   "id": "4222137d",
   "metadata": {},
   "source": [
    "[Climetlab](https://climetlab.readthedocs.io/en/latest/) es un paquete de Python cuyo objetivo es simplificar el acceso a datos meteorológicos y climáticos, para que los usuarios puedan dedicarse al estudio de los datos y no a resolver problemas técnicos como el acceso y formato de los datos. Está todavía en desarrollo (de hecho puede que sea sustituido por otro paquete llamado earthkit)."
   ]
  },
  {
   "cell_type": "code",
   "execution_count": null,
   "id": "00bf8a29",
   "metadata": {},
   "outputs": [],
   "source": [
    "import climetlab as cml"
   ]
  },
  {
   "cell_type": "markdown",
   "id": "02534530",
   "metadata": {},
   "source": [
    "Un ejemplo utilizando datos libres:"
   ]
  },
  {
   "cell_type": "code",
   "execution_count": null,
   "id": "d8773232",
   "metadata": {},
   "outputs": [],
   "source": [
    "source = cml.load_source(\"ecmwf-open-data\", param=[\"2t\", \"msl\"],)\n",
    "for s in source:\n",
    "    cml.plot_map(s, title=True)\n",
    "source.to_xarray()"
   ]
  },
  {
   "cell_type": "markdown",
   "id": "58b53980",
   "metadata": {},
   "source": [
    "Este código sólo funcionará si se dispone de una API key para acceder al Climate Data Store:"
   ]
  },
  {
   "cell_type": "code",
   "execution_count": null,
   "id": "3584bdb1",
   "metadata": {},
   "outputs": [],
   "source": [
    "source = cml.load_source(\n",
    "    \"cds\",\n",
    "    \"reanalysis-era5-single-levels\",\n",
    "    variable=[\"2t\", \"msl\"],\n",
    "    product_type=\"reanalysis\",\n",
    "    area=[50, -50, 20, 50],\n",
    "    date=\"2011-12-02\", # [\"2011-12-02\", \"2011-12-03\"] for several dates\n",
    "    time=\"12:00\",\n",
    ")\n",
    "for s in source:\n",
    "    cml.plot_map(s)"
   ]
  }
 ],
 "metadata": {
  "kernelspec": {
   "display_name": "Python 3 (ipykernel)",
   "language": "python",
   "name": "python3"
  },
  "language_info": {
   "codemirror_mode": {
    "name": "ipython",
    "version": 3
   },
   "file_extension": ".py",
   "mimetype": "text/x-python",
   "name": "python",
   "nbconvert_exporter": "python",
   "pygments_lexer": "ipython3",
   "version": "3.10.1"
  }
 },
 "nbformat": 4,
 "nbformat_minor": 5
}
