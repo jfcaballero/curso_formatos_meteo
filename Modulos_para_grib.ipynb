{
 "cells": [
  {
   "cell_type": "markdown",
   "id": "66ce305d",
   "metadata": {},
   "source": [
    "![logoAEMET](logoAEMET_05.png)"
   ]
  },
  {
   "cell_type": "markdown",
   "id": "830940e8",
   "metadata": {},
   "source": [
    "# Módulos útiles para ficheros grib"
   ]
  },
  {
   "cell_type": "markdown",
   "id": "974709bb",
   "metadata": {},
   "source": [
    "Para abrir el notebook en Colab pulsa el botón:"
   ]
  },
  {
   "cell_type": "markdown",
   "id": "50c3f8e1",
   "metadata": {},
   "source": [
    "<a href=\"https://colab.research.google.com/github/jlcasador/curso_formatos_meteo/blob/main/Modulos_para_grib.ipynb\" target=\"_blank\"><img src=\"https://colab.research.google.com/assets/colab-badge.svg\" alt=\"Open In Colab\"/></a>"
   ]
  },
  {
   "cell_type": "markdown",
   "id": "53095ffd",
   "metadata": {},
   "source": [
    "[GRIB](https://confluence.ecmwf.int/display/CKB/What+are+GRIB+files+and+how+can+I+read+them) es un acrónimo cuyas siglas corresponden a \"General Regularly distributed Information in Binary form\".  \n",
    "Es un [formato estándar de la Organización Meteorológica Mundial (OMM)](https://library.wmo.int/index.php?lvl=notice_display&id=10684) para archivar e intercambiar datos meteorológicos."
   ]
  },
  {
   "cell_type": "markdown",
   "id": "5fb57369",
   "metadata": {},
   "source": [
    "Esta foto puede representar la jerarquía de paquetes que vamos a usar en este curso:"
   ]
  },
  {
   "cell_type": "markdown",
   "id": "a70ba7cb",
   "metadata": {},
   "source": [
    "![jerarquía de módulos](matroshka_grib_60.jpg)"
   ]
  },
  {
   "cell_type": "markdown",
   "id": "4b646532",
   "metadata": {},
   "source": [
    "### Instalación"
   ]
  },
  {
   "cell_type": "markdown",
   "id": "93d15ebe",
   "metadata": {},
   "source": [
    "#### Instalación de eccodes utilizando CMake"
   ]
  },
  {
   "cell_type": "markdown",
   "id": "6938d040",
   "metadata": {},
   "source": [
    "Para instalar eccodes podemos seguir las [instrucciones de instalación de la web del ECMWF](https://confluence.ecmwf.int/display/ECC/ecCodes+installation), como sigue: "
   ]
  },
  {
   "cell_type": "code",
   "execution_count": null,
   "id": "d3d2cf56",
   "metadata": {},
   "outputs": [],
   "source": [
    "!wget https://confluence.ecmwf.int/download/attachments/45757960/eccodes-2.30.0-Source.tar.gz?api=v2 -O eccodes-2.30.0-Source.tar.gz\n",
    "!tar -xzf  /content/eccodes-2.30.0-Source.tar.gz\n",
    "!mkdir build ; cd build\n",
    "%cd build\n",
    "!cmake -DCMAKE_INSTALL_PREFIX=eccodes ../eccodes-2.30.0-Source\n",
    "!make -j 4\n",
    "!make install\n",
    "%cd /content"
   ]
  },
  {
   "cell_type": "code",
   "execution_count": null,
   "id": "51a1b095",
   "metadata": {},
   "outputs": [],
   "source": [
    "# Para poder encontrar las grib tools\n",
    "import os\n",
    "PATH = os.getenv('PATH')\n",
    "os.environ['PATH'] = ':'.join([PATH, '/content/build/eccodes/bin'])"
   ]
  },
  {
   "cell_type": "code",
   "execution_count": null,
   "id": "d4254d8a",
   "metadata": {},
   "outputs": [],
   "source": [
    "!codes_info"
   ]
  },
  {
   "cell_type": "markdown",
   "id": "7f461f8b",
   "metadata": {},
   "source": [
    "#### Instalación de eccodes con Conda"
   ]
  },
  {
   "cell_type": "markdown",
   "id": "892b3c1b",
   "metadata": {},
   "source": [
    "Otra alternativa es instalar conda, y después instalar eccodes desde conda:"
   ]
  },
  {
   "cell_type": "code",
   "execution_count": null,
   "id": "5bf54260",
   "metadata": {},
   "outputs": [],
   "source": [
    "!pip install -q condacolab\n",
    "import condacolab\n",
    "condacolab.install() # expect a kernel restart"
   ]
  },
  {
   "cell_type": "code",
   "execution_count": null,
   "id": "b4e6735c",
   "metadata": {},
   "outputs": [],
   "source": [
    "!conda install -q eccodes -c conda-forge"
   ]
  },
  {
   "cell_type": "code",
   "execution_count": null,
   "id": "2365ae7b",
   "metadata": {},
   "outputs": [],
   "source": [
    "!codes_info"
   ]
  },
  {
   "cell_type": "markdown",
   "id": "73bbf707",
   "metadata": {},
   "source": [
    "#### Instalación de otros paquetes"
   ]
  },
  {
   "cell_type": "markdown",
   "id": "f9a7376f",
   "metadata": {},
   "source": [
    "(Notar que xarray está instalado por defecto en este entorno)"
   ]
  },
  {
   "cell_type": "code",
   "execution_count": null,
   "id": "6baa358a",
   "metadata": {},
   "outputs": [],
   "source": [
    "!conda install -c conda-forge cfgrib"
   ]
  },
  {
   "cell_type": "code",
   "execution_count": null,
   "id": "f23ece1e",
   "metadata": {},
   "outputs": [],
   "source": [
    "!conda install metview-batch -c conda-forge\n",
    "#!conda install metview -c conda-forge # si se quiere instalar metview completo (con GUI)"
   ]
  },
  {
   "cell_type": "code",
   "execution_count": null,
   "id": "2598c7e6",
   "metadata": {},
   "outputs": [],
   "source": [
    "!conda install metview-python -c conda-forge"
   ]
  },
  {
   "cell_type": "code",
   "execution_count": null,
   "id": "dc5605a8",
   "metadata": {},
   "outputs": [],
   "source": [
    "!conda install -c conda-forge cartopy"
   ]
  },
  {
   "cell_type": "code",
   "execution_count": null,
   "id": "179c7e2e",
   "metadata": {},
   "outputs": [],
   "source": [
    "!pip install climetlab"
   ]
  },
  {
   "cell_type": "markdown",
   "id": "6e45c080",
   "metadata": {},
   "source": [
    "#### Ficheros de ejemplo"
   ]
  },
  {
   "cell_type": "code",
   "execution_count": null,
   "id": "e9d6c447",
   "metadata": {},
   "outputs": [],
   "source": [
    "!test -f ecmwf_example.grib || wget https://owncloud.aemet.es/index.php/s/Dw51cjX9pdpTECD/download -O ecmwf_example.grib\n",
    "!test -f air_quality.grb2 || wget https://owncloud.aemet.es/index.php/s/XsRZh7OezHwcARx/download -O air_quality.grb2\n",
    "!test -f harmonie_example.grib || wget https://owncloud.aemet.es/index.php/s/uJg7UMbNaSiMSGh/download -O harmonie_example.grib"
   ]
  },
  {
   "cell_type": "markdown",
   "id": "f7ea2e2a",
   "metadata": {},
   "source": [
    "### Estructura de un fichero grib. Grib_tools"
   ]
  },
  {
   "cell_type": "markdown",
   "id": "7c7ebcbb",
   "metadata": {},
   "source": [
    "- Unas palabras sobre gribs\n",
    "- grib1 y grib2\n",
    "- conversiones grib1 a grib2, a netcdf"
   ]
  },
  {
   "cell_type": "markdown",
   "id": "766cff68",
   "metadata": {},
   "source": [
    "Un fichero grib está compuesto de varios mensajes grib. Cada mensaje grib corresponde a un campo meteorológico (un \"mapa\"). Por ello, si queremos representar distintos niveles del modelo, o distintos instantes de tiempo, o distintos parámetros meteorológicos, necesitaremos distintos mensajes grib para ello."
   ]
  },
  {
   "cell_type": "markdown",
   "id": "c51f4a64",
   "metadata": {},
   "source": [
    "Cada mensaje grib tiene una estructura determinada. Se divide en varias secciones en las que se incluyen los metadatos, y de los valores predichos. Los [estándares](https://library.wmo.int/index.php?lvl=notice_display&id=10684) a seguir han sido determinados por la OMM. Hay también una página del ECMWF con el [resumen de los códigos](https://codes.ecmwf.int/grib/format/)."
   ]
  },
  {
   "cell_type": "markdown",
   "id": "8793888e",
   "metadata": {},
   "source": [
    "Las [grib keys](https://confluence.ecmwf.int/display/ECC/GRIB+Keys) son los metadatos de cada mensaje grib. Nos informan sobre características tales como.  \n",
    "Algunas keys importantes son:\n",
    "- centre: centro de origen del grib (notar que cada centro tendrá su tabla de definiciones)\n",
    "- edition: indica si el fichero grib es de tipo 1 o 2\n",
    "- gridType: tipo de grid (por ejemplo, regular_ll)\n",
    "- table2Version: tabla de parámetros a la que pertenece el parámetro\n",
    "- indicatorOfParameter: parámetro (para grib1)\n",
    "- level: nivel\n",
    "- typeOfLevel: tipo de nivel (superficie, nivel de presión ...)\n",
    "- paramId: key computada que el ECMWF utiliza para facilitar la identificación del parámetro \n",
    "- dataDate: fecha de ejecución del modelo\n",
    "- dataTime: hora de ejecución del modelo (\"pasada\")\n",
    "- step: alcance (normalmente en horas)\n",
    "- shortName: nombre corto del parámetro (depende de la tabla de definiciones)\n",
    "- name: nombre largo del parámetro (depende de la tabla de definiciones)\n",
    "\n",
    "Otras keys dan información sobre la distribución espacial de los puntos:\n",
    "- longitudeOfFirstGridPointInDegrees\n",
    "- latitudeOfFirstGridPointInDegrees\n",
    "- longitudeOfLastGridPointInDegrees\n",
    "- latitudeOfLastGridPointInDegrees\n",
    "- iDirectionIncrementInDegrees\n",
    "- jDirectionIncrementInDegrees\n",
    "- Ni\n",
    "- Nj"
   ]
  },
  {
   "cell_type": "markdown",
   "id": "e5b39aa3",
   "metadata": {},
   "source": [
    "Manejar ficheros grib puede ser algo complicado. El ECMWF ha desarrollado un conjunto de comandos, las [grib tools](https://confluence.ecmwf.int/display/ECC/GRIB+tools), que nos pueden ayudar a tener una toma de contacto inicial con un fichero grib y conocer como es su interior de forma superficial.\n",
    "\n",
    "Aquí veremos tres de ellas: `grib_ls`, `grib_dump` y `grib_copy`."
   ]
  },
  {
   "cell_type": "markdown",
   "id": "718a7180",
   "metadata": {},
   "source": [
    "`grib_ls` muestra el contenido de algunas keys de un fichero grib. Da una línea por cada mensaje grib:"
   ]
  },
  {
   "cell_type": "code",
   "execution_count": null,
   "id": "ec6b4eb6",
   "metadata": {},
   "outputs": [],
   "source": [
    "!grib_ls ecmwf_example.grib"
   ]
  },
  {
   "cell_type": "code",
   "execution_count": null,
   "id": "bcbe1231",
   "metadata": {},
   "outputs": [],
   "source": [
    "# Cuidado con mayúsculas y espacios!\n",
    "!grib_ls -p paramId,shortName,dataDate,dataTime,step ecmwf_example.grib"
   ]
  },
  {
   "cell_type": "markdown",
   "id": "dd990593",
   "metadata": {},
   "source": [
    "Hay que tener en cuenta que algunos parámetros son acumulados:"
   ]
  },
  {
   "cell_type": "code",
   "execution_count": null,
   "id": "b0555f2f",
   "metadata": {},
   "outputs": [],
   "source": [
    "!grib_ls -w paramId=169 -p paramId,shortName,dataDate,dataTime,step,average ecmwf_example.grib"
   ]
  },
  {
   "cell_type": "markdown",
   "id": "1c0cf857",
   "metadata": {},
   "source": [
    "`grib_dump` nos da el valor de todas las keys codificadas del grib:"
   ]
  },
  {
   "cell_type": "code",
   "execution_count": null,
   "id": "134b2d07",
   "metadata": {},
   "outputs": [],
   "source": [
    "!grib_dump ecmwf_example.grib | head -n 120"
   ]
  },
  {
   "cell_type": "markdown",
   "id": "ba8cb6f7",
   "metadata": {},
   "source": [
    "También se pueden obtener en formato json:"
   ]
  },
  {
   "cell_type": "code",
   "execution_count": null,
   "id": "e5d2ac92",
   "metadata": {},
   "outputs": [],
   "source": [
    "!grib_dump -j ecmwf_example.grib | head -n 50"
   ]
  },
  {
   "cell_type": "markdown",
   "id": "0f7bcd09",
   "metadata": {},
   "source": [
    "Para aclarar qué código corresponden a cada parámetro podemos consultar las [tablas de parámetros](https://codes.ecmwf.int/grib/param-db/). Estas tablas son válidas para gribs procedentes del ECMWF."
   ]
  },
  {
   "cell_type": "markdown",
   "id": "254ac55b",
   "metadata": {},
   "source": [
    "`grib_copy` filtra los mensajes grib que especifiquemos copiándolos en un nuevo grib:"
   ]
  },
  {
   "cell_type": "code",
   "execution_count": null,
   "id": "c7539541",
   "metadata": {},
   "outputs": [],
   "source": [
    "!grib_copy -w paramId=167 ecmwf_example.grib ecmwf_t2m.grib"
   ]
  },
  {
   "cell_type": "code",
   "execution_count": null,
   "id": "5a24e20f",
   "metadata": {},
   "outputs": [],
   "source": [
    "!grib_ls -p paramId,shortName,dataDate,dataTime,step ecmwf_t2m.grib"
   ]
  },
  {
   "cell_type": "markdown",
   "id": "431a57e3",
   "metadata": {},
   "source": [
    "### Paquete eccodes"
   ]
  },
  {
   "cell_type": "markdown",
   "id": "1ba9a2a6",
   "metadata": {},
   "source": [
    "[ecCodes](https://confluence.ecmwf.int/display/ECC/ecCodes+Home) es un paquete desarrollado por el ECMWF que proporciona una API y un conjunto de herramientas para decodificar y codificar ficheros con formato GRIB (utilizado para guardar información de modelos meteorológicos) y BUFR (utilizado para guardar información de observaciones). "
   ]
  },
  {
   "cell_type": "markdown",
   "id": "258e0b5f",
   "metadata": {},
   "source": [
    "La API original está escrita en C, y permite manejar la memoria directamente leyendo cada uno de los mensajes del fichero grib:"
   ]
  },
  {
   "cell_type": "markdown",
   "id": "270f7d6c",
   "metadata": {},
   "source": [
    "![flujo basico C](flujo_basico_C.png)"
   ]
  },
  {
   "cell_type": "markdown",
   "id": "c926170a",
   "metadata": {},
   "source": [
    "Hay también una interfaz para Fortran y para python.  \n",
    "La interfaz de python nos oculta la mayor parte de la gestión de memoria (pero cuidado con codes_release!), evitándonos el trabajo de tener que manejarla directamente:"
   ]
  },
  {
   "cell_type": "markdown",
   "id": "db12b7fc",
   "metadata": {},
   "source": [
    "![flujo_basico_python](flujo_basico_python.png)"
   ]
  },
  {
   "cell_type": "code",
   "execution_count": null,
   "id": "4b953553",
   "metadata": {},
   "outputs": [],
   "source": [
    "import eccodes as ec"
   ]
  },
  {
   "cell_type": "code",
   "execution_count": null,
   "id": "1d290ae9",
   "metadata": {},
   "outputs": [],
   "source": [
    "f = open(\"ecmwf_example.grib\", \"rb\")"
   ]
  },
  {
   "cell_type": "code",
   "execution_count": null,
   "id": "67f45562",
   "metadata": {},
   "outputs": [],
   "source": [
    "gid = ec.codes_new_from_file(f, ec.CODES_PRODUCT_GRIB)"
   ]
  },
  {
   "cell_type": "code",
   "execution_count": null,
   "id": "dcdf527c",
   "metadata": {},
   "outputs": [],
   "source": [
    "ec.codes_get(gid, \"paramId\")"
   ]
  },
  {
   "cell_type": "code",
   "execution_count": null,
   "id": "94060f5c",
   "metadata": {},
   "outputs": [],
   "source": [
    "ec.codes_get(gid, \"dataDate\")"
   ]
  },
  {
   "cell_type": "code",
   "execution_count": null,
   "id": "a43ace3b",
   "metadata": {},
   "outputs": [],
   "source": [
    "ec.codes_release(gid) # No olvidar liberar la memoria!"
   ]
  },
  {
   "cell_type": "code",
   "execution_count": null,
   "id": "15f7bd96",
   "metadata": {},
   "outputs": [],
   "source": [
    "f.close()"
   ]
  },
  {
   "cell_type": "markdown",
   "id": "0f74bfcf",
   "metadata": {},
   "source": [
    "Hay una [documentación en línea](https://sites.ecmwf.int/docs/eccodes/namespaceec_codes.html) sobre las distintas funciones de eccodes."
   ]
  },
  {
   "cell_type": "markdown",
   "id": "66c84c20",
   "metadata": {},
   "source": [
    "Algo un poco más complicado: extraemos el valor del campo en un punto de longitud y latitud determinadas:"
   ]
  },
  {
   "cell_type": "code",
   "execution_count": null,
   "id": "4faa9962",
   "metadata": {},
   "outputs": [],
   "source": [
    "def nearest_value(filename, input_paramid, latitude, longitude):\n",
    "    \n",
    "    f = open(filename, \"rb\")\n",
    "    values = {}\n",
    "    \n",
    "    while True:\n",
    "        gid = ec.codes_new_from_file(f, ec.CODES_PRODUCT_GRIB)\n",
    "        if gid is None: break\n",
    "        \n",
    "        paramid = ec.codes_get(gid, \"paramId\")\n",
    "        step = ec.codes_get(gid, \"step\")\n",
    "        if paramid==input_paramid:\n",
    "            values[step] = ec.codes_grib_find_nearest(gid, latitude, longitude)[0].value\n",
    "            #index_position = ec.codes_grib_find_nearest(gid, latitude, longitude)[0].index\n",
    "        \n",
    "        ec.codes_release(gid)\n",
    "\n",
    "    f.close()\n",
    "    #print(index_position)\n",
    "    \n",
    "    return values"
   ]
  },
  {
   "cell_type": "code",
   "execution_count": null,
   "id": "1bfe0b57",
   "metadata": {},
   "outputs": [],
   "source": [
    "nearest_value(\"ecmwf_example.grib\", 167, 40, -5)"
   ]
  },
  {
   "cell_type": "markdown",
   "id": "067a70c7",
   "metadata": {},
   "source": [
    "Hay definidas una [serie de excepciones específicas en eccodes](https://confluence.ecmwf.int/display/ECC/Python+exception+classes) para que se puedan tratar posibles errores:"
   ]
  },
  {
   "cell_type": "code",
   "execution_count": null,
   "id": "a107706b",
   "metadata": {},
   "outputs": [],
   "source": [
    "try:\n",
    "    nearest_value(\"ecmwf_example.grib\", 167, 80, -5)\n",
    "except ec.OutOfAreaError:\n",
    "    print(\"La localización especificada está fuera del área del grib!\")"
   ]
  },
  {
   "cell_type": "markdown",
   "id": "f61d34df",
   "metadata": {},
   "source": [
    "Con la función codes_get_values podemos extraer todos los valores del mensaje grib:"
   ]
  },
  {
   "cell_type": "code",
   "execution_count": null,
   "id": "c0fd9434",
   "metadata": {},
   "outputs": [],
   "source": [
    "f = open(\"ecmwf_example.grib\", \"rb\")\n",
    "\n",
    "gid = ec.codes_new_from_file(f, ec.CODES_PRODUCT_GRIB)       \n",
    "all_values = ec.codes_get_values(gid)\n",
    "ec.codes_release(gid)\n",
    "\n",
    "f.close()"
   ]
  },
  {
   "cell_type": "code",
   "execution_count": null,
   "id": "d2dab08c",
   "metadata": {},
   "outputs": [],
   "source": [
    "print(all_values)"
   ]
  },
  {
   "cell_type": "markdown",
   "id": "b9e4239c",
   "metadata": {},
   "source": [
    "Si conocemos el índice de un determinado valor podremos extraerlo directamete:"
   ]
  },
  {
   "cell_type": "code",
   "execution_count": null,
   "id": "62dfaf81",
   "metadata": {},
   "outputs": [],
   "source": [
    "index_position=6090\n",
    "print(all_values[index_position])"
   ]
  },
  {
   "cell_type": "markdown",
   "id": "728d1f43",
   "metadata": {},
   "source": [
    "### Paquete xarray"
   ]
  },
  {
   "cell_type": "code",
   "execution_count": null,
   "id": "ee59ea23",
   "metadata": {},
   "outputs": [],
   "source": [
    "from datetime import timedelta\n",
    "import numpy as np\n",
    "import matplotlib.pyplot as plt\n",
    "import xarray as xr\n",
    "import cartopy.crs as ccrs"
   ]
  },
  {
   "cell_type": "code",
   "execution_count": null,
   "id": "ac9e5238",
   "metadata": {},
   "outputs": [],
   "source": [
    "ds = xr.load_dataset(\"ecmwf_example.grib\", engine=\"cfgrib\")"
   ]
  },
  {
   "cell_type": "markdown",
   "id": "02679385",
   "metadata": {},
   "source": [
    "Algunas grib keys se guardan en el atributo attrs:"
   ]
  },
  {
   "cell_type": "code",
   "execution_count": null,
   "id": "c920f194",
   "metadata": {},
   "outputs": [],
   "source": [
    "ds.attrs"
   ]
  },
  {
   "cell_type": "code",
   "execution_count": null,
   "id": "56585208",
   "metadata": {},
   "outputs": [],
   "source": [
    "ds.t2m.attrs"
   ]
  },
  {
   "cell_type": "markdown",
   "id": "b0a7f8b2",
   "metadata": {},
   "source": [
    "Notar que xarray (con cfgrib) no leerá correctamente [gribs heterogéneos](https://github.com/ecmwf/cfgrib/blob/master/README.rst)"
   ]
  },
  {
   "cell_type": "markdown",
   "id": "5212b74e",
   "metadata": {},
   "source": [
    "Seleccionamos el campo de la temperatura a 2m, para el alcance h+12:"
   ]
  },
  {
   "cell_type": "code",
   "execution_count": null,
   "id": "0c441e74",
   "metadata": {},
   "outputs": [],
   "source": [
    "t_h12 = ds.sel(step = timedelta(hours=12)).t2m - 273.15"
   ]
  },
  {
   "cell_type": "code",
   "execution_count": null,
   "id": "19374b6e",
   "metadata": {},
   "outputs": [],
   "source": [
    "t_h12.plot()"
   ]
  },
  {
   "cell_type": "markdown",
   "id": "ce1f9b92",
   "metadata": {},
   "source": [
    "O, si usamos cartopy para mostrar el mapa en proyección Mercator, por ejemplo, e incluimos la línea de costa:"
   ]
  },
  {
   "cell_type": "code",
   "execution_count": null,
   "id": "70eafb4a",
   "metadata": {},
   "outputs": [],
   "source": [
    "plt.figure(figsize=(8,4.5))\n",
    "ax = plt.axes(projection=ccrs.Mercator())\n",
    "ax.coastlines()\n",
    "t_h12.plot.contourf(ax=ax, transform=ccrs.PlateCarree(), levels= np.arange(-20,25,1))\n",
    "plt.show()"
   ]
  },
  {
   "cell_type": "markdown",
   "id": "93497305",
   "metadata": {},
   "source": [
    "### Paquete metview"
   ]
  },
  {
   "cell_type": "markdown",
   "id": "85b3eb03",
   "metadata": {},
   "source": [
    "[Metview](https://confluence.ecmwf.int/display/METV/Metview) ([documentación aquí](https://metview.readthedocs.io/en/latest/)) es una aplicación desarrollada por el ECMWF que proporciona un entorno completo de trabajo para meteorólogos. Da herramientas para el acceso, procesamiento y visualización de datos meteorológicos (ver la [galería](https://confluence.ecmwf.int/display/METV/Gallery))."
   ]
  },
  {
   "cell_type": "markdown",
   "id": "db32443b",
   "metadata": {},
   "source": [
    "Está basado en una interfaz con iconos, pero también dispone de una interfaz python para trabajo en batch:"
   ]
  },
  {
   "cell_type": "markdown",
   "id": "f1a4383b",
   "metadata": {},
   "source": [
    "![pantalla_metview](pantalla_metview.png)"
   ]
  },
  {
   "cell_type": "markdown",
   "id": "0881fb7e",
   "metadata": {},
   "source": [
    "Nosotros la utilizaremos aquí solamente para ilustrar el [recorte e interpolación de campos](https://www.ecmwf.int/en/newsletter/169/computing/advanced-regridding-metview)."
   ]
  },
  {
   "cell_type": "markdown",
   "id": "72494c78",
   "metadata": {},
   "source": [
    "Vamos a tomar el fichero grib anterior con la temperatura a 2m, y vamos a recortar el área de Balares y lo interpolaremos a 0.5 grados (originalmente tiene una resolución de 0.1 grados):"
   ]
  },
  {
   "cell_type": "code",
   "execution_count": null,
   "id": "8622c67e",
   "metadata": {},
   "outputs": [],
   "source": [
    "import metview as mv"
   ]
  },
  {
   "cell_type": "code",
   "execution_count": null,
   "id": "1ab30535",
   "metadata": {},
   "outputs": [],
   "source": [
    "input = mv.read(\"ecmwf_t2m.grib\")\n",
    "target_grid = {'grid':[0.1,0.1], \n",
    "               'area':[38.5, 1, 40.5, 5]} # S,W,N,E\n",
    "output_field = mv.regrid(target_grid, data=input)\n",
    "output_field.write(\"ecmwf_recorte.grib\")"
   ]
  },
  {
   "cell_type": "code",
   "execution_count": null,
   "id": "8a342933",
   "metadata": {},
   "outputs": [],
   "source": [
    "!grib_dump ecmwf_recorte.grib | head -n 100"
   ]
  },
  {
   "cell_type": "markdown",
   "id": "7293cc47",
   "metadata": {},
   "source": [
    "Si ahora lo ploteamos (también usando Metview):"
   ]
  },
  {
   "cell_type": "code",
   "execution_count": null,
   "id": "0483024f",
   "metadata": {},
   "outputs": [],
   "source": [
    "field_12 = output_field.select(step=12) # Escogemos el campo para el alcance h+12"
   ]
  },
  {
   "cell_type": "code",
   "execution_count": null,
   "id": "b6e52a27",
   "metadata": {},
   "outputs": [],
   "source": [
    "shade_cont = mv.mcont(legend='on',\n",
    "                      contour='off',\n",
    "                      contour_level_selection_type='interval',\n",
    "                      contour_interval=1,\n",
    "                      contour_min_level=5,\n",
    "                      contour_max_level=15,\n",
    "                      contour_shade='on',\n",
    "                      contour_shade_method='area_fill',   \n",
    "                      #contour_shade_technique='grid_shading',  # elegimos shade_method o shade_technique                      \n",
    "                      contour_shade_colour_method='calculate',\n",
    "                      contour_shade_colour_direction=\"clockwise\",\n",
    "                      contour_shade_max_level_colour=\"red\",\n",
    "                      contour_shade_min_level_colour=\"yellow\")\n",
    "\n",
    "balearic_map = mv.geoview(map_area_definition='corners',\n",
    "                          area=[38.5, 1, 40.5, 5]) # [S,W,N,E]\n",
    "\n",
    "mv.plot(balearic_map, field_12, shade_cont)"
   ]
  },
  {
   "cell_type": "markdown",
   "id": "b47601bf",
   "metadata": {},
   "source": [
    "Para dibujar este mapa hemos utilizado varias de las [funciones de visualización](https://metview.readthedocs.io/en/latest/gen_files/toc/plot.html) de Metview."
   ]
  },
  {
   "cell_type": "markdown",
   "id": "ee7d4ad9",
   "metadata": {},
   "source": [
    "También se puede usar un grib plantilla de forma que nuestro grib se adapte a sus características.  \n",
    "Por ejemplo, si queremos que nuestro fichero de Harmonie copie el recorte e interpolación del fichero recortado del ECMWF (o sea, que lo use como plantilla):"
   ]
  },
  {
   "cell_type": "code",
   "execution_count": null,
   "id": "e0f226a4",
   "metadata": {},
   "outputs": [],
   "source": [
    "input = mv.read(\"harmonie_example.grib\")\n",
    "target_grid = {'grid_definition_mode':'template', \n",
    "               'template_source': './ecmwf_recorte.grib'}\n",
    "output_field = mv.regrid(target_grid, data=input)\n",
    "output_field.write(\"harmonie_recorte.grib\")"
   ]
  },
  {
   "cell_type": "code",
   "execution_count": null,
   "id": "fee2547d",
   "metadata": {},
   "outputs": [],
   "source": [
    "!grib_dump harmonie_recorte.grib | head -n 100"
   ]
  },
  {
   "cell_type": "markdown",
   "id": "60b90262",
   "metadata": {},
   "source": [
    "### Paquete climetlab"
   ]
  },
  {
   "cell_type": "markdown",
   "id": "49a18a86",
   "metadata": {},
   "source": [
    "[Climetlab](https://climetlab.readthedocs.io/en/latest/) es un paquete de Python cuyo objetivo es simplificar el acceso a datos meteorológicos y climáticos, para que los usuarios puedan dedicarse al estudio de los datos y no a resolver problemas técnicos como el acceso y formato de los datos. Está todavía en desarrollo (de hecho puede que sea sustituido por otro paquete llamado earthkit)."
   ]
  },
  {
   "cell_type": "code",
   "execution_count": null,
   "id": "40b01435",
   "metadata": {},
   "outputs": [],
   "source": [
    "import climetlab as cml"
   ]
  },
  {
   "cell_type": "markdown",
   "id": "554dcaeb",
   "metadata": {},
   "source": [
    "Un ejemplo utilizando datos libres:"
   ]
  },
  {
   "cell_type": "code",
   "execution_count": null,
   "id": "59335899",
   "metadata": {},
   "outputs": [],
   "source": [
    "source = cml.load_source(\"ecmwf-open-data\", param=[\"2t\", \"msl\"],)\n",
    "for s in source:\n",
    "    cml.plot_map(s, title=True)\n",
    "source.to_xarray()"
   ]
  },
  {
   "cell_type": "markdown",
   "id": "bb58ed36",
   "metadata": {},
   "source": [
    "Este código sólo funcionará si se dispone de una API key para acceder al Climate Data Store:"
   ]
  },
  {
   "cell_type": "code",
   "execution_count": null,
   "id": "97869a11",
   "metadata": {},
   "outputs": [],
   "source": [
    "source = cml.load_source(\n",
    "    \"cds\",\n",
    "    \"reanalysis-era5-single-levels\",\n",
    "    variable=[\"2t\", \"msl\"],\n",
    "    product_type=\"reanalysis\",\n",
    "    area=[50, -50, 20, 50],\n",
    "    date=\"2011-12-02\", # [\"2011-12-02\", \"2011-12-03\"] for several dates\n",
    "    time=\"12:00\",\n",
    ")\n",
    "for s in source:\n",
    "    cml.plot_map(s)"
   ]
  }
 ],
 "metadata": {
  "kernelspec": {
   "display_name": "Python 3 (ipykernel)",
   "language": "python",
   "name": "python3"
  },
  "language_info": {
   "codemirror_mode": {
    "name": "ipython",
    "version": 3
   },
   "file_extension": ".py",
   "mimetype": "text/x-python",
   "name": "python",
   "nbconvert_exporter": "python",
   "pygments_lexer": "ipython3",
   "version": "3.10.1"
  }
 },
 "nbformat": 4,
 "nbformat_minor": 5
}
