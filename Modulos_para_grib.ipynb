{
 "cells": [
  {
   "cell_type": "markdown",
   "id": "0048f091",
   "metadata": {},
   "source": [
    "# Módulos útiles para ficheros grib"
   ]
  },
  {
   "cell_type": "markdown",
   "id": "05529d9b",
   "metadata": {},
   "source": [
    "Para abrir el notebook en Colab pulsa el botón: <a target=\"_blank\" href=\"https://colab.research.google.com/github/jlcasador/curso_formatos_meteo/blob/main/Modulos_para_grib.ipynb\">\n",
    "  <img src=\"https://colab.research.google.com/assets/colab-badge.svg\" alt=\"Open In Colab\"/>\n",
    "</a>"
   ]
  },
  {
   "cell_type": "markdown",
   "id": "d570351d",
   "metadata": {},
   "source": [
    "[GRIB](https://confluence.ecmwf.int/display/CKB/What+are+GRIB+files+and+how+can+I+read+them) es un acrónimo cuyas siglas corresponden a \"General Regularly distributed Information in Binary form\".  \n",
    "Es un formato estándar de la Organización Meteorológica Mundial (OMM) para archivar e intercambiar datos meteorológicos."
   ]
  },
  {
   "cell_type": "markdown",
   "id": "3fbee0fb",
   "metadata": {},
   "source": [
    "Esta foto puede representar la jerarquía de paquetes que vamos a usar en este curso:"
   ]
  },
  {
   "cell_type": "markdown",
   "id": "c1d355d8",
   "metadata": {},
   "source": [
    "![jerarquía de módulos](matroshka_grib_60.jpg)"
   ]
  },
  {
   "cell_type": "markdown",
   "id": "b8db8cbd",
   "metadata": {},
   "source": [
    "## Instalación"
   ]
  },
  {
   "cell_type": "markdown",
   "id": "bfe0000a",
   "metadata": {},
   "source": [
    "### Instalación de eccodes utilizando CMake"
   ]
  },
  {
   "cell_type": "code",
   "execution_count": null,
   "id": "3991b246",
   "metadata": {},
   "outputs": [],
   "source": [
    "!wget https://confluence.ecmwf.int/download/attachments/45757960/eccodes-2.30.0-Source.tar.gz?api=v2 -O eccodes-2.30.0-Source.tar.gz\n",
    "!tar -xzf  /content/eccodes-2.30.0-Source.tar.gz\n",
    "!mkdir build ; cd build\n",
    "%cd build\n",
    "!cmake -DCMAKE_INSTALL_PREFIX=eccodes ../eccodes-2.30.0-Source\n",
    "!make -j 4\n",
    "!make install\n",
    "%cd /content"
   ]
  },
  {
   "cell_type": "code",
   "execution_count": null,
   "id": "c47ad683",
   "metadata": {},
   "outputs": [],
   "source": [
    "import os\n",
    "PATH = os.getenv('PATH')\n",
    "os.environ['PATH'] = PATH + ':/content/build/eccodes/bin'"
   ]
  },
  {
   "cell_type": "code",
   "execution_count": null,
   "id": "ae75aa00",
   "metadata": {},
   "outputs": [],
   "source": [
    "!wget https://github.com/waveology/tests/raw/main/local_grib_definitions.rar\n",
    "!wget https://github.com/waveology/tests/raw/main/data.grib\n",
    "!unrar x -o+ /content/local_grib_definitions.rar"
   ]
  },
  {
   "cell_type": "code",
   "execution_count": null,
   "id": "cd3a4e72",
   "metadata": {},
   "outputs": [],
   "source": [
    "!codes_info"
   ]
  },
  {
   "cell_type": "code",
   "execution_count": null,
   "id": "971dfde3",
   "metadata": {},
   "outputs": [],
   "source": [
    "os.environ['GRIB_DEFINITION_PATH'] = '/content/local_grib_definitions:/usr/local/share/grib_api/definitions'"
   ]
  },
  {
   "cell_type": "code",
   "execution_count": null,
   "id": "41b6ebc0",
   "metadata": {},
   "outputs": [],
   "source": []
  },
  {
   "cell_type": "markdown",
   "id": "dffabb3f",
   "metadata": {},
   "source": [
    "### Instalación de eccodes con Conda"
   ]
  },
  {
   "cell_type": "code",
   "execution_count": null,
   "id": "14c08bf2",
   "metadata": {},
   "outputs": [],
   "source": [
    "!wget https://github.com/waveology/tests/raw/main/local_grib_definitions.rar\n",
    "!wget https://github.com/waveology/tests/raw/main/data.grib\n",
    "!unrar x -o+ /content/local_grib_definitions.rar && rm -rf /content/local_grib_definitions.rar"
   ]
  },
  {
   "cell_type": "code",
   "execution_count": null,
   "id": "cb72b454",
   "metadata": {},
   "outputs": [],
   "source": [
    "!pip install -q condacolab\n",
    "import condacolab\n",
    "condacolab.install() # expect a kernel restart"
   ]
  },
  {
   "cell_type": "code",
   "execution_count": null,
   "id": "7ff921c1",
   "metadata": {},
   "outputs": [],
   "source": [
    "!conda install -q eccodes -c conda-forge"
   ]
  },
  {
   "cell_type": "code",
   "execution_count": null,
   "id": "839ef618",
   "metadata": {},
   "outputs": [],
   "source": [
    "!codes_info"
   ]
  },
  {
   "cell_type": "code",
   "execution_count": null,
   "id": "2579e2b1",
   "metadata": {},
   "outputs": [],
   "source": [
    "import os\n",
    "os.environ['GRIB_DEFINITION_PATH'] = '/content/local_grib_definitions:/usr/local/share/grib_api/definitions'\n",
    "!echo $GRIB_DEFINITION_PATH"
   ]
  },
  {
   "cell_type": "markdown",
   "id": "60d4af48",
   "metadata": {},
   "source": [
    "### Instalación de climetlab"
   ]
  },
  {
   "cell_type": "code",
   "execution_count": null,
   "id": "2320ffdc",
   "metadata": {},
   "outputs": [],
   "source": [
    "!pip install climetlab"
   ]
  },
  {
   "cell_type": "markdown",
   "id": "33119d02",
   "metadata": {},
   "source": [
    "## Grib_tools"
   ]
  },
  {
   "cell_type": "code",
   "execution_count": null,
   "id": "07f2079e",
   "metadata": {},
   "outputs": [],
   "source": []
  },
  {
   "cell_type": "markdown",
   "id": "4b20a23e",
   "metadata": {},
   "source": [
    "## Módulo eccodes"
   ]
  },
  {
   "cell_type": "code",
   "execution_count": 1,
   "id": "2939a8b1",
   "metadata": {},
   "outputs": [
    {
     "name": "stdout",
     "output_type": "stream",
     "text": [
      "total 752\r\n",
      "-rw-r--r-- 1 pn31 pn   8926 Jul  1 10:10 Descargas_MARS.ipynb\r\n",
      "-rw-r--r-- 1 pn31 pn 331200 Jun 11 19:41 ecmwf_surface.grib\r\n",
      "-rw-r--r-- 1 pn31 pn   7207 Jun 27 15:58 extr_mars_0627.ipynb\r\n",
      "-rw-r--r-- 1 pn31 pn  36948 Jul  1 10:15 flujo_basico_C.jpg\r\n",
      "-rw-r--r-- 1 pn31 pn  39713 Jul  1 10:10 flujo_basico_C.png\r\n",
      "-rw-r--r-- 1 pn31 pn  42117 Jul  1 10:15 flujo_basico_python.jpg\r\n",
      "-rw-r--r-- 1 pn31 pn  43265 Jul  1 10:10 flujo_basico_python.png\r\n",
      "-rw-r--r-- 1 pn31 pn   6504 Jun 27 06:28 Introduccion_fuentes.ipynb\r\n",
      "-rw-r--r-- 1 pn31 pn  83491 Jun 10 17:16 matroshka_grib_60.jpg\r\n",
      "-rw-r--r-- 1 pn31 pn 118943 Jul  1 10:15 Modulos_para_grib.ipynb\r\n",
      "-rw-r--r-- 1 pn31 pn     23 Jun 11 20:06 README.md\r\n"
     ]
    }
   ],
   "source": [
    "!ls -l"
   ]
  },
  {
   "cell_type": "markdown",
   "id": "d7b51121",
   "metadata": {},
   "source": [
    "![flujo basico C](flujo_basico_C.png)"
   ]
  },
  {
   "cell_type": "markdown",
   "id": "9e7b5cea",
   "metadata": {},
   "source": [
    "![flujo_basico_python](flujo_basico_python.png)"
   ]
  },
  {
   "cell_type": "markdown",
   "id": "89b58f52",
   "metadata": {},
   "source": [
    "https://www.ecmwf.int/en/newsletter/169/computing/advanced-regridding-metview"
   ]
  },
  {
   "cell_type": "markdown",
   "id": "a20c3fb5",
   "metadata": {},
   "source": [
    "https://metview.readthedocs.io/en/latest/"
   ]
  },
  {
   "cell_type": "markdown",
   "id": "12a8e09d",
   "metadata": {},
   "source": [
    "## Módulo xarray"
   ]
  },
  {
   "cell_type": "code",
   "execution_count": null,
   "id": "606e1871",
   "metadata": {},
   "outputs": [],
   "source": []
  },
  {
   "cell_type": "markdown",
   "id": "227165ce",
   "metadata": {},
   "source": [
    "## Módulo climetlab"
   ]
  },
  {
   "cell_type": "code",
   "execution_count": null,
   "id": "50566e20",
   "metadata": {},
   "outputs": [],
   "source": []
  }
 ],
 "metadata": {
  "kernelspec": {
   "display_name": "Python 3 (ipykernel)",
   "language": "python",
   "name": "python3"
  },
  "language_info": {
   "codemirror_mode": {
    "name": "ipython",
    "version": 3
   },
   "file_extension": ".py",
   "mimetype": "text/x-python",
   "name": "python",
   "nbconvert_exporter": "python",
   "pygments_lexer": "ipython3",
   "version": "3.10.1"
  }
 },
 "nbformat": 4,
 "nbformat_minor": 5
}
