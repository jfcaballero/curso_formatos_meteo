{
 "cells": [
  {
   "cell_type": "markdown",
   "id": "9792273d",
   "metadata": {},
   "source": [
    "![logoAEMET](img/logoAEMET_05.png)"
   ]
  },
  {
   "cell_type": "markdown",
   "id": "fc016b94",
   "metadata": {},
   "source": [
    "- **Autor:** Jose Luis Casado\n",
    "- **Institución:** AEMET"
   ]
  },
  {
   "cell_type": "markdown",
   "id": "c75d4b7d",
   "metadata": {},
   "source": [
    "---\n",
    "\n",
    "# Módulos útiles para ficheros grib\n",
    "\n",
    "---"
   ]
  },
  {
   "cell_type": "markdown",
   "id": "d30395b2",
   "metadata": {},
   "source": [
    "Para abrir el notebook en Colab pulsa el botón:"
   ]
  },
  {
   "cell_type": "markdown",
   "id": "dcdf8708",
   "metadata": {},
   "source": [
    "<a href=\"https://colab.research.google.com/github/jlcasador/curso_formatos_meteo/blob/main/Modulos_para_grib.ipynb\" target=\"_blank\"><img src=\"https://colab.research.google.com/assets/colab-badge.svg\" alt=\"Open In Colab\"/></a>"
   ]
  },
  {
   "cell_type": "markdown",
   "id": "635fff40",
   "metadata": {},
   "source": [
    "Esta foto puede representar la jerarquía de paquetes que vamos a usar en este curso:"
   ]
  },
  {
   "cell_type": "markdown",
   "id": "be301cca",
   "metadata": {},
   "source": [
    "![jerarquía de módulos](img/matroshka_grib_60.jpg)"
   ]
  },
  {
   "cell_type": "markdown",
   "id": "9b1d8df7",
   "metadata": {},
   "source": [
    "### Instalación"
   ]
  },
  {
   "cell_type": "markdown",
   "id": "12f2c683",
   "metadata": {},
   "source": [
    "#### Instalación de eccodes utilizando CMake"
   ]
  },
  {
   "cell_type": "markdown",
   "id": "2b4c99e5",
   "metadata": {},
   "source": [
    "Para instalar eccodes podemos seguir las [instrucciones de instalación de la web del ECMWF](https://confluence.ecmwf.int/display/ECC/ecCodes+installation), como sigue: "
   ]
  },
  {
   "cell_type": "code",
   "execution_count": null,
   "id": "1421d520",
   "metadata": {},
   "outputs": [],
   "source": [
    "!wget https://confluence.ecmwf.int/download/attachments/45757960/eccodes-2.30.0-Source.tar.gz?api=v2 -O eccodes-2.30.0-Source.tar.gz\n",
    "!tar -xzf  /content/eccodes-2.30.0-Source.tar.gz\n",
    "!mkdir build ; cd build\n",
    "%cd build\n",
    "!cmake -DCMAKE_INSTALL_PREFIX=eccodes ../eccodes-2.30.0-Source\n",
    "!make -j 4\n",
    "!make install\n",
    "%cd /content"
   ]
  },
  {
   "cell_type": "code",
   "execution_count": null,
   "id": "8a71e162",
   "metadata": {},
   "outputs": [],
   "source": [
    "# Para poder encontrar las grib tools\n",
    "import os\n",
    "PATH = os.getenv('PATH')\n",
    "os.environ['PATH'] = ':'.join([PATH, '/content/build/eccodes/bin'])"
   ]
  },
  {
   "cell_type": "code",
   "execution_count": null,
   "id": "44465d1a",
   "metadata": {},
   "outputs": [],
   "source": [
    "!codes_info"
   ]
  },
  {
   "cell_type": "markdown",
   "id": "a1954154",
   "metadata": {},
   "source": [
    "#### Instalación de eccodes con Conda"
   ]
  },
  {
   "cell_type": "markdown",
   "id": "385ffae1",
   "metadata": {},
   "source": [
    "Otra alternativa es instalar conda, y después instalar eccodes desde conda:"
   ]
  },
  {
   "cell_type": "code",
   "execution_count": null,
   "id": "d215f1a5",
   "metadata": {},
   "outputs": [],
   "source": [
    "!pip install -q condacolab\n",
    "import condacolab\n",
    "condacolab.install() # expect a kernel restart"
   ]
  },
  {
   "cell_type": "code",
   "execution_count": null,
   "id": "b7f15c2a",
   "metadata": {},
   "outputs": [],
   "source": [
    "!conda install -q eccodes -c conda-forge"
   ]
  },
  {
   "cell_type": "code",
   "execution_count": null,
   "id": "633f8d47",
   "metadata": {},
   "outputs": [],
   "source": [
    "!codes_info"
   ]
  },
  {
   "cell_type": "markdown",
   "id": "3778718f",
   "metadata": {},
   "source": [
    "#### Instalación de otros paquetes"
   ]
  },
  {
   "cell_type": "markdown",
   "id": "16d0c004",
   "metadata": {},
   "source": [
    "(Notar que xarray está instalado por defecto en este entorno)"
   ]
  },
  {
   "cell_type": "code",
   "execution_count": null,
   "id": "a653ffc8",
   "metadata": {},
   "outputs": [],
   "source": [
    "!conda install -c conda-forge cfgrib  # También se instala como parte de metview"
   ]
  },
  {
   "cell_type": "code",
   "execution_count": null,
   "id": "0c24a3dd",
   "metadata": {},
   "outputs": [],
   "source": [
    "!conda install metview-batch -c conda-forge\n",
    "#!conda install metview -c conda-forge # si se quiere instalar metview completo (con GUI)"
   ]
  },
  {
   "cell_type": "code",
   "execution_count": null,
   "id": "282936f3",
   "metadata": {},
   "outputs": [],
   "source": [
    "!conda install metview-python -c conda-forge"
   ]
  },
  {
   "cell_type": "code",
   "execution_count": null,
   "id": "30f69061",
   "metadata": {},
   "outputs": [],
   "source": [
    "!conda install -c conda-forge cartopy"
   ]
  },
  {
   "cell_type": "code",
   "execution_count": null,
   "id": "504321c5",
   "metadata": {},
   "outputs": [],
   "source": [
    "!pip install climetlab"
   ]
  },
  {
   "cell_type": "markdown",
   "id": "c0d67bd1",
   "metadata": {},
   "source": [
    "#### Ficheros de ejemplo"
   ]
  },
  {
   "cell_type": "code",
   "execution_count": null,
   "id": "29a6dda8",
   "metadata": {},
   "outputs": [],
   "source": [
    "!test -f ecmwf_example.grib || wget https://owncloud.aemet.es/index.php/s/Dw51cjX9pdpTECD/download -O ecmwf_example.grib\n",
    "!test -f air_quality.grb2 || wget https://owncloud.aemet.es/index.php/s/XsRZh7OezHwcARx/download -O air_quality.grb2\n",
    "!test -f harmonie_example.grib || wget https://owncloud.aemet.es/index.php/s/uJg7UMbNaSiMSGh/download -O harmonie_example.grib"
   ]
  },
  {
   "cell_type": "markdown",
   "id": "187ea3f1",
   "metadata": {},
   "source": [
    "### Estructura de un fichero grib. Grib_tools"
   ]
  },
  {
   "cell_type": "markdown",
   "id": "63f94239",
   "metadata": {},
   "source": [
    "[GRIB](https://confluence.ecmwf.int/display/CKB/What+are+GRIB+files+and+how+can+I+read+them) es un acrónimo cuyas siglas corresponden a \"General Regularly distributed Information in Binary form\".  \n",
    "Es un [formato estándar de la Organización Meteorológica Mundial (OMM)](https://library.wmo.int/index.php?lvl=notice_display&id=10684) para archivar e intercambiar datos meteorológicos."
   ]
  },
  {
   "cell_type": "markdown",
   "id": "b7004fce",
   "metadata": {},
   "source": [
    "Un fichero grib está compuesto de varios mensajes (o registros) grib. Cada mensaje grib corresponde a un campo meteorológico (un \"mapa\"). Por ello, si queremos representar distintos niveles del modelo, o distintos instantes de tiempo, o distintos parámetros meteorológicos, necesitaremos distintos mensajes grib para ello."
   ]
  },
  {
   "cell_type": "markdown",
   "id": "2e57615a",
   "metadata": {},
   "source": [
    "Una sutil pero importante diferencia entre el formato GRIB y netCDF es que GRIB es un formato para registros (que se agrupan en ficheros), mientras que netCDF es un formato para ficheros."
   ]
  },
  {
   "cell_type": "markdown",
   "id": "641baf65",
   "metadata": {},
   "source": [
    "Cada mensaje grib tiene una estructura determinada. Se divide en varias secciones, en las que se incluyen metadatos y los datos propiamente dichos, siguiendo el [estándar](https://library.wmo.int/index.php?lvl=notice_display&id=10684) establecido por la OMM. "
   ]
  },
  {
   "cell_type": "markdown",
   "id": "0c7b69dc",
   "metadata": {},
   "source": [
    "Parte de la información contenida en un fichero grib está representada por códigos numéricos. Hay una serie de [tablas de códigos](https://codes.ecmwf.int/grib/format/) externas en las que se puede consultar su significado."
   ]
  },
  {
   "cell_type": "markdown",
   "id": "9afbd4b0",
   "metadata": {},
   "source": [
    "En realidad hay dos estándares para este formato: el GRIB edición 1 (o GRIB1) y el GRIB edición 2 (GRIB2). Estos dos estándares tienen estructuras internas distintas (mucho más detallada para GRIB2), y la codificación de los parámetros es muy diferente en ambos. El software que vamos a ver a continuación trata indistintamente ambos tipos por lo que estas diferencias serán normalmente transparente para nosotros, pero es importante conocer algunas características de los dos estándares."
   ]
  },
  {
   "cell_type": "markdown",
   "id": "2aa0c1f9",
   "metadata": {},
   "source": [
    "Los ficheros grib son binarios, por lo que es necesario utilizar software específico para leerlos. Hay una [gran cantidad de aplicaciones](https://en.wikipedia.org/wiki/GRIB) disponibles para ello."
   ]
  },
  {
   "cell_type": "markdown",
   "id": "a9be962d",
   "metadata": {},
   "source": [
    "Las [grib keys](https://confluence.ecmwf.int/display/ECC/GRIB+Keys) son los metadatos de cada mensaje grib. Nos informan sobre características tales como el parámetro predicho, variables temporales y espaciales, estadísticas, etc. Hay keys codificadas (dentro del fichero), y otras computadas (calculadas a partir de otras keys)."
   ]
  },
  {
   "cell_type": "markdown",
   "id": "66496e8a",
   "metadata": {},
   "source": [
    "Algunas keys importantes son:\n",
    "- centre: centro de origen del grib (notar que cada centro tendrá su tabla de definiciones)\n",
    "- edition: indica si el fichero grib es de tipo 1 o 2\n",
    "- gridType: tipo de grid (por ejemplo, regular_ll)\n",
    "- table2Version: tabla de parámetros a la que pertenece el parámetro\n",
    "- indicatorOfParameter: parámetro (para grib1)\n",
    "- level: nivel\n",
    "- typeOfLevel: tipo de nivel (superficie, nivel de presión ...)\n",
    "- paramId: key computada que el ECMWF utiliza para facilitar la identificación del parámetro \n",
    "- dataDate: fecha de ejecución del modelo\n",
    "- dataTime: hora de ejecución del modelo (\"pasada\")\n",
    "- step: alcance (normalmente en horas)\n",
    "- shortName: nombre corto del parámetro (depende de la tabla de definiciones)\n",
    "- name: nombre largo del parámetro (depende de la tabla de definiciones)\n",
    "\n",
    "Otras keys dan información sobre la distribución espacial de los puntos:\n",
    "- longitudeOfFirstGridPointInDegrees\n",
    "- latitudeOfFirstGridPointInDegrees\n",
    "- longitudeOfLastGridPointInDegrees\n",
    "- latitudeOfLastGridPointInDegrees\n",
    "- iDirectionIncrementInDegrees\n",
    "- jDirectionIncrementInDegrees\n",
    "- Ni\n",
    "- Nj"
   ]
  },
  {
   "cell_type": "markdown",
   "id": "5b183efc",
   "metadata": {},
   "source": [
    "Manejar ficheros grib puede ser algo complicado. El ECMWF ha desarrollado un conjunto de comandos, las [grib tools](https://confluence.ecmwf.int/display/ECC/GRIB+tools), que nos pueden ayudar a tener una toma de contacto inicial con un fichero grib y conocer como es su interior.\n",
    "\n",
    "Aquí veremos tres de ellos: `grib_ls`, `grib_dump` y `grib_copy`."
   ]
  },
  {
   "cell_type": "markdown",
   "id": "6c54f33a",
   "metadata": {},
   "source": [
    "`grib_ls` muestra el contenido de algunas keys de un fichero grib. Da una línea por cada mensaje grib:"
   ]
  },
  {
   "cell_type": "code",
   "execution_count": null,
   "id": "266c14dc",
   "metadata": {},
   "outputs": [],
   "source": [
    "!grib_ls ecmwf_example.grib"
   ]
  },
  {
   "cell_type": "code",
   "execution_count": null,
   "id": "f6d81d09",
   "metadata": {},
   "outputs": [],
   "source": [
    "# Cuidado con mayúsculas y espacios!\n",
    "!grib_ls -p paramId,shortName,dataDate,dataTime,step ecmwf_example.grib"
   ]
  },
  {
   "cell_type": "markdown",
   "id": "89026fd1",
   "metadata": {},
   "source": [
    "Hay que tener en cuenta que algunos parámetros son acumulados:"
   ]
  },
  {
   "cell_type": "code",
   "execution_count": null,
   "id": "7c90bef6",
   "metadata": {},
   "outputs": [],
   "source": [
    "!grib_ls -w paramId=169 -p paramId,shortName,dataDate,dataTime,step,average ecmwf_example.grib"
   ]
  },
  {
   "cell_type": "markdown",
   "id": "0c8d3019",
   "metadata": {},
   "source": [
    "`grib_dump` nos da el valor de todas las keys codificadas del grib:"
   ]
  },
  {
   "cell_type": "code",
   "execution_count": null,
   "id": "f79a8828",
   "metadata": {},
   "outputs": [],
   "source": [
    "!grib_dump ecmwf_example.grib | head -n 120"
   ]
  },
  {
   "cell_type": "markdown",
   "id": "dfc964b8",
   "metadata": {},
   "source": [
    "También se pueden obtener en formato json:"
   ]
  },
  {
   "cell_type": "code",
   "execution_count": null,
   "id": "e75c3893",
   "metadata": {},
   "outputs": [],
   "source": [
    "!grib_dump -j ecmwf_example.grib | head -n 50"
   ]
  },
  {
   "cell_type": "markdown",
   "id": "f5a032a6",
   "metadata": {},
   "source": [
    "Para aclarar qué código corresponden a cada parámetro podemos consultar las [tablas de parámetros](https://codes.ecmwf.int/grib/param-db/). Estas tablas son válidas para gribs procedentes del ECMWF."
   ]
  },
  {
   "cell_type": "markdown",
   "id": "8203e3bf",
   "metadata": {},
   "source": [
    "`grib_copy` filtra los mensajes grib que especifiquemos copiándolos en un nuevo grib:"
   ]
  },
  {
   "cell_type": "code",
   "execution_count": null,
   "id": "1114212f",
   "metadata": {},
   "outputs": [],
   "source": [
    "!grib_copy -w paramId=167 ecmwf_example.grib ecmwf_t2m.grib"
   ]
  },
  {
   "cell_type": "code",
   "execution_count": null,
   "id": "0e9a3cc9",
   "metadata": {},
   "outputs": [],
   "source": [
    "!grib_ls -p paramId,shortName,dataDate,dataTime,step ecmwf_t2m.grib"
   ]
  },
  {
   "cell_type": "markdown",
   "id": "a5deb0f5",
   "metadata": {},
   "source": [
    "Existe también una grib tool, [`grib_to_netcdf`](https://confluence.ecmwf.int/display/ECC/grib_to_netcdf), para convertir ficheros grib a formato netcdf."
   ]
  },
  {
   "cell_type": "markdown",
   "id": "e291fe60",
   "metadata": {},
   "source": [
    "### Paquete eccodes"
   ]
  },
  {
   "cell_type": "markdown",
   "id": "065cfb73",
   "metadata": {},
   "source": [
    "[ecCodes](https://confluence.ecmwf.int/display/ECC/ecCodes+Home) es un paquete desarrollado por el ECMWF que proporciona una API y un conjunto de herramientas para decodificar y codificar ficheros con formato GRIB (utilizado para guardar información de modelos meteorológicos) y BUFR (utilizado para guardar información de observaciones). "
   ]
  },
  {
   "cell_type": "markdown",
   "id": "ace0d932",
   "metadata": {},
   "source": [
    "La API original está escrita en C, y permite manejar la memoria directamente leyendo cada uno de los mensajes del fichero grib:"
   ]
  },
  {
   "cell_type": "markdown",
   "id": "4a552917",
   "metadata": {},
   "source": [
    "![flujo basico C](img/flujo_basico_C.png)"
   ]
  },
  {
   "cell_type": "markdown",
   "id": "1c22e28a",
   "metadata": {},
   "source": [
    "Hay también una interfaz para Fortran y para python.  \n",
    "La interfaz de python nos oculta la mayor parte de la gestión de memoria (pero cuidado con codes_release!), evitándonos el trabajo de tener que manejarla directamente:"
   ]
  },
  {
   "cell_type": "markdown",
   "id": "bd224474",
   "metadata": {},
   "source": [
    "![flujo_basico_python](img/flujo_basico_python.png)"
   ]
  },
  {
   "cell_type": "code",
   "execution_count": null,
   "id": "304d9d4d",
   "metadata": {},
   "outputs": [],
   "source": [
    "import eccodes as ec"
   ]
  },
  {
   "cell_type": "code",
   "execution_count": null,
   "id": "59ed4cea",
   "metadata": {},
   "outputs": [],
   "source": [
    "f = open(\"ecmwf_example.grib\", \"rb\")"
   ]
  },
  {
   "cell_type": "code",
   "execution_count": null,
   "id": "d7609e6b",
   "metadata": {},
   "outputs": [],
   "source": [
    "gid = ec.codes_grib_new_from_file(f)"
   ]
  },
  {
   "cell_type": "code",
   "execution_count": null,
   "id": "8f8512fa",
   "metadata": {},
   "outputs": [],
   "source": [
    "ec.codes_get(gid, \"paramId\")"
   ]
  },
  {
   "cell_type": "code",
   "execution_count": null,
   "id": "4e2e6070",
   "metadata": {},
   "outputs": [],
   "source": [
    "ec.codes_get(gid, \"dataDate\")"
   ]
  },
  {
   "cell_type": "code",
   "execution_count": null,
   "id": "5f454745",
   "metadata": {},
   "outputs": [],
   "source": [
    "ec.codes_release(gid) # No olvidar liberar la memoria!"
   ]
  },
  {
   "cell_type": "code",
   "execution_count": null,
   "id": "efda75b0",
   "metadata": {},
   "outputs": [],
   "source": [
    "f.close()"
   ]
  },
  {
   "cell_type": "markdown",
   "id": "08574db1",
   "metadata": {},
   "source": [
    "Hay una [documentación en línea](https://sites.ecmwf.int/docs/eccodes/namespaceec_codes.html) sobre las distintas funciones de eccodes."
   ]
  },
  {
   "cell_type": "markdown",
   "id": "ea8f9d45",
   "metadata": {},
   "source": [
    "Algo un poco más complicado: extraemos el valor del campo en un punto de longitud y latitud determinadas:"
   ]
  },
  {
   "cell_type": "code",
   "execution_count": null,
   "id": "f19f0eec",
   "metadata": {},
   "outputs": [],
   "source": [
    "def nearest_value(filename, input_paramid, latitude, longitude):\n",
    "    \n",
    "    f = open(filename, \"rb\")\n",
    "    values = {}\n",
    "    \n",
    "    while True:\n",
    "        gid = ec.codes_grib_new_from_file(f)\n",
    "        if gid is None: break\n",
    "        \n",
    "        paramid = ec.codes_get(gid, \"paramId\")\n",
    "        step = ec.codes_get(gid, \"step\")\n",
    "        if paramid==input_paramid:\n",
    "            values[step] = ec.codes_grib_find_nearest(gid, latitude, longitude)[0].value\n",
    "            #index_position = ec.codes_grib_find_nearest(gid, latitude, longitude)[0].index\n",
    "        \n",
    "        ec.codes_release(gid)\n",
    "\n",
    "    f.close()\n",
    "    #print(index_position)\n",
    "    \n",
    "    return values"
   ]
  },
  {
   "cell_type": "code",
   "execution_count": null,
   "id": "ab4f9d94",
   "metadata": {},
   "outputs": [],
   "source": [
    "nearest_value(\"ecmwf_example.grib\", 167, 40, -5)"
   ]
  },
  {
   "cell_type": "markdown",
   "id": "b8237427",
   "metadata": {},
   "source": [
    "Hay definidas una [serie de excepciones específicas en eccodes](https://confluence.ecmwf.int/display/ECC/Python+exception+classes) para que se puedan tratar posibles errores:"
   ]
  },
  {
   "cell_type": "code",
   "execution_count": null,
   "id": "477df5b3",
   "metadata": {},
   "outputs": [],
   "source": [
    "try:\n",
    "    nearest_value(\"ecmwf_example.grib\", 167, 80, -5)\n",
    "except ec.OutOfAreaError:\n",
    "    print(\"La localización especificada está fuera del área del grib!\")"
   ]
  },
  {
   "cell_type": "markdown",
   "id": "2f692c0e",
   "metadata": {},
   "source": [
    "Con la función codes_get_values podemos extraer todos los valores del mensaje grib:"
   ]
  },
  {
   "cell_type": "code",
   "execution_count": null,
   "id": "21fedfd9",
   "metadata": {},
   "outputs": [],
   "source": [
    "f = open(\"ecmwf_example.grib\", \"rb\")\n",
    "\n",
    "gid = ec.codes_grib_new_from_file(f)       \n",
    "all_values = ec.codes_get_values(gid)\n",
    "ec.codes_release(gid)\n",
    "\n",
    "f.close()"
   ]
  },
  {
   "cell_type": "code",
   "execution_count": null,
   "id": "5b56a523",
   "metadata": {},
   "outputs": [],
   "source": [
    "print(all_values)"
   ]
  },
  {
   "cell_type": "markdown",
   "id": "307a2ca5",
   "metadata": {},
   "source": [
    "Si conocemos el índice de un determinado valor podremos extraerlo directamete:"
   ]
  },
  {
   "cell_type": "code",
   "execution_count": null,
   "id": "7120eb50",
   "metadata": {},
   "outputs": [],
   "source": [
    "index_position=6090\n",
    "print(all_values[index_position])"
   ]
  },
  {
   "cell_type": "markdown",
   "id": "5ddc857c",
   "metadata": {},
   "source": [
    "### Paquete xarray"
   ]
  },
  {
   "cell_type": "markdown",
   "id": "90247399",
   "metadata": {},
   "source": [
    "[Xarray](https://xarray.dev/) es un paquete de python para análisis de datos diseñado para trabajar con matrices (o arrays) N-dimensionales etiquetadas. Estas etiquetas facilitan mucho el manejo de estas estructuras de datos: permiten seleccionar, realizar operaciones, agrupar, o incorporar metadatos de una manera sencilla. \n",
    "\n",
    "Estas estructuras de datos son muy adecuadas para tratar datos científicos, y en particular datos de tipo meteorológico."
   ]
  },
  {
   "cell_type": "code",
   "execution_count": null,
   "id": "4d87c2f4",
   "metadata": {},
   "outputs": [],
   "source": [
    "from datetime import timedelta\n",
    "import numpy as np\n",
    "import matplotlib.pyplot as plt\n",
    "import xarray as xr\n",
    "import cartopy.crs as ccrs"
   ]
  },
  {
   "cell_type": "markdown",
   "id": "ee1e6232",
   "metadata": {},
   "source": [
    "Xarray está muy relacionado con la estructura de los ficheros netCDF. Para que xarray pueda leer ficheros grib el ECMWF ha creado el paquete [cfgrib](https://github.com/ecmwf/cfgrib), una interfaz de python que permite cargar un fichero grib como un dataset de xarray, siguiendo las [CF conventions](http://cfconventions.org/):"
   ]
  },
  {
   "cell_type": "code",
   "execution_count": null,
   "id": "059b83d3",
   "metadata": {},
   "outputs": [],
   "source": [
    "ds = xr.load_dataset(\"ecmwf_example.grib\", engine=\"cfgrib\")"
   ]
  },
  {
   "cell_type": "markdown",
   "id": "e14260be",
   "metadata": {},
   "source": [
    "Algunas grib keys se guardan en los atributos:"
   ]
  },
  {
   "cell_type": "code",
   "execution_count": null,
   "id": "099f2f0d",
   "metadata": {},
   "outputs": [],
   "source": [
    "ds.attrs"
   ]
  },
  {
   "cell_type": "code",
   "execution_count": null,
   "id": "ab42d7ee",
   "metadata": {},
   "outputs": [],
   "source": [
    "ds.t2m.attrs"
   ]
  },
  {
   "cell_type": "markdown",
   "id": "3657e38f",
   "metadata": {},
   "source": [
    "Además de las que se guardan por defecto, se puede seleccionar cualquier otra si se indica específicamente al cargar el fichero:"
   ]
  },
  {
   "cell_type": "code",
   "execution_count": null,
   "id": "b8522935",
   "metadata": {},
   "outputs": [],
   "source": [
    "ds = xr.open_dataset(\"ecmwf_example.grib\", \n",
    "                     engine=\"cfgrib\",\n",
    "                     backend_kwargs={\"read_keys\": [\"experimentVersionNumber\"]})"
   ]
  },
  {
   "cell_type": "code",
   "execution_count": null,
   "id": "f77b5bb7",
   "metadata": {},
   "outputs": [],
   "source": [
    "ds.t2m.attrs['GRIB_experimentVersionNumber']"
   ]
  },
  {
   "cell_type": "markdown",
   "id": "6acb0cdc",
   "metadata": {},
   "source": [
    "Notar que xarray (con cfgrib) no leerá correctamente gribs heterogéneos, y que tendrá problemas si la key shortName no está bien definida:"
   ]
  },
  {
   "cell_type": "code",
   "execution_count": null,
   "id": "ffbba6db",
   "metadata": {},
   "outputs": [],
   "source": [
    "ds_aq = xr.open_dataset(\"air_quality.grb2\", \n",
    "                        engine=\"cfgrib\",\n",
    "                        backend_kwargs={\"read_keys\": ['constituentType']})"
   ]
  },
  {
   "cell_type": "markdown",
   "id": "13576bf3",
   "metadata": {},
   "source": [
    "Aunque podemos filtrar al cargar el fichero y tomar una parte del grib que si esté bien formada:"
   ]
  },
  {
   "cell_type": "code",
   "execution_count": null,
   "id": "64441001",
   "metadata": {},
   "outputs": [],
   "source": [
    "ds_aq = xr.open_dataset(\"air_quality.grb2\", \n",
    "                        engine=\"cfgrib\",\n",
    "                        backend_kwargs={\"filter_by_keys\": {\"constituentType\": 40008},\n",
    "                                        \"read_keys\": ['constituentType']},\n",
    "                        )"
   ]
  },
  {
   "cell_type": "code",
   "execution_count": null,
   "id": "400f2710",
   "metadata": {},
   "outputs": [],
   "source": [
    "ds_aq.mdens.attrs['GRIB_constituentType']"
   ]
  },
  {
   "cell_type": "markdown",
   "id": "066b48f7",
   "metadata": {},
   "source": [
    "Seleccionamos el campo de la temperatura a 2m, para el alcance h+12:"
   ]
  },
  {
   "cell_type": "code",
   "execution_count": null,
   "id": "939a2f94",
   "metadata": {},
   "outputs": [],
   "source": [
    "t_h12 = ds.sel(step = timedelta(hours=12)).t2m - 273.15"
   ]
  },
  {
   "cell_type": "code",
   "execution_count": null,
   "id": "1ab2c3ec",
   "metadata": {},
   "outputs": [],
   "source": [
    "t_h12.plot()"
   ]
  },
  {
   "cell_type": "markdown",
   "id": "bcb4fc7e",
   "metadata": {},
   "source": [
    "O, si usamos cartopy para mostrar el mapa en proyección Mercator, por ejemplo, e incluimos la línea de costa:"
   ]
  },
  {
   "cell_type": "code",
   "execution_count": null,
   "id": "f87925b8",
   "metadata": {},
   "outputs": [],
   "source": [
    "plt.figure(figsize=(8,4.5))\n",
    "ax = plt.axes(projection=ccrs.Mercator())\n",
    "ax.coastlines()\n",
    "t_h12.plot.contourf(ax=ax, transform=ccrs.PlateCarree(), levels= np.arange(-20,25,1))\n",
    "plt.show()"
   ]
  },
  {
   "cell_type": "markdown",
   "id": "1176d2d4",
   "metadata": {},
   "source": [
    "### Paquete metview"
   ]
  },
  {
   "cell_type": "markdown",
   "id": "09a10e49",
   "metadata": {},
   "source": [
    "[Metview](https://confluence.ecmwf.int/display/METV/Metview) ([documentación aquí](https://metview.readthedocs.io/en/latest/)) es una aplicación desarrollada por el ECMWF que proporciona un entorno completo de trabajo para meteorólogos. Da herramientas para el acceso, procesamiento y visualización de datos meteorológicos (ver la [galería](https://confluence.ecmwf.int/display/METV/Gallery))."
   ]
  },
  {
   "cell_type": "markdown",
   "id": "cce48edf",
   "metadata": {},
   "source": [
    "Está basado en una interfaz con iconos, pero también dispone de una interfaz python para trabajo en batch:"
   ]
  },
  {
   "cell_type": "markdown",
   "id": "7c73c36b",
   "metadata": {},
   "source": [
    "![pantalla_metview](img/pantalla_metview.png)"
   ]
  },
  {
   "cell_type": "markdown",
   "id": "545b0a8c",
   "metadata": {},
   "source": [
    "Nosotros la utilizaremos aquí solamente para ilustrar el [recorte e interpolación de campos](https://www.ecmwf.int/en/newsletter/169/computing/advanced-regridding-metview)."
   ]
  },
  {
   "cell_type": "markdown",
   "id": "7fdf7cf4",
   "metadata": {},
   "source": [
    "Vamos a tomar el fichero grib anterior con la temperatura a 2m, y vamos a recortar el área de Balares y lo interpolaremos a 0.5 grados (originalmente tiene una resolución de 0.1 grados):"
   ]
  },
  {
   "cell_type": "code",
   "execution_count": null,
   "id": "905ba70e",
   "metadata": {},
   "outputs": [],
   "source": [
    "import metview as mv"
   ]
  },
  {
   "cell_type": "code",
   "execution_count": null,
   "id": "e599c335",
   "metadata": {},
   "outputs": [],
   "source": [
    "input_field = mv.read(\"ecmwf_t2m.grib\") # Objeto Fieldset\n",
    "target_grid = {'grid':[0.5,0.5], \n",
    "               'area':[38.5, 1, 40.5, 5]} # S,W,N,E\n",
    "output_field = mv.regrid(target_grid, data=input_field)\n",
    "output_field.write(\"ecmwf_recorte.grib\")"
   ]
  },
  {
   "cell_type": "markdown",
   "id": "87fa9d58",
   "metadata": {},
   "source": [
    "Mediante cfgrib se puede [convertir un objeto Fieldset (de Metview) en un objeto Dataset (de xarray)](https://confluence.ecmwf.int/display/METV/Using+cfgrib+to+load+GRIB+data+into+an+xarray+dataset)"
   ]
  },
  {
   "cell_type": "markdown",
   "id": "a8a76534",
   "metadata": {},
   "source": [
    "Vemos que el nuevo grib ya está recortado e interpolado:"
   ]
  },
  {
   "cell_type": "code",
   "execution_count": null,
   "id": "0bec3380",
   "metadata": {},
   "outputs": [],
   "source": [
    "!grib_dump ecmwf_recorte.grib | head -n 100"
   ]
  },
  {
   "cell_type": "markdown",
   "id": "915217fb",
   "metadata": {},
   "source": [
    "Si ahora lo ploteamos (también usando Metview):"
   ]
  },
  {
   "cell_type": "code",
   "execution_count": null,
   "id": "60942848",
   "metadata": {},
   "outputs": [],
   "source": [
    "# Grib original\n",
    "input_field_12 = input_field.select(step=12) # Escogemos el campo para el alcance h+12\n",
    "\n",
    "shade_cont = mv.mcont(legend='on',\n",
    "                      contour='off',\n",
    "                      contour_level_selection_type='interval',\n",
    "                      contour_interval=1,\n",
    "                      contour_min_level=5,\n",
    "                      contour_max_level=15,\n",
    "                      contour_shade='on',\n",
    "                      contour_shade_method='area_fill',   \n",
    "                      #contour_shade_technique='grid_shading',  # elegimos shade_method o shade_technique                      \n",
    "                      contour_shade_colour_method='calculate',\n",
    "                      contour_shade_colour_direction='clockwise',\n",
    "                      contour_shade_max_level_colour='red',\n",
    "                      contour_shade_min_level_colour='yellow')\n",
    "\n",
    "balearic_map = mv.geoview(map_area_definition='corners',\n",
    "                          area=[38.5, 1, 40.5, 5]) # [S,W,N,E]\n",
    "\n",
    "mv.plot(balearic_map, input_field_12, shade_cont)"
   ]
  },
  {
   "cell_type": "code",
   "execution_count": null,
   "id": "afced6f6",
   "metadata": {},
   "outputs": [],
   "source": [
    "# Grib interpolado\n",
    "output_field_12 = output_field.select(step=12) # Escogemos el campo para el alcance h+12\n",
    "\n",
    "shade_cont = mv.mcont(legend='on',\n",
    "                      contour='off',\n",
    "                      contour_level_selection_type='interval',\n",
    "                      contour_interval=1,\n",
    "                      contour_min_level=5,\n",
    "                      contour_max_level=15,\n",
    "                      contour_shade='on',\n",
    "                      contour_shade_method='area_fill',   \n",
    "                      #contour_shade_technique='grid_shading',  # elegimos shade_method o shade_technique                      \n",
    "                      contour_shade_colour_method='calculate',\n",
    "                      contour_shade_colour_direction='clockwise',\n",
    "                      contour_shade_max_level_colour='red',\n",
    "                      contour_shade_min_level_colour='yellow')\n",
    "\n",
    "balearic_map = mv.geoview(map_area_definition='corners',\n",
    "                          area=[38.5, 1, 40.5, 5]) # [S,W,N,E]\n",
    "\n",
    "mv.plot(balearic_map, output_field_12, shade_cont)"
   ]
  },
  {
   "cell_type": "markdown",
   "id": "d45754c5",
   "metadata": {},
   "source": [
    "Para dibujar este mapa hemos utilizado varias de las [funciones de visualización](https://metview.readthedocs.io/en/latest/gen_files/toc/plot.html) de Metview."
   ]
  },
  {
   "cell_type": "markdown",
   "id": "ef3475dd",
   "metadata": {},
   "source": [
    "También se puede usar un grib plantilla de forma que nuestro grib se adapte a sus características.  \n",
    "Por ejemplo, si queremos que nuestro fichero de Harmonie copie el recorte e interpolación del fichero recortado del ECMWF (o sea, que lo use como plantilla):"
   ]
  },
  {
   "cell_type": "code",
   "execution_count": null,
   "id": "1c7c583f",
   "metadata": {},
   "outputs": [],
   "source": [
    "input = mv.read(\"harmonie_example.grib\")\n",
    "target_grid = {'grid_definition_mode':'template', \n",
    "               'template_source': './ecmwf_example.grib'}\n",
    "output_field = mv.regrid(target_grid, data=input)\n",
    "output_field.write(\"harmonie_recorte.grib\")"
   ]
  },
  {
   "cell_type": "code",
   "execution_count": null,
   "id": "6a34b6e8",
   "metadata": {},
   "outputs": [],
   "source": [
    "!grib_dump harmonie_recorte.grib | head -n 100"
   ]
  },
  {
   "cell_type": "markdown",
   "id": "8202e6f4",
   "metadata": {},
   "source": [
    "### Paquete climetlab"
   ]
  },
  {
   "cell_type": "markdown",
   "id": "0d46e1e0",
   "metadata": {},
   "source": [
    "[Climetlab](https://climetlab.readthedocs.io/en/latest/) es un paquete de Python cuyo objetivo es simplificar el acceso a datos meteorológicos y climáticos, para que los usuarios puedan dedicarse a la ciencia y no a resolver problemas técnicos como el acceso y formato de los datos. Está todavía en desarrollo (de hecho puede que sea sustituido por otro paquete llamado earthkit)."
   ]
  },
  {
   "cell_type": "code",
   "execution_count": null,
   "id": "732e20e8",
   "metadata": {},
   "outputs": [],
   "source": [
    "import climetlab as cml"
   ]
  },
  {
   "cell_type": "markdown",
   "id": "ba3a55da",
   "metadata": {},
   "source": [
    "Un ejemplo utilizando datos libres:"
   ]
  },
  {
   "cell_type": "code",
   "execution_count": null,
   "id": "9f1e38ff",
   "metadata": {},
   "outputs": [],
   "source": [
    "source = cml.load_source(\"ecmwf-open-data\", param=[\"2t\", \"msl\"],)\n",
    "for s in source:\n",
    "    cml.plot_map(s, title=True)\n",
    "source.to_xarray()"
   ]
  },
  {
   "cell_type": "markdown",
   "id": "1e558fd8",
   "metadata": {},
   "source": [
    "Este código sólo funcionará si se dispone de una API key para acceder al Climate Data Store:"
   ]
  },
  {
   "cell_type": "code",
   "execution_count": null,
   "id": "572c0d46",
   "metadata": {},
   "outputs": [],
   "source": [
    "source = cml.load_source(\n",
    "    \"cds\",\n",
    "    \"reanalysis-era5-single-levels\",\n",
    "    variable=[\"2t\", \"msl\"],\n",
    "    product_type=\"reanalysis\",\n",
    "    area=[50, -50, 20, 50],\n",
    "    date=\"2011-12-02\",\n",
    "    time=\"12:00\",\n",
    ")\n",
    "for s in source:\n",
    "    cml.plot_map(s)"
   ]
  }
 ],
 "metadata": {
  "kernelspec": {
   "display_name": "Python 3 (ipykernel)",
   "language": "python",
   "name": "python3"
  },
  "language_info": {
   "codemirror_mode": {
    "name": "ipython",
    "version": 3
   },
   "file_extension": ".py",
   "mimetype": "text/x-python",
   "name": "python",
   "nbconvert_exporter": "python",
   "pygments_lexer": "ipython3",
   "version": "3.10.1"
  }
 },
 "nbformat": 4,
 "nbformat_minor": 5
}
