{
 "cells": [
  {
   "cell_type": "markdown",
   "id": "46e00a6a",
   "metadata": {},
   "source": [
    "# Módulos útiles para ficheros grib"
   ]
  },
  {
   "cell_type": "markdown",
   "id": "22c93ad5",
   "metadata": {},
   "source": [
    "Para abrir el notebook en Colab pulsa el botón:"
   ]
  },
  {
   "cell_type": "markdown",
   "id": "23ba727b",
   "metadata": {},
   "source": [
    "<a href=\"https://colab.research.google.com/github/jlcasador/curso_formatos_meteo/blob/main/Modulos_para_grib.ipynb\" target=\"_blank\"><img src=\"https://colab.research.google.com/assets/colab-badge.svg\" alt=\"Open In Colab\"/></a>"
   ]
  },
  {
   "cell_type": "markdown",
   "id": "68a17f77",
   "metadata": {},
   "source": [
    "[GRIB](https://confluence.ecmwf.int/display/CKB/What+are+GRIB+files+and+how+can+I+read+them) es un acrónimo cuyas siglas corresponden a \"General Regularly distributed Information in Binary form\".  \n",
    "Es un formato estándar de la Organización Meteorológica Mundial (OMM) para archivar e intercambiar datos meteorológicos."
   ]
  },
  {
   "cell_type": "markdown",
   "id": "e572daea",
   "metadata": {},
   "source": [
    "Esta foto puede representar la jerarquía de paquetes que vamos a usar en este curso:"
   ]
  },
  {
   "cell_type": "markdown",
   "id": "5e968427",
   "metadata": {},
   "source": [
    "![jerarquía de módulos](matroshka_grib_60.jpg)"
   ]
  },
  {
   "cell_type": "markdown",
   "id": "a6d4a557",
   "metadata": {},
   "source": [
    "### Instalación"
   ]
  },
  {
   "cell_type": "markdown",
   "id": "c6a516a5",
   "metadata": {},
   "source": [
    "#### Instalación de eccodes utilizando CMake"
   ]
  },
  {
   "cell_type": "markdown",
   "id": "bcb81bd2",
   "metadata": {},
   "source": [
    "Para instalar eccodes podemos seguir las [instrucciones de instalación de la web del ECMWF](https://confluence.ecmwf.int/display/ECC/ecCodes+installation), como sigue: "
   ]
  },
  {
   "cell_type": "code",
   "execution_count": null,
   "id": "2226e674",
   "metadata": {},
   "outputs": [],
   "source": [
    "!wget https://confluence.ecmwf.int/download/attachments/45757960/eccodes-2.30.0-Source.tar.gz?api=v2 -O eccodes-2.30.0-Source.tar.gz\n",
    "!tar -xzf  /content/eccodes-2.30.0-Source.tar.gz\n",
    "!mkdir build ; cd build\n",
    "%cd build\n",
    "!cmake -DCMAKE_INSTALL_PREFIX=eccodes ../eccodes-2.30.0-Source\n",
    "!make -j 4\n",
    "!make install\n",
    "%cd /content"
   ]
  },
  {
   "cell_type": "code",
   "execution_count": null,
   "id": "26b31d2c",
   "metadata": {},
   "outputs": [],
   "source": [
    "# Para poder encontrar las grib tools\n",
    "import os\n",
    "PATH = os.getenv('PATH')\n",
    "os.environ['PATH'] = ':'.join([PATH, '/content/build/eccodes/bin'])"
   ]
  },
  {
   "cell_type": "code",
   "execution_count": null,
   "id": "ee85521f",
   "metadata": {},
   "outputs": [],
   "source": [
    "!codes_info"
   ]
  },
  {
   "cell_type": "markdown",
   "id": "2e936841",
   "metadata": {},
   "source": [
    "#### Instalación de eccodes con Conda"
   ]
  },
  {
   "cell_type": "markdown",
   "id": "4316dba7",
   "metadata": {},
   "source": [
    "Otra alternativa es instalar conda, y después instalar eccodes desde conda:"
   ]
  },
  {
   "cell_type": "code",
   "execution_count": null,
   "id": "3b3ada20",
   "metadata": {},
   "outputs": [],
   "source": [
    "!pip install -q condacolab\n",
    "import condacolab\n",
    "condacolab.install() # expect a kernel restart"
   ]
  },
  {
   "cell_type": "code",
   "execution_count": null,
   "id": "5bf77fd0",
   "metadata": {},
   "outputs": [],
   "source": [
    "!conda install -q eccodes -c conda-forge"
   ]
  },
  {
   "cell_type": "code",
   "execution_count": null,
   "id": "1e9aac75",
   "metadata": {},
   "outputs": [],
   "source": [
    "!codes_info"
   ]
  },
  {
   "cell_type": "markdown",
   "id": "31564a71",
   "metadata": {},
   "source": [
    "#### Instalación de otros paquetes"
   ]
  },
  {
   "cell_type": "code",
   "execution_count": null,
   "id": "b69b324d",
   "metadata": {},
   "outputs": [],
   "source": [
    "# Notar que xarray está instalado por defecto en este entorno\n",
    "!conda install -c conda-forge cfgrib"
   ]
  },
  {
   "cell_type": "code",
   "execution_count": null,
   "id": "f8cc2f52",
   "metadata": {},
   "outputs": [],
   "source": [
    "!conda install metview-batch -c conda-forge"
   ]
  },
  {
   "cell_type": "code",
   "execution_count": null,
   "id": "3eab9b9e",
   "metadata": {},
   "outputs": [],
   "source": [
    "!conda install metview-python -c conda-forge"
   ]
  },
  {
   "cell_type": "code",
   "execution_count": null,
   "id": "60a8f35f",
   "metadata": {},
   "outputs": [],
   "source": [
    "!conda install -c conda-forge cartopy"
   ]
  },
  {
   "cell_type": "code",
   "execution_count": null,
   "id": "0163d33d",
   "metadata": {},
   "outputs": [],
   "source": [
    "#!pip install climetlab"
   ]
  },
  {
   "cell_type": "markdown",
   "id": "d43108e5",
   "metadata": {},
   "source": [
    "#### Ficheros de ejemplo"
   ]
  },
  {
   "cell_type": "code",
   "execution_count": null,
   "id": "b2a53a11",
   "metadata": {},
   "outputs": [],
   "source": [
    "!wget https://owncloud.aemet.es/index.php/s/tpl9SuZ16HeByJA/download -O ecmwf_surface.grib\n",
    "!wget https://owncloud.aemet.es/index.php/s/XsRZh7OezHwcARx/download -O air_quality.grb2"
   ]
  },
  {
   "cell_type": "markdown",
   "id": "fd2ea87f",
   "metadata": {},
   "source": [
    "### Estructura de un fichero grib. Grib_tools"
   ]
  },
  {
   "cell_type": "markdown",
   "id": "8f147020",
   "metadata": {},
   "source": [
    "- Unas palabras sobre gribs\n",
    "- grib1 y grib2\n",
    "- conversiones grib1 a grib2, a netcdf"
   ]
  },
  {
   "cell_type": "markdown",
   "id": "746ae803",
   "metadata": {},
   "source": [
    "https://library.wmo.int/index.php?lvl=notice_display&id=10684"
   ]
  },
  {
   "cell_type": "markdown",
   "id": "7f8d2e7b",
   "metadata": {},
   "source": [
    "Las [grib keys](https://confluence.ecmwf.int/display/ECC/GRIB+Keys) son metadatos de cada mensaje grib. Nos informan sobre características tales como.\n",
    "Algunas keys importantes son:\n",
    "- centre: centro de origen del grib (notar que cada centro tendrá su tabla de definiciones)\n",
    "- edition: indica si el fichero grib es de tipo 1 o 2\n",
    "- gridType: tipo de grid (por ejemplo, regular_ll)\n",
    "- table2Version: tabla de parámetros a la que pertenece el parámetro\n",
    "- indicatorOfParameter: parámetro (para grib1)\n",
    "- level: nivel\n",
    "- paramId: key computada que el ECMWF utiliza para facilitar la identificación del parámetro \n",
    "- dataDate: fecha de ejecución del modelo\n",
    "- dataTime: hora de ejecución del modelo (\"pasada\")\n",
    "- step: alcance (normalmente en horas)\n",
    "- shortName: nombre corto del parámetro (depende de la tabla de definiciones)\n",
    "- name: nombre largo del parámetro (depende de la tabla de definiciones)\n",
    "\n",
    "Otras keys dan información sobre la distribución espacial de los puntos:\n",
    "- longitudeOfFirstGridPointInDegrees\n",
    "- latitudeOfFirstGridPointInDegrees\n",
    "- longitudeOfLastGridPointInDegrees\n",
    "- latitudeOfLastGridPointInDegrees\n",
    "- iDirectionIncrementInDegrees\n",
    "- jDirectionIncrementInDegrees\n",
    "- Ni\n",
    "- Nj"
   ]
  },
  {
   "cell_type": "markdown",
   "id": "eac02a28",
   "metadata": {},
   "source": [
    "Las [grib tools](https://confluence.ecmwf.int/display/ECC/GRIB+tools) son un conjunto de comandos que permiten "
   ]
  },
  {
   "cell_type": "markdown",
   "id": "96eb0c89",
   "metadata": {},
   "source": [
    "grib_ls muestra el contenido de algunas keys de un fichero grib. Da una línea por cada mensaje grib:"
   ]
  },
  {
   "cell_type": "code",
   "execution_count": null,
   "id": "af8141de",
   "metadata": {},
   "outputs": [],
   "source": [
    "!grib_ls ecmwf_surface.grib"
   ]
  },
  {
   "cell_type": "code",
   "execution_count": null,
   "id": "463c40ff",
   "metadata": {},
   "outputs": [],
   "source": [
    "# Cuidado con mayúsculas y espacios!\n",
    "!grib_ls -p paramId,shortName,dataDate,dataTime,step ecmwf_surface.grib"
   ]
  },
  {
   "cell_type": "markdown",
   "id": "da169ea4",
   "metadata": {},
   "source": [
    "grib_dump nos da el valor de todas las keys codificadas del grib:"
   ]
  },
  {
   "cell_type": "code",
   "execution_count": null,
   "id": "64fb010a",
   "metadata": {},
   "outputs": [],
   "source": [
    "!grib_dump ecmwf_surface.grib | head -n 120"
   ]
  },
  {
   "cell_type": "markdown",
   "id": "a84206ef",
   "metadata": {},
   "source": [
    "Para aclarar qué código corresponden a cada parámetro podemos consultar las [tablas de parámetros](https://codes.ecmwf.int/grib/param-db/). Estas tablas son válidas para gribs procedentes del ECMWF."
   ]
  },
  {
   "cell_type": "markdown",
   "id": "c7bd9247",
   "metadata": {},
   "source": [
    "### Módulo eccodes"
   ]
  },
  {
   "cell_type": "markdown",
   "id": "434ff8a7",
   "metadata": {},
   "source": [
    "https://sites.ecmwf.int/docs/eccodes/namespaceec_codes.html"
   ]
  },
  {
   "cell_type": "code",
   "execution_count": null,
   "id": "bf7da5d8",
   "metadata": {},
   "outputs": [],
   "source": [
    "import eccodes as ec"
   ]
  },
  {
   "cell_type": "code",
   "execution_count": null,
   "id": "7df45b94",
   "metadata": {},
   "outputs": [],
   "source": [
    "f = open(\"ecmwf_surface.grib\", \"rb\")"
   ]
  },
  {
   "cell_type": "code",
   "execution_count": null,
   "id": "ebb64638",
   "metadata": {},
   "outputs": [],
   "source": [
    "gid = ec.codes_new_from_file(f, CODES_PRODUCT_GRIB)"
   ]
  },
  {
   "cell_type": "code",
   "execution_count": null,
   "id": "2dd2b641",
   "metadata": {},
   "outputs": [],
   "source": [
    "ec.codes_get(gid, \"paramId\")"
   ]
  },
  {
   "cell_type": "code",
   "execution_count": null,
   "id": "99c537f3",
   "metadata": {},
   "outputs": [],
   "source": [
    "ec.codes_release(gid)"
   ]
  },
  {
   "cell_type": "code",
   "execution_count": null,
   "id": "9ed05e7b",
   "metadata": {},
   "outputs": [],
   "source": [
    "f.close()"
   ]
  },
  {
   "cell_type": "markdown",
   "id": "7dabfd52",
   "metadata": {},
   "source": [
    "La API original está escrita en C, y permite manejar la memoria directamente leyendo cada uno de los mensajes del fichero grib:"
   ]
  },
  {
   "cell_type": "markdown",
   "id": "8e305768",
   "metadata": {},
   "source": [
    "![flujo basico C](flujo_basico_C.png)"
   ]
  },
  {
   "cell_type": "markdown",
   "id": "de21898c",
   "metadata": {},
   "source": [
    "La interfaz de python nos oculta la mayor parte de la gestión de memoria (pero cuidado con codes_release!), evitándonos este trabajo extra:"
   ]
  },
  {
   "cell_type": "markdown",
   "id": "0f9b4093",
   "metadata": {},
   "source": [
    "![flujo_basico_python](flujo_basico_python.png)"
   ]
  },
  {
   "cell_type": "markdown",
   "id": "4e29177c",
   "metadata": {},
   "source": [
    "Algo un poco más complicado:"
   ]
  },
  {
   "cell_type": "code",
   "execution_count": null,
   "id": "f46815fb",
   "metadata": {},
   "outputs": [],
   "source": [
    "def nearest_value(filename, input_paramid, latitude, longitude):\n",
    "    \n",
    "    f = open(filename, \"rb\")\n",
    "    values = {}\n",
    "    \n",
    "    while True:\n",
    "        gid = ec.codes_new_from_file(f, CODES_PRODUCT_GRIB)\n",
    "        if gid is None: break\n",
    "        \n",
    "        paramid = ec.codes_get(gid, \"paramId\")\n",
    "        step = ec.codes_get(gid, \"step\")\n",
    "        if paramid==input_paramid:\n",
    "            values[step] = ec.codes_grib_find_nearest(gid, latitude, longitude)[0].value\n",
    "        \n",
    "        ec.codes_release(gid)\n",
    "\n",
    "    f.close()\n",
    "    \n",
    "    return values"
   ]
  },
  {
   "cell_type": "code",
   "execution_count": null,
   "id": "0885a870",
   "metadata": {},
   "outputs": [],
   "source": [
    "nearest_value(\"ecmwf_surface.grib\", 167, 40, -5)"
   ]
  },
  {
   "cell_type": "markdown",
   "id": "e145ef7d",
   "metadata": {},
   "source": [
    "### Módulo metview"
   ]
  },
  {
   "cell_type": "markdown",
   "id": "e22a2311",
   "metadata": {},
   "source": [
    "https://www.ecmwf.int/en/newsletter/169/computing/advanced-regridding-metview"
   ]
  },
  {
   "cell_type": "markdown",
   "id": "44d74e67",
   "metadata": {},
   "source": [
    "https://metview.readthedocs.io/en/latest/"
   ]
  },
  {
   "cell_type": "code",
   "execution_count": null,
   "id": "89e57f38",
   "metadata": {},
   "outputs": [],
   "source": []
  },
  {
   "cell_type": "markdown",
   "id": "30ac1057",
   "metadata": {},
   "source": [
    "### Módulo xarray"
   ]
  },
  {
   "cell_type": "code",
   "execution_count": null,
   "id": "3ce89919",
   "metadata": {},
   "outputs": [],
   "source": [
    "from datetime import timedelta\n",
    "import numpy as np\n",
    "import matplotlib.pyplot as plt\n",
    "import xarray as xr\n",
    "import cartopy.crs as ccrs"
   ]
  },
  {
   "cell_type": "code",
   "execution_count": null,
   "id": "af9fed23",
   "metadata": {},
   "outputs": [],
   "source": [
    "ds = xr.load_dataset(\"ecmwf_surface.grib\", engine=\"cfgrib\")"
   ]
  },
  {
   "cell_type": "markdown",
   "id": "b1d84c9e",
   "metadata": {},
   "source": [
    "Notar que xarray (con cfgrib) solo puede leer correctamente [gribs homogéneos](https://github.com/ecmwf/cfgrib/blob/master/README.rst)"
   ]
  },
  {
   "cell_type": "markdown",
   "id": "f3a20322",
   "metadata": {},
   "source": [
    "Seleccionamos el campo de la temperatura a 2m, para el alcance h+12:"
   ]
  },
  {
   "cell_type": "code",
   "execution_count": null,
   "id": "5fcf7f26",
   "metadata": {},
   "outputs": [],
   "source": [
    "t_h12 = ds.sel(step = timedelta(hours=12)).t2m - 273.15"
   ]
  },
  {
   "cell_type": "code",
   "execution_count": null,
   "id": "dfd0944e",
   "metadata": {},
   "outputs": [],
   "source": [
    "t_h12.plot()"
   ]
  },
  {
   "cell_type": "markdown",
   "id": "b7865d88",
   "metadata": {},
   "source": [
    "O, si usamos cartopy para mostrar el mapa en proyección Mercator, por ejemplo, e incluímos la línea de costa:"
   ]
  },
  {
   "cell_type": "code",
   "execution_count": null,
   "id": "9cc819d7",
   "metadata": {},
   "outputs": [],
   "source": [
    "plt.figure(figsize=(8,4.5))\n",
    "ax = plt.axes(projection=ccrs.Mercator())\n",
    "ax.coastlines()\n",
    "t_h12.plot.contourf(ax=ax, transform=ccrs.PlateCarree(), levels= np.arange(-20,25,1))\n",
    "plt.show()"
   ]
  },
  {
   "cell_type": "code",
   "execution_count": null,
   "id": "6fdcc501",
   "metadata": {},
   "outputs": [],
   "source": []
  },
  {
   "cell_type": "markdown",
   "id": "f1773a9c",
   "metadata": {},
   "source": [
    "### Módulo climetlab"
   ]
  },
  {
   "cell_type": "code",
   "execution_count": null,
   "id": "5aca69c1",
   "metadata": {},
   "outputs": [],
   "source": []
  }
 ],
 "metadata": {
  "kernelspec": {
   "display_name": "Python 3 (ipykernel)",
   "language": "python",
   "name": "python3"
  },
  "language_info": {
   "codemirror_mode": {
    "name": "ipython",
    "version": 3
   },
   "file_extension": ".py",
   "mimetype": "text/x-python",
   "name": "python",
   "nbconvert_exporter": "python",
   "pygments_lexer": "ipython3",
   "version": "3.10.1"
  }
 },
 "nbformat": 4,
 "nbformat_minor": 5
}
