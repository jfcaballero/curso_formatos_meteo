{
 "cells": [
  {
   "cell_type": "markdown",
   "id": "4ce5cc7b",
   "metadata": {},
   "source": [
    "# Módulos útiles para ficheros grib"
   ]
  },
  {
   "cell_type": "markdown",
   "id": "7bffda61",
   "metadata": {},
   "source": [
    "Para abrir el notebook en Colab pulsa el botón:"
   ]
  },
  {
   "cell_type": "markdown",
   "id": "dbe1581e",
   "metadata": {},
   "source": [
    "<a href=\"https://colab.research.google.com/github/jlcasador/curso_formatos_meteo/blob/main/Modulos_para_grib.ipynb\" target=\"_blank\"><img src=\"https://colab.research.google.com/assets/colab-badge.svg\" alt=\"Open In Colab\"/></a>"
   ]
  },
  {
   "cell_type": "markdown",
   "id": "17aeddbc",
   "metadata": {},
   "source": [
    "[GRIB](https://confluence.ecmwf.int/display/CKB/What+are+GRIB+files+and+how+can+I+read+them) es un acrónimo cuyas siglas corresponden a \"General Regularly distributed Information in Binary form\".  \n",
    "Es un formato estándar de la Organización Meteorológica Mundial (OMM) para archivar e intercambiar datos meteorológicos."
   ]
  },
  {
   "cell_type": "markdown",
   "id": "a374cd86",
   "metadata": {},
   "source": [
    "Esta foto puede representar la jerarquía de paquetes que vamos a usar en este curso:"
   ]
  },
  {
   "cell_type": "markdown",
   "id": "fda1ff14",
   "metadata": {},
   "source": [
    "![jerarquía de módulos](matroshka_grib_60.jpg)"
   ]
  },
  {
   "cell_type": "markdown",
   "id": "4a3f9b8a",
   "metadata": {},
   "source": [
    "### Instalación"
   ]
  },
  {
   "cell_type": "markdown",
   "id": "d5c22c97",
   "metadata": {},
   "source": [
    "#### Instalación de eccodes utilizando CMake"
   ]
  },
  {
   "cell_type": "code",
   "execution_count": null,
   "id": "51ac1a3c",
   "metadata": {},
   "outputs": [],
   "source": [
    "!wget https://confluence.ecmwf.int/download/attachments/45757960/eccodes-2.30.0-Source.tar.gz?api=v2 -O eccodes-2.30.0-Source.tar.gz\n",
    "!tar -xzf  /content/eccodes-2.30.0-Source.tar.gz\n",
    "!mkdir build ; cd build\n",
    "%cd build\n",
    "!cmake -DCMAKE_INSTALL_PREFIX=eccodes ../eccodes-2.30.0-Source\n",
    "!make -j 4\n",
    "!make install\n",
    "%cd /content"
   ]
  },
  {
   "cell_type": "code",
   "execution_count": 4,
   "id": "e098a392",
   "metadata": {},
   "outputs": [],
   "source": [
    "import os\n",
    "PATH = os.getenv('PATH')\n",
    "os.environ['PATH'] = ':'.join([PATH, '/content/build/eccodes/bin'])"
   ]
  },
  {
   "cell_type": "code",
   "execution_count": null,
   "id": "8b0f37b3",
   "metadata": {},
   "outputs": [],
   "source": [
    "!wget https://github.com/waveology/tests/raw/main/local_grib_definitions.rar\n",
    "!wget https://github.com/waveology/tests/raw/main/data.grib\n",
    "!unrar x -o+ /content/local_grib_definitions.rar"
   ]
  },
  {
   "cell_type": "code",
   "execution_count": 7,
   "id": "a6952cc3",
   "metadata": {},
   "outputs": [
    {
     "name": "stdout",
     "output_type": "stream",
     "text": [
      "\r\n",
      "ecCodes Version 2.28.0\r\n",
      "\r\n",
      "Definition files path from environment variable ECCODES_DEFINITION_PATH=/usr/local/apps/gcc/11.2.0/eccodes/2.28.0/share/eccodes/definitions:/usr/local/apps/global/harmonie_definitions/1.1/grib/definitions\r\n",
      "Full definition files path=/usr/local/apps/gcc/11.2.0/eccodes/2.28.0/share/eccodes/definitions:/usr/local/apps/global/harmonie_definitions/1.1/grib/definitions\r\n",
      "\r\n",
      "Default SAMPLES path is used: /usr/local/apps/gcc/11.2.0/eccodes/2.28.0/share/eccodes/samples\r\n",
      "SAMPLES path can be changed by setting the ECCODES_SAMPLES_PATH environment variable.\r\n",
      "\r\n"
     ]
    }
   ],
   "source": [
    "!codes_info"
   ]
  },
  {
   "cell_type": "code",
   "execution_count": null,
   "id": "2572caad",
   "metadata": {},
   "outputs": [],
   "source": [
    "os.environ['GRIB_DEFINITION_PATH'] = '/content/local_grib_definitions:/usr/local/share/grib_api/definitions'"
   ]
  },
  {
   "cell_type": "markdown",
   "id": "a66fc9f8",
   "metadata": {},
   "source": [
    "#### Instalación de eccodes con Conda"
   ]
  },
  {
   "cell_type": "code",
   "execution_count": null,
   "id": "efd8eb87",
   "metadata": {},
   "outputs": [],
   "source": [
    "!wget https://github.com/waveology/tests/raw/main/local_grib_definitions.rar\n",
    "!wget https://github.com/waveology/tests/raw/main/data.grib\n",
    "!unrar x -o+ /content/local_grib_definitions.rar && rm -rf /content/local_grib_definitions.rar"
   ]
  },
  {
   "cell_type": "code",
   "execution_count": null,
   "id": "f027bf23",
   "metadata": {},
   "outputs": [],
   "source": [
    "!pip install -q condacolab\n",
    "import condacolab\n",
    "condacolab.install() # expect a kernel restart"
   ]
  },
  {
   "cell_type": "code",
   "execution_count": null,
   "id": "b9b8f055",
   "metadata": {},
   "outputs": [],
   "source": [
    "!conda install -q eccodes -c conda-forge"
   ]
  },
  {
   "cell_type": "code",
   "execution_count": null,
   "id": "535518d6",
   "metadata": {},
   "outputs": [],
   "source": [
    "!codes_info"
   ]
  },
  {
   "cell_type": "code",
   "execution_count": null,
   "id": "fadf10a8",
   "metadata": {},
   "outputs": [],
   "source": [
    "import os\n",
    "os.environ['GRIB_DEFINITION_PATH'] = '/content/local_grib_definitions:/usr/local/share/grib_api/definitions'\n",
    "!echo $GRIB_DEFINITION_PATH"
   ]
  },
  {
   "cell_type": "markdown",
   "id": "ba665989",
   "metadata": {},
   "source": [
    "#### Instalación de otros paquetes"
   ]
  },
  {
   "cell_type": "code",
   "execution_count": null,
   "id": "874f1dc3",
   "metadata": {},
   "outputs": [],
   "source": [
    "#!pip install xarray # xarray está instalado por defecto\n",
    "!pip install cartopy\n",
    "# metview\n",
    "#!pip install climetlab"
   ]
  },
  {
   "cell_type": "markdown",
   "id": "5c6d3f58",
   "metadata": {},
   "source": [
    "### Grib_tools"
   ]
  },
  {
   "cell_type": "markdown",
   "id": "ad30b0fe",
   "metadata": {},
   "source": [
    "Las [grib tools](https://confluence.ecmwf.int/display/ECC/GRIB+tools) son un conjunto de comandos que permiten "
   ]
  },
  {
   "cell_type": "code",
   "execution_count": null,
   "id": "291e5c61",
   "metadata": {},
   "outputs": [],
   "source": [
    "!grib_ls ecmwf_surface.grib"
   ]
  },
  {
   "cell_type": "code",
   "execution_count": null,
   "id": "634f7dc9",
   "metadata": {},
   "outputs": [],
   "source": [
    "# Cuidado con mayúsculas y espacios!\n",
    "!grib_ls -p paramId,shortName,dataDate,dataTime,step ecmwf_surface.grib"
   ]
  },
  {
   "cell_type": "code",
   "execution_count": null,
   "id": "60f2ca70",
   "metadata": {},
   "outputs": [],
   "source": [
    "!grib_dump ecmwf_surface.grib | head -n 120"
   ]
  },
  {
   "cell_type": "markdown",
   "id": "850652ef",
   "metadata": {},
   "source": [
    "### Módulo eccodes"
   ]
  },
  {
   "cell_type": "markdown",
   "id": "a83a7bcb",
   "metadata": {},
   "source": [
    "https://sites.ecmwf.int/docs/eccodes/namespaceec_codes.html"
   ]
  },
  {
   "cell_type": "code",
   "execution_count": null,
   "id": "6d72e7f5",
   "metadata": {},
   "outputs": [],
   "source": [
    "from eccodes import *"
   ]
  },
  {
   "cell_type": "code",
   "execution_count": null,
   "id": "b699a700",
   "metadata": {},
   "outputs": [],
   "source": [
    "f = open(\"ecmwf_surface.grib\", \"rb\")"
   ]
  },
  {
   "cell_type": "code",
   "execution_count": null,
   "id": "00c55f08",
   "metadata": {},
   "outputs": [],
   "source": [
    "gid = codes_new_from_file(f, CODES_PRODUCT_GRIB)"
   ]
  },
  {
   "cell_type": "code",
   "execution_count": null,
   "id": "e65b5d3b",
   "metadata": {},
   "outputs": [],
   "source": [
    "codes_get(gid, \"paramId\")"
   ]
  },
  {
   "cell_type": "code",
   "execution_count": null,
   "id": "62e495bc",
   "metadata": {},
   "outputs": [],
   "source": [
    "codes_release(gid)"
   ]
  },
  {
   "cell_type": "code",
   "execution_count": null,
   "id": "52775f3d",
   "metadata": {},
   "outputs": [],
   "source": [
    "f.close()"
   ]
  },
  {
   "cell_type": "markdown",
   "id": "4fe11f99",
   "metadata": {},
   "source": [
    "Efecto de la interfaz de python:"
   ]
  },
  {
   "cell_type": "markdown",
   "id": "88850f5e",
   "metadata": {},
   "source": [
    "![flujo basico C](flujo_basico_C.png)"
   ]
  },
  {
   "cell_type": "markdown",
   "id": "e0301d1c",
   "metadata": {},
   "source": [
    "![flujo_basico_python](flujo_basico_python.png)"
   ]
  },
  {
   "cell_type": "markdown",
   "id": "b735c3ff",
   "metadata": {},
   "source": [
    "Algo un poco más complicado:"
   ]
  },
  {
   "cell_type": "code",
   "execution_count": null,
   "id": "4d8944f0",
   "metadata": {},
   "outputs": [],
   "source": [
    "def nearest_value(filename, input_paramid, latitude, longitude):\n",
    "    \n",
    "    f = open(filename, \"rb\")\n",
    "    values = {}\n",
    "    \n",
    "    while True:\n",
    "        gid = codes_new_from_file(f, CODES_PRODUCT_GRIB)\n",
    "        if gid is None: break\n",
    "        \n",
    "        paramid = codes_get(gid, \"paramId\")\n",
    "        step = codes_get(gid, \"step\")\n",
    "        if paramid==input_paramid:\n",
    "            values[step] = codes_grib_find_nearest(gid, latitude, longitude)[0].value\n",
    "        \n",
    "        codes_release(gid)\n",
    "\n",
    "    f.close()\n",
    "    \n",
    "    return values"
   ]
  },
  {
   "cell_type": "code",
   "execution_count": null,
   "id": "e3b8a410",
   "metadata": {},
   "outputs": [],
   "source": [
    "nearest_value(\"ecmwf_surface.grib\", 167, 40, -5)"
   ]
  },
  {
   "cell_type": "markdown",
   "id": "c07f034e",
   "metadata": {},
   "source": [
    "https://www.ecmwf.int/en/newsletter/169/computing/advanced-regridding-metview"
   ]
  },
  {
   "cell_type": "markdown",
   "id": "f4e21fd9",
   "metadata": {},
   "source": [
    "https://metview.readthedocs.io/en/latest/"
   ]
  },
  {
   "cell_type": "markdown",
   "id": "410c06e2",
   "metadata": {},
   "source": [
    "### Módulo xarray"
   ]
  },
  {
   "cell_type": "code",
   "execution_count": null,
   "id": "c8a31adf",
   "metadata": {},
   "outputs": [],
   "source": [
    "from datetime import timedelta\n",
    "import numpy as np\n",
    "import matplotlib.pyplot as plt\n",
    "import xarray as xr\n",
    "import cartopy.crs as ccrs"
   ]
  },
  {
   "cell_type": "code",
   "execution_count": null,
   "id": "08d6ab79",
   "metadata": {},
   "outputs": [],
   "source": [
    "ds = xr.load_dataset(\"ecmwf_surface.grib\", engine=\"cfgrib\")"
   ]
  },
  {
   "cell_type": "code",
   "execution_count": null,
   "id": "3cd2a594",
   "metadata": {},
   "outputs": [],
   "source": [
    "t_h12 = ds.sel(step = timedelta(hours=12)).t2m - 273.15"
   ]
  },
  {
   "cell_type": "code",
   "execution_count": null,
   "id": "783f2d8c",
   "metadata": {},
   "outputs": [],
   "source": [
    "t_h12.plot()"
   ]
  },
  {
   "cell_type": "code",
   "execution_count": null,
   "id": "d1d544c5",
   "metadata": {},
   "outputs": [],
   "source": [
    "plt.figure(figsize=(8,4.5))\n",
    "ax = plt.axes(projection=ccrs.Mercator())\n",
    "ax.coastlines()\n",
    "t_h12.plot.contourf(ax=ax, transform=ccrs.PlateCarree(), levels= np.arange(-20,25,1))\n",
    "plt.show()"
   ]
  },
  {
   "cell_type": "code",
   "execution_count": null,
   "id": "b1af815d",
   "metadata": {},
   "outputs": [],
   "source": []
  },
  {
   "cell_type": "markdown",
   "id": "e9895357",
   "metadata": {},
   "source": [
    "### Módulo climetlab"
   ]
  },
  {
   "cell_type": "code",
   "execution_count": null,
   "id": "c5f75819",
   "metadata": {},
   "outputs": [],
   "source": []
  }
 ],
 "metadata": {
  "kernelspec": {
   "display_name": "Python 3 (ipykernel)",
   "language": "python",
   "name": "python3"
  },
  "language_info": {
   "codemirror_mode": {
    "name": "ipython",
    "version": 3
   },
   "file_extension": ".py",
   "mimetype": "text/x-python",
   "name": "python",
   "nbconvert_exporter": "python",
   "pygments_lexer": "ipython3",
   "version": "3.10.1"
  }
 },
 "nbformat": 4,
 "nbformat_minor": 5
}
