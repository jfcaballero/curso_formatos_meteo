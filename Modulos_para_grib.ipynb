{
 "cells": [
  {
   "cell_type": "markdown",
   "id": "b659d10a",
   "metadata": {},
   "source": [
    "![logoAEMET](img/logoAEMET_05.png)"
   ]
  },
  {
   "cell_type": "markdown",
   "id": "945b9e0b",
   "metadata": {},
   "source": [
    "- **Autor:** Jose Luis Casado\n",
    "- **Institución:** AEMET"
   ]
  },
  {
   "cell_type": "markdown",
   "id": "19d520f5",
   "metadata": {},
   "source": [
    "---\n",
    "\n",
    "# Módulos útiles para ficheros grib\n",
    "\n",
    "---"
   ]
  },
  {
   "cell_type": "markdown",
   "id": "7df6f317",
   "metadata": {},
   "source": [
    "Para abrir el notebook en Colab pulsa el botón:"
   ]
  },
  {
   "cell_type": "markdown",
   "id": "88ec61d4",
   "metadata": {},
   "source": [
    "<a href=\"https://colab.research.google.com/github/jlcasador/curso_formatos_meteo/blob/main/Modulos_para_grib.ipynb\" target=\"_blank\"><img src=\"https://colab.research.google.com/assets/colab-badge.svg\" alt=\"Open In Colab\"/></a>"
   ]
  },
  {
   "cell_type": "markdown",
   "id": "549c97f7",
   "metadata": {},
   "source": [
    "Esta foto puede representar la jerarquía de paquetes que vamos a usar en este curso:"
   ]
  },
  {
   "cell_type": "markdown",
   "id": "6120ae86",
   "metadata": {},
   "source": [
    "![jerarquía de módulos](img/matroshka_grib_60.jpg)"
   ]
  },
  {
   "cell_type": "markdown",
   "id": "34ddb5a8",
   "metadata": {},
   "source": [
    "### Instalación"
   ]
  },
  {
   "cell_type": "markdown",
   "id": "e158cc53",
   "metadata": {},
   "source": [
    "#### Instalación de eccodes utilizando CMake"
   ]
  },
  {
   "cell_type": "markdown",
   "id": "e34ad881",
   "metadata": {},
   "source": [
    "Para instalar eccodes podemos seguir las [instrucciones de instalación de la web del ECMWF](https://confluence.ecmwf.int/display/ECC/ecCodes+installation), como sigue: "
   ]
  },
  {
   "cell_type": "code",
   "execution_count": null,
   "id": "8222388d",
   "metadata": {},
   "outputs": [],
   "source": [
    "!wget https://confluence.ecmwf.int/download/attachments/45757960/eccodes-2.30.0-Source.tar.gz?api=v2 -O eccodes-2.30.0-Source.tar.gz\n",
    "!tar -xzf  /content/eccodes-2.30.0-Source.tar.gz\n",
    "!mkdir build ; cd build\n",
    "%cd build\n",
    "!cmake -DCMAKE_INSTALL_PREFIX=eccodes ../eccodes-2.30.0-Source\n",
    "!make -j 4\n",
    "!make install\n",
    "%cd /content"
   ]
  },
  {
   "cell_type": "code",
   "execution_count": null,
   "id": "beb28ddc",
   "metadata": {},
   "outputs": [],
   "source": [
    "# Para poder encontrar las grib tools\n",
    "import os\n",
    "PATH = os.getenv('PATH')\n",
    "os.environ['PATH'] = ':'.join([PATH, '/content/build/eccodes/bin'])"
   ]
  },
  {
   "cell_type": "code",
   "execution_count": null,
   "id": "a2abc46e",
   "metadata": {},
   "outputs": [],
   "source": [
    "!codes_info"
   ]
  },
  {
   "cell_type": "markdown",
   "id": "55e7aa17",
   "metadata": {},
   "source": [
    "#### Instalación de eccodes con Conda"
   ]
  },
  {
   "cell_type": "markdown",
   "id": "799be08d",
   "metadata": {},
   "source": [
    "Otra alternativa es instalar conda, y después instalar eccodes desde conda:"
   ]
  },
  {
   "cell_type": "code",
   "execution_count": null,
   "id": "a56a7e1f",
   "metadata": {},
   "outputs": [],
   "source": [
    "!pip install -q condacolab\n",
    "import condacolab\n",
    "condacolab.install() # expect a kernel restart"
   ]
  },
  {
   "cell_type": "code",
   "execution_count": null,
   "id": "8c205dbe",
   "metadata": {},
   "outputs": [],
   "source": [
    "import condacolab\n",
    "condacolab.check()"
   ]
  },
  {
   "cell_type": "code",
   "execution_count": null,
   "id": "0b1378ad",
   "metadata": {},
   "outputs": [],
   "source": [
    "!mamba -q install eccodes -c conda-forge"
   ]
  },
  {
   "cell_type": "code",
   "execution_count": null,
   "id": "548c8c5a",
   "metadata": {},
   "outputs": [],
   "source": [
    "!codes_info"
   ]
  },
  {
   "cell_type": "markdown",
   "id": "4a03c215",
   "metadata": {},
   "source": [
    "#### Instalación de otros paquetes"
   ]
  },
  {
   "cell_type": "markdown",
   "id": "ae06e7d1",
   "metadata": {},
   "source": [
    "(Notar que xarray está instalado por defecto en este entorno)"
   ]
  },
  {
   "cell_type": "code",
   "execution_count": null,
   "id": "5ed6d688",
   "metadata": {},
   "outputs": [],
   "source": [
    "!mamba -q install -c conda-forge cfgrib  # También se instala automáticamente como parte de metview"
   ]
  },
  {
   "cell_type": "code",
   "execution_count": null,
   "id": "62ab033f",
   "metadata": {},
   "outputs": [],
   "source": [
    "!mamba -q install metview-batch -c conda-forge\n",
    "#!mamba install metview -c conda-forge # si se quiere instalar metview completo (con GUI)"
   ]
  },
  {
   "cell_type": "code",
   "execution_count": null,
   "id": "3d885756",
   "metadata": {},
   "outputs": [],
   "source": [
    "!mamba -q install metview-python -c conda-forge"
   ]
  },
  {
   "cell_type": "code",
   "execution_count": null,
   "id": "b8006022",
   "metadata": {},
   "outputs": [],
   "source": [
    "# Esta línea parece ser necesaria solamente en Colab\n",
    "!pip -q install --no-binary shapely shapely --force\n",
    "\n",
    "# Instalación de Cartopy\n",
    "!pip -q install cartopy"
   ]
  },
  {
   "cell_type": "code",
   "execution_count": null,
   "id": "47f5dc2a",
   "metadata": {},
   "outputs": [],
   "source": [
    "!pip -q install climetlab"
   ]
  },
  {
   "cell_type": "markdown",
   "id": "b650a744",
   "metadata": {},
   "source": [
    "#### Ficheros de ejemplo"
   ]
  },
  {
   "cell_type": "code",
   "execution_count": null,
   "id": "a884663d",
   "metadata": {},
   "outputs": [],
   "source": [
    "!test -f ecmwf_example.grib || wget https://owncloud.aemet.es/index.php/s/Dw51cjX9pdpTECD/download -O ecmwf_example.grib\n",
    "!test -f air_quality.grb2 || wget https://owncloud.aemet.es/index.php/s/XsRZh7OezHwcARx/download -O air_quality.grb2\n",
    "!test -f harmonie_example.grib || wget https://owncloud.aemet.es/index.php/s/uJg7UMbNaSiMSGh/download -O harmonie_example.grib"
   ]
  },
  {
   "cell_type": "markdown",
   "id": "40c5edad",
   "metadata": {},
   "source": [
    "### Estructura de un fichero grib. Grib_tools"
   ]
  },
  {
   "cell_type": "markdown",
   "id": "550ddc41",
   "metadata": {},
   "source": [
    "[GRIB](https://confluence.ecmwf.int/display/CKB/What+are+GRIB+files+and+how+can+I+read+them) es un acrónimo cuyas siglas corresponden a \"General Regularly distributed Information in Binary form\".  \n",
    "Es un [formato estándar de la Organización Meteorológica Mundial (OMM)](https://library.wmo.int/index.php?lvl=notice_display&id=10684) para archivar e intercambiar datos meteorológicos."
   ]
  },
  {
   "cell_type": "markdown",
   "id": "da5d103d",
   "metadata": {},
   "source": [
    "Un fichero grib está compuesto de varios mensajes (o registros) grib. Cada mensaje grib corresponde a un campo meteorológico (un \"mapa\"). Por ello, si queremos representar distintos niveles del modelo, o distintos instantes de tiempo, o distintos parámetros meteorológicos, necesitaremos distintos mensajes grib para ello."
   ]
  },
  {
   "cell_type": "markdown",
   "id": "c94a76ab",
   "metadata": {},
   "source": [
    "Una sutil pero importante diferencia entre el formato GRIB y netCDF es que GRIB es un formato para registros (que se agrupan en ficheros), mientras que netCDF es un formato para ficheros."
   ]
  },
  {
   "cell_type": "markdown",
   "id": "c2610ab2",
   "metadata": {},
   "source": [
    "Cada mensaje grib tiene una estructura determinada. Se divide en varias secciones, en las que se incluyen metadatos y los datos propiamente dichos, siguiendo el [estándar](https://library.wmo.int/index.php?lvl=notice_display&id=10684) establecido por la OMM. "
   ]
  },
  {
   "cell_type": "markdown",
   "id": "6f3e7aad",
   "metadata": {},
   "source": [
    "Parte de la información contenida en un fichero grib está representada por códigos numéricos. Hay una serie de [tablas de códigos](https://codes.ecmwf.int/grib/format/) externas en las que se puede consultar su significado."
   ]
  },
  {
   "cell_type": "markdown",
   "id": "c36ddf8b",
   "metadata": {},
   "source": [
    "En realidad hay dos estándares para este formato: el GRIB edición 1 (o GRIB1) y el GRIB edición 2 (GRIB2). Estos dos estándares tienen estructuras internas distintas (mucho más detallada para GRIB2), y la codificación de los parámetros es muy diferente en ambos. El software que vamos a ver a continuación trata indistintamente ambos tipos por lo que estas diferencias serán normalmente transparente para nosotros, pero es importante conocer algunas características de los dos estándares."
   ]
  },
  {
   "cell_type": "markdown",
   "id": "4de67e37",
   "metadata": {},
   "source": [
    "Los ficheros grib son binarios, por lo que es necesario utilizar software específico para leerlos. Hay una [gran cantidad de aplicaciones](https://en.wikipedia.org/wiki/GRIB) disponibles para ello."
   ]
  },
  {
   "cell_type": "markdown",
   "id": "8cd11550",
   "metadata": {},
   "source": [
    "Las [grib keys](https://confluence.ecmwf.int/display/ECC/GRIB+Keys) son los metadatos de cada mensaje grib. Nos informan sobre características tales como el parámetro predicho, variables temporales y espaciales, estadísticas, etc. Hay keys codificadas (dentro del fichero), y otras computadas (calculadas a partir de otras keys)."
   ]
  },
  {
   "cell_type": "markdown",
   "id": "82b3dc0c",
   "metadata": {},
   "source": [
    "Algunas keys importantes son:\n",
    "- centre: centro de origen del grib (notar que cada centro tendrá su tabla de definiciones)\n",
    "- edition: indica si el fichero grib es de tipo 1 o 2\n",
    "- gridType: tipo de grid (por ejemplo, regular_ll)\n",
    "- table2Version: tabla de parámetros a la que pertenece el parámetro\n",
    "- indicatorOfParameter: parámetro (para grib1)\n",
    "- level: nivel\n",
    "- typeOfLevel: tipo de nivel (superficie, nivel de presión ...)\n",
    "- paramId: key computada que el ECMWF utiliza para facilitar la identificación del parámetro \n",
    "- dataDate: fecha de ejecución del modelo\n",
    "- dataTime: hora de ejecución del modelo (\"pasada\")\n",
    "- step: alcance (normalmente en horas)\n",
    "- shortName: nombre corto del parámetro (depende de la tabla de definiciones)\n",
    "- name: nombre largo del parámetro (depende de la tabla de definiciones)\n",
    "\n",
    "Otras keys dan información sobre la distribución espacial de los puntos:\n",
    "- longitudeOfFirstGridPointInDegrees\n",
    "- latitudeOfFirstGridPointInDegrees\n",
    "- longitudeOfLastGridPointInDegrees\n",
    "- latitudeOfLastGridPointInDegrees\n",
    "- iDirectionIncrementInDegrees\n",
    "- jDirectionIncrementInDegrees\n",
    "- Ni\n",
    "- Nj"
   ]
  },
  {
   "cell_type": "markdown",
   "id": "cca9c27b",
   "metadata": {},
   "source": [
    "Manejar ficheros grib puede ser algo complicado. El ECMWF ha desarrollado un conjunto de comandos, las [grib tools](https://confluence.ecmwf.int/display/ECC/GRIB+tools), que nos pueden ayudar a tener una toma de contacto inicial con un fichero grib y conocer como es su interior.\n",
    "\n",
    "Aquí veremos tres de ellos: `grib_ls`, `grib_dump` y `grib_copy`."
   ]
  },
  {
   "cell_type": "markdown",
   "id": "b05c3470",
   "metadata": {},
   "source": [
    "`grib_ls` muestra el contenido de algunas keys de un fichero grib. Da una línea por cada mensaje grib:"
   ]
  },
  {
   "cell_type": "code",
   "execution_count": null,
   "id": "a4f26604",
   "metadata": {},
   "outputs": [],
   "source": [
    "!grib_ls ecmwf_example.grib"
   ]
  },
  {
   "cell_type": "code",
   "execution_count": null,
   "id": "5cfafa48",
   "metadata": {},
   "outputs": [],
   "source": [
    "# Cuidado con mayúsculas y espacios!\n",
    "!grib_ls -p indicatorOfParameter,paramId,shortName,dataDate,dataTime,step ecmwf_example.grib"
   ]
  },
  {
   "cell_type": "markdown",
   "id": "7c9fe92d",
   "metadata": {},
   "source": [
    "En el caso del fichero de Harmonie, no tiene las tablas de definiciones, por lo que no encuentra el shortName. Por otra parte al ser un GRIB1 sí tiene la key indicatorOfParameter:"
   ]
  },
  {
   "cell_type": "code",
   "execution_count": null,
   "id": "60fd02ba",
   "metadata": {},
   "outputs": [],
   "source": [
    "!grib_ls -p indicatorOfParameter,paramId,shortName,dataDate,dataTime,step harmonie_example.grib"
   ]
  },
  {
   "cell_type": "markdown",
   "id": "23aa2361",
   "metadata": {},
   "source": [
    "Hay que tener en cuenta que algunos parámetros son acumulados:"
   ]
  },
  {
   "cell_type": "code",
   "execution_count": null,
   "id": "7facb642",
   "metadata": {},
   "outputs": [],
   "source": [
    "!grib_ls -w paramId=169 -p paramId,shortName,dataDate,dataTime,step,average ecmwf_example.grib"
   ]
  },
  {
   "cell_type": "markdown",
   "id": "9a2b0b7d",
   "metadata": {},
   "source": [
    "`grib_dump` nos da el valor de todas las keys codificadas del grib:"
   ]
  },
  {
   "cell_type": "code",
   "execution_count": null,
   "id": "dfce117d",
   "metadata": {},
   "outputs": [],
   "source": [
    "!grib_dump ecmwf_example.grib | head -n 120"
   ]
  },
  {
   "cell_type": "markdown",
   "id": "7b220876",
   "metadata": {},
   "source": [
    "También se pueden obtener en formato json:"
   ]
  },
  {
   "cell_type": "code",
   "execution_count": null,
   "id": "a368edb8",
   "metadata": {},
   "outputs": [],
   "source": [
    "!grib_dump -j ecmwf_example.grib | head -n 50"
   ]
  },
  {
   "cell_type": "markdown",
   "id": "828614f0",
   "metadata": {},
   "source": [
    "Para aclarar qué código corresponden a cada parámetro podemos consultar las [tablas de parámetros](https://codes.ecmwf.int/grib/param-db/). Estas tablas son válidas para gribs procedentes del ECMWF."
   ]
  },
  {
   "cell_type": "markdown",
   "id": "fec5cffe",
   "metadata": {},
   "source": [
    "`grib_copy` filtra los mensajes grib que especifiquemos copiándolos en un nuevo grib:"
   ]
  },
  {
   "cell_type": "code",
   "execution_count": null,
   "id": "f81f088b",
   "metadata": {},
   "outputs": [],
   "source": [
    "!grib_copy -w paramId=167 ecmwf_example.grib ecmwf_t2m.grib"
   ]
  },
  {
   "cell_type": "code",
   "execution_count": null,
   "id": "e5944f83",
   "metadata": {},
   "outputs": [],
   "source": [
    "!grib_ls -p paramId,shortName,dataDate,dataTime,step ecmwf_t2m.grib"
   ]
  },
  {
   "cell_type": "markdown",
   "id": "4675c152",
   "metadata": {},
   "source": [
    "Existe también una grib tool, [`grib_to_netcdf`](https://confluence.ecmwf.int/display/ECC/grib_to_netcdf), para convertir ficheros grib a formato netcdf."
   ]
  },
  {
   "cell_type": "markdown",
   "id": "3a42a701",
   "metadata": {},
   "source": [
    "### Paquete eccodes"
   ]
  },
  {
   "cell_type": "markdown",
   "id": "b0c26e75",
   "metadata": {},
   "source": [
    "[ecCodes](https://confluence.ecmwf.int/display/ECC/ecCodes+Home) es un paquete desarrollado por el ECMWF que proporciona una API y un conjunto de herramientas para decodificar y codificar ficheros con formato GRIB (utilizado para guardar información de modelos meteorológicos) y BUFR (utilizado para guardar información de observaciones). "
   ]
  },
  {
   "cell_type": "markdown",
   "id": "6fb12849",
   "metadata": {},
   "source": [
    "La API original está escrita en C, y permite manejar la memoria directamente leyendo cada uno de los mensajes del fichero grib:"
   ]
  },
  {
   "cell_type": "markdown",
   "id": "a5e70b6e",
   "metadata": {},
   "source": [
    "![flujo basico C](img/flujo_basico_C.png)"
   ]
  },
  {
   "cell_type": "markdown",
   "id": "0284a28b",
   "metadata": {},
   "source": [
    "Hay también una interfaz para Fortran y para python.  \n",
    "La interfaz de python nos oculta la mayor parte de la gestión de memoria (pero cuidado con codes_release!), evitándonos el trabajo de tener que manejarla directamente:"
   ]
  },
  {
   "cell_type": "markdown",
   "id": "c87465c7",
   "metadata": {},
   "source": [
    "![flujo_basico_python](img/flujo_basico_python.png)"
   ]
  },
  {
   "cell_type": "code",
   "execution_count": null,
   "id": "b81153b9",
   "metadata": {},
   "outputs": [],
   "source": [
    "import eccodes as ec"
   ]
  },
  {
   "cell_type": "code",
   "execution_count": null,
   "id": "c5875e69",
   "metadata": {},
   "outputs": [],
   "source": [
    "f = open(\"ecmwf_example.grib\", \"rb\")"
   ]
  },
  {
   "cell_type": "code",
   "execution_count": null,
   "id": "0bc4b57b",
   "metadata": {},
   "outputs": [],
   "source": [
    "gid = ec.codes_grib_new_from_file(f)"
   ]
  },
  {
   "cell_type": "code",
   "execution_count": null,
   "id": "6e49d2d5",
   "metadata": {},
   "outputs": [],
   "source": [
    "ec.codes_get(gid, \"paramId\")"
   ]
  },
  {
   "cell_type": "code",
   "execution_count": null,
   "id": "9c29e360",
   "metadata": {},
   "outputs": [],
   "source": [
    "ec.codes_get(gid, \"dataDate\")"
   ]
  },
  {
   "cell_type": "code",
   "execution_count": null,
   "id": "05737661",
   "metadata": {},
   "outputs": [],
   "source": [
    "ec.codes_release(gid) # No olvidar liberar la memoria!"
   ]
  },
  {
   "cell_type": "code",
   "execution_count": null,
   "id": "9798b233",
   "metadata": {},
   "outputs": [],
   "source": [
    "f.close()"
   ]
  },
  {
   "cell_type": "markdown",
   "id": "2530a4c0",
   "metadata": {},
   "source": [
    "Hay una [documentación en línea](https://sites.ecmwf.int/docs/eccodes/namespaceec_codes.html) sobre las distintas funciones de eccodes."
   ]
  },
  {
   "cell_type": "markdown",
   "id": "57fd1cbc",
   "metadata": {},
   "source": [
    "Algo un poco más complicado: extraemos el valor del campo en un punto de longitud y latitud determinadas:"
   ]
  },
  {
   "cell_type": "code",
   "execution_count": null,
   "id": "21d1b291",
   "metadata": {},
   "outputs": [],
   "source": [
    "def nearest_value(filename, input_paramid, latitude, longitude):\n",
    "    \n",
    "    f = open(filename, \"rb\")\n",
    "    values = {}\n",
    "    \n",
    "    while True:\n",
    "        gid = ec.codes_grib_new_from_file(f)\n",
    "        if gid is None: break\n",
    "        \n",
    "        paramid = ec.codes_get(gid, \"paramId\")\n",
    "        step = ec.codes_get(gid, \"step\")\n",
    "        if paramid==input_paramid:\n",
    "            values[step] = ec.codes_grib_find_nearest(gid, latitude, longitude)[0].value\n",
    "            #index_position = ec.codes_grib_find_nearest(gid, latitude, longitude)[0].index\n",
    "        \n",
    "        ec.codes_release(gid)\n",
    "\n",
    "    f.close()\n",
    "    #print(index_position)\n",
    "    \n",
    "    return values"
   ]
  },
  {
   "cell_type": "code",
   "execution_count": null,
   "id": "9dab83f8",
   "metadata": {},
   "outputs": [],
   "source": [
    "nearest_value(\"ecmwf_example.grib\", 167, 40, -5)"
   ]
  },
  {
   "cell_type": "markdown",
   "id": "d24e78ef",
   "metadata": {},
   "source": [
    "Hay definidas una [serie de excepciones específicas en eccodes](https://confluence.ecmwf.int/display/ECC/Python+exception+classes) para que se puedan tratar posibles errores:"
   ]
  },
  {
   "cell_type": "code",
   "execution_count": null,
   "id": "ddeebf03",
   "metadata": {},
   "outputs": [],
   "source": [
    "try:\n",
    "    nearest_value(\"ecmwf_example.grib\", 167, 80, -5)\n",
    "except ec.OutOfAreaError:\n",
    "    print(\"La localización especificada está fuera del área del grib!\")"
   ]
  },
  {
   "cell_type": "markdown",
   "id": "7134439e",
   "metadata": {},
   "source": [
    "Con la función codes_get_values podemos extraer todos los valores del mensaje grib:"
   ]
  },
  {
   "cell_type": "code",
   "execution_count": null,
   "id": "10d1aa95",
   "metadata": {},
   "outputs": [],
   "source": [
    "f = open(\"ecmwf_example.grib\", \"rb\")\n",
    "\n",
    "gid = ec.codes_grib_new_from_file(f)       \n",
    "all_values = ec.codes_get_values(gid)\n",
    "ec.codes_release(gid)\n",
    "\n",
    "f.close()"
   ]
  },
  {
   "cell_type": "code",
   "execution_count": null,
   "id": "ebd32930",
   "metadata": {},
   "outputs": [],
   "source": [
    "print(all_values)"
   ]
  },
  {
   "cell_type": "markdown",
   "id": "2ad4898f",
   "metadata": {},
   "source": [
    "Si conocemos el índice de un determinado valor podremos extraerlo directamete:"
   ]
  },
  {
   "cell_type": "code",
   "execution_count": null,
   "id": "455ad9eb",
   "metadata": {},
   "outputs": [],
   "source": [
    "index_position=6090\n",
    "print(all_values[index_position])"
   ]
  },
  {
   "cell_type": "markdown",
   "id": "8b0bda4a",
   "metadata": {},
   "source": [
    "### Paquete xarray"
   ]
  },
  {
   "cell_type": "markdown",
   "id": "c28ceac9",
   "metadata": {},
   "source": [
    "[Xarray](https://xarray.dev/) es un paquete de python para análisis de datos diseñado para trabajar con matrices (o arrays) N-dimensionales etiquetadas. Estas etiquetas facilitan mucho el manejo de estas estructuras de datos: permiten seleccionar, realizar operaciones, agrupar, o incorporar metadatos de una manera sencilla. \n",
    "\n",
    "Estas estructuras de datos son muy adecuadas para tratar datos científicos, y en particular datos de tipo meteorológico."
   ]
  },
  {
   "cell_type": "code",
   "execution_count": null,
   "id": "904a99a0",
   "metadata": {},
   "outputs": [],
   "source": [
    "from datetime import timedelta\n",
    "import numpy as np\n",
    "import matplotlib.pyplot as plt\n",
    "import xarray as xr\n",
    "import cartopy.crs as ccrs"
   ]
  },
  {
   "cell_type": "markdown",
   "id": "1abffc88",
   "metadata": {},
   "source": [
    "Xarray está muy relacionado con la estructura de los ficheros netCDF. Para que xarray pueda leer ficheros grib el ECMWF ha creado el paquete [cfgrib](https://github.com/ecmwf/cfgrib), una interfaz de python que permite cargar un fichero grib como un dataset de xarray, siguiendo las [CF conventions](http://cfconventions.org/):"
   ]
  },
  {
   "cell_type": "code",
   "execution_count": null,
   "id": "717bbd55",
   "metadata": {},
   "outputs": [],
   "source": [
    "ds = xr.load_dataset(\"ecmwf_example.grib\", engine=\"cfgrib\")"
   ]
  },
  {
   "cell_type": "markdown",
   "id": "b4b06b59",
   "metadata": {},
   "source": [
    "Algunas grib keys se guardan en los atributos:"
   ]
  },
  {
   "cell_type": "code",
   "execution_count": null,
   "id": "a42aa924",
   "metadata": {},
   "outputs": [],
   "source": [
    "ds.attrs"
   ]
  },
  {
   "cell_type": "code",
   "execution_count": null,
   "id": "f1b2f568",
   "metadata": {},
   "outputs": [],
   "source": [
    "ds.t2m.attrs"
   ]
  },
  {
   "cell_type": "markdown",
   "id": "85d3e1ab",
   "metadata": {},
   "source": [
    "Además de las que se guardan por defecto, se puede seleccionar cualquier otra si se indica específicamente al cargar el fichero:"
   ]
  },
  {
   "cell_type": "code",
   "execution_count": null,
   "id": "6cc5467e",
   "metadata": {},
   "outputs": [],
   "source": [
    "ds = xr.open_dataset(\"ecmwf_example.grib\", \n",
    "                     engine=\"cfgrib\",\n",
    "                     backend_kwargs={\"read_keys\": [\"experimentVersionNumber\"]})"
   ]
  },
  {
   "cell_type": "code",
   "execution_count": null,
   "id": "2d9ad155",
   "metadata": {},
   "outputs": [],
   "source": [
    "ds.t2m.attrs['GRIB_experimentVersionNumber']"
   ]
  },
  {
   "cell_type": "markdown",
   "id": "a048d290",
   "metadata": {},
   "source": [
    "Notar que xarray (con cfgrib) no leerá correctamente gribs heterogéneos, y que tendrá problemas si la key shortName no está bien definida:"
   ]
  },
  {
   "cell_type": "code",
   "execution_count": null,
   "id": "19ac9696",
   "metadata": {},
   "outputs": [],
   "source": [
    "ds_aq = xr.open_dataset(\"air_quality.grb2\", \n",
    "                        engine=\"cfgrib\",\n",
    "                        backend_kwargs={\"read_keys\": ['constituentType']})"
   ]
  },
  {
   "cell_type": "markdown",
   "id": "56cf0512",
   "metadata": {},
   "source": [
    "Aunque podemos filtrar al cargar el fichero y tomar una parte del grib que si esté bien formada:"
   ]
  },
  {
   "cell_type": "code",
   "execution_count": null,
   "id": "a2bab17e",
   "metadata": {},
   "outputs": [],
   "source": [
    "ds_aq = xr.open_dataset(\"air_quality.grb2\", \n",
    "                        engine=\"cfgrib\",\n",
    "                        backend_kwargs={\"filter_by_keys\": {\"constituentType\": 40008},\n",
    "                                        \"read_keys\": ['constituentType']},\n",
    "                        )"
   ]
  },
  {
   "cell_type": "code",
   "execution_count": null,
   "id": "87071b1e",
   "metadata": {},
   "outputs": [],
   "source": [
    "ds_aq.mdens.attrs['GRIB_constituentType']"
   ]
  },
  {
   "cell_type": "markdown",
   "id": "8ce7d80c",
   "metadata": {},
   "source": [
    "Seleccionamos el campo de la temperatura a 2m, para el alcance h+12:"
   ]
  },
  {
   "cell_type": "code",
   "execution_count": null,
   "id": "81640ff4",
   "metadata": {},
   "outputs": [],
   "source": [
    "t_h12 = ds.sel(step = timedelta(hours=12)).t2m - 273.15"
   ]
  },
  {
   "cell_type": "code",
   "execution_count": null,
   "id": "d92f9b9e",
   "metadata": {},
   "outputs": [],
   "source": [
    "t_h12.plot()"
   ]
  },
  {
   "cell_type": "markdown",
   "id": "03117b48",
   "metadata": {},
   "source": [
    "O, si usamos cartopy para mostrar el mapa en proyección Mercator, por ejemplo, e incluimos la línea de costa:"
   ]
  },
  {
   "cell_type": "code",
   "execution_count": null,
   "id": "f45bee92",
   "metadata": {},
   "outputs": [],
   "source": [
    "plt.figure(figsize=(8,4.5))\n",
    "ax = plt.axes(projection=ccrs.Mercator())\n",
    "ax.coastlines()\n",
    "t_h12.plot.contourf(ax=ax, transform=ccrs.PlateCarree(), levels= np.arange(-20,25,1))\n",
    "plt.show()"
   ]
  },
  {
   "cell_type": "markdown",
   "id": "d7534639",
   "metadata": {},
   "source": [
    "### Paquete metview"
   ]
  },
  {
   "cell_type": "markdown",
   "id": "c3854ec2",
   "metadata": {},
   "source": [
    "[Metview](https://confluence.ecmwf.int/display/METV/Metview) ([documentación aquí](https://metview.readthedocs.io/en/latest/)) es una aplicación desarrollada por el ECMWF que proporciona un entorno completo de trabajo para meteorólogos. Da herramientas para el acceso, procesamiento y visualización de datos meteorológicos (ver la [galería](https://confluence.ecmwf.int/display/METV/Gallery))."
   ]
  },
  {
   "cell_type": "markdown",
   "id": "4240635f",
   "metadata": {},
   "source": [
    "Está basado en una interfaz con iconos, pero también dispone de una interfaz python para trabajo en batch:"
   ]
  },
  {
   "cell_type": "markdown",
   "id": "e6423ae8",
   "metadata": {},
   "source": [
    "![pantalla_metview](img/pantalla_metview.png)"
   ]
  },
  {
   "cell_type": "markdown",
   "id": "d38834c1",
   "metadata": {},
   "source": [
    "Nosotros la utilizaremos aquí solamente para ilustrar el [recorte e interpolación de campos](https://www.ecmwf.int/en/newsletter/169/computing/advanced-regridding-metview)."
   ]
  },
  {
   "cell_type": "markdown",
   "id": "a349d91b",
   "metadata": {},
   "source": [
    "Vamos a tomar el fichero grib anterior con la temperatura a 2m, y vamos a recortar el área de Balares y lo interpolaremos a 0.5 grados (originalmente tiene una resolución de 0.1 grados):"
   ]
  },
  {
   "cell_type": "code",
   "execution_count": null,
   "id": "b248dce3",
   "metadata": {},
   "outputs": [],
   "source": [
    "import metview as mv"
   ]
  },
  {
   "cell_type": "code",
   "execution_count": null,
   "id": "db8e5f44",
   "metadata": {},
   "outputs": [],
   "source": [
    "input_field = mv.read(\"ecmwf_t2m.grib\") # Objeto Fieldset\n",
    "target_grid = {'grid':[0.5,0.5], \n",
    "               'area':[38.5, 1, 40.5, 5]} # S,W,N,E\n",
    "output_field = mv.regrid(target_grid, data=input_field)\n",
    "output_field.write(\"ecmwf_recorte.grib\")"
   ]
  },
  {
   "cell_type": "markdown",
   "id": "051171a7",
   "metadata": {},
   "source": [
    "Mediante cfgrib se puede [convertir un objeto Fieldset (de Metview) en un objeto Dataset (de xarray)](https://confluence.ecmwf.int/display/METV/Using+cfgrib+to+load+GRIB+data+into+an+xarray+dataset)"
   ]
  },
  {
   "cell_type": "markdown",
   "id": "b8695db4",
   "metadata": {},
   "source": [
    "Vemos que el nuevo grib ya está recortado e interpolado:"
   ]
  },
  {
   "cell_type": "code",
   "execution_count": null,
   "id": "5e984fee",
   "metadata": {},
   "outputs": [],
   "source": [
    "!grib_dump ecmwf_recorte.grib | head -n 100"
   ]
  },
  {
   "cell_type": "markdown",
   "id": "3ae7146e",
   "metadata": {},
   "source": [
    "Si ahora lo ploteamos (también usando Metview):"
   ]
  },
  {
   "cell_type": "code",
   "execution_count": null,
   "id": "117c4c6a",
   "metadata": {},
   "outputs": [],
   "source": [
    "# Grib original\n",
    "input_field_12 = input_field.select(step=12) # Escogemos el campo para el alcance h+12\n",
    "\n",
    "shade_cont = mv.mcont(legend='on',\n",
    "                      contour='off',\n",
    "                      contour_level_selection_type='interval',\n",
    "                      contour_interval=1,\n",
    "                      contour_min_level=5,\n",
    "                      contour_max_level=15,\n",
    "                      contour_shade='on',\n",
    "                      contour_shade_method='area_fill',   \n",
    "                      #contour_shade_technique='grid_shading',  # elegimos shade_method o shade_technique                      \n",
    "                      contour_shade_colour_method='calculate',\n",
    "                      contour_shade_colour_direction='clockwise',\n",
    "                      contour_shade_max_level_colour='red',\n",
    "                      contour_shade_min_level_colour='yellow')\n",
    "\n",
    "balearic_map = mv.geoview(map_area_definition='corners',\n",
    "                          area=[38.5, 1, 40.5, 5]) # [S,W,N,E]\n",
    "\n",
    "mv.plot(balearic_map, input_field_12, shade_cont)"
   ]
  },
  {
   "cell_type": "code",
   "execution_count": null,
   "id": "4c191831",
   "metadata": {},
   "outputs": [],
   "source": [
    "# Grib interpolado\n",
    "output_field_12 = output_field.select(step=12) # Escogemos el campo para el alcance h+12\n",
    "\n",
    "shade_cont = mv.mcont(legend='on',\n",
    "                      contour='off',\n",
    "                      contour_level_selection_type='interval',\n",
    "                      contour_interval=1,\n",
    "                      contour_min_level=5,\n",
    "                      contour_max_level=15,\n",
    "                      contour_shade='on',\n",
    "                      contour_shade_method='area_fill',   \n",
    "                      #contour_shade_technique='grid_shading',  # elegimos shade_method o shade_technique                      \n",
    "                      contour_shade_colour_method='calculate',\n",
    "                      contour_shade_colour_direction='clockwise',\n",
    "                      contour_shade_max_level_colour='red',\n",
    "                      contour_shade_min_level_colour='yellow')\n",
    "\n",
    "balearic_map = mv.geoview(map_area_definition='corners',\n",
    "                          area=[38.5, 1, 40.5, 5]) # [S,W,N,E]\n",
    "\n",
    "mv.plot(balearic_map, output_field_12, shade_cont)"
   ]
  },
  {
   "cell_type": "markdown",
   "id": "5985b279",
   "metadata": {},
   "source": [
    "Para dibujar este mapa hemos utilizado varias de las [funciones de visualización](https://metview.readthedocs.io/en/latest/gen_files/toc/plot.html) de Metview."
   ]
  },
  {
   "cell_type": "markdown",
   "id": "f8573646",
   "metadata": {},
   "source": [
    "También se puede usar un grib plantilla de forma que nuestro grib se adapte a sus características.  \n",
    "Por ejemplo, si queremos que nuestro fichero de Harmonie copie el recorte e interpolación del fichero recortado del ECMWF (o sea, que lo use como plantilla):"
   ]
  },
  {
   "cell_type": "code",
   "execution_count": null,
   "id": "6e04ee05",
   "metadata": {},
   "outputs": [],
   "source": [
    "input = mv.read(\"harmonie_example.grib\")\n",
    "target_grid = {'grid_definition_mode':'template', \n",
    "               'template_source': './ecmwf_example.grib'}\n",
    "output_field = mv.regrid(target_grid, data=input)\n",
    "output_field.write(\"harmonie_recorte.grib\")"
   ]
  },
  {
   "cell_type": "code",
   "execution_count": null,
   "id": "614bc4db",
   "metadata": {},
   "outputs": [],
   "source": [
    "!grib_dump harmonie_recorte.grib | head -n 100"
   ]
  },
  {
   "cell_type": "markdown",
   "id": "3d28ae19",
   "metadata": {},
   "source": [
    "### Paquete climetlab"
   ]
  },
  {
   "cell_type": "markdown",
   "id": "2a994d52",
   "metadata": {},
   "source": [
    "[Climetlab](https://climetlab.readthedocs.io/en/latest/) es un paquete de Python cuyo objetivo es simplificar el acceso a datos meteorológicos y climáticos, para que los usuarios puedan dedicarse a la ciencia y no a resolver problemas técnicos como el acceso y formato de los datos. Está todavía en desarrollo (de hecho puede que sea sustituido por otro paquete llamado earthkit)."
   ]
  },
  {
   "cell_type": "code",
   "execution_count": null,
   "id": "6045421d",
   "metadata": {},
   "outputs": [],
   "source": [
    "import climetlab as cml"
   ]
  },
  {
   "cell_type": "markdown",
   "id": "de2647a0",
   "metadata": {},
   "source": [
    "Un ejemplo utilizando datos libres:"
   ]
  },
  {
   "cell_type": "code",
   "execution_count": null,
   "id": "c2c89a96",
   "metadata": {},
   "outputs": [],
   "source": [
    "source = cml.load_source(\"ecmwf-open-data\", param=[\"2t\", \"msl\"],)\n",
    "for s in source:\n",
    "    cml.plot_map(s, title=True)\n",
    "source.to_xarray()"
   ]
  },
  {
   "cell_type": "markdown",
   "id": "0f19b8b3",
   "metadata": {},
   "source": [
    "Este código sólo funcionará si se dispone de una API key para acceder al Climate Data Store:"
   ]
  },
  {
   "cell_type": "code",
   "execution_count": null,
   "id": "fb5a23af",
   "metadata": {},
   "outputs": [],
   "source": [
    "source = cml.load_source(\n",
    "    \"cds\",\n",
    "    \"reanalysis-era5-single-levels\",\n",
    "    variable=[\"2t\", \"msl\"],\n",
    "    product_type=\"reanalysis\",\n",
    "    area=[50, -50, 20, 50],\n",
    "    date=\"2011-12-02\",\n",
    "    time=\"12:00\",\n",
    ")\n",
    "for s in source:\n",
    "    cml.plot_map(s)"
   ]
  }
 ],
 "metadata": {
  "kernelspec": {
   "display_name": "Python 3 (ipykernel)",
   "language": "python",
   "name": "python3"
  },
  "language_info": {
   "codemirror_mode": {
    "name": "ipython",
    "version": 3
   },
   "file_extension": ".py",
   "mimetype": "text/x-python",
   "name": "python",
   "nbconvert_exporter": "python",
   "pygments_lexer": "ipython3",
   "version": "3.10.1"
  }
 },
 "nbformat": 4,
 "nbformat_minor": 5
}
