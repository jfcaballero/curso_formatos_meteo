{
 "cells": [
  {
   "cell_type": "markdown",
   "id": "646d60e6",
   "metadata": {},
   "source": [
    "# Extracción de datos con MARS"
   ]
  },
  {
   "cell_type": "markdown",
   "id": "46111861",
   "metadata": {},
   "source": [
    "Documentación de MARS del ECMWF: [aquí](https://confluence.ecmwf.int/display/UDOC/MARS+user+documentation)"
   ]
  },
  {
   "cell_type": "markdown",
   "id": "dfc44491",
   "metadata": {},
   "source": [
    "- Explorar la web del ECMWF. Árbol de keywords en MARS\n",
    "- Ejemplo de MARS. Keywords más importantes: proyección, niveles\n",
    "- Hablar un poco de SLURM, ectrans\n",
    "- Parameter database\n",
    "- List\n",
    "- Retrieve de disco y cinta\n",
    "- Buenas prácticas"
   ]
  },
  {
   "cell_type": "markdown",
   "id": "7d17eb6a",
   "metadata": {},
   "source": [
    "Un [documento sobre la arquitectura de MARS](https://confluence.ecmwf.int/download/attachments/45754389/server_architecture.pdf?version=1&modificationDate=1431093939498&api=v2)  \n",
    "Este es el [árbol de MARS](https://confluence.ecmwf.int/download/attachments/77223119/Screenshot_20170605_082349.png?version=1&modificationDate=1496647487359&api=v2)"
   ]
  },
  {
   "cell_type": "markdown",
   "id": "a041b147",
   "metadata": {},
   "source": [
    "Ejemplo usando list:\n",
    "    \n",
    "*list,  \n",
    "class=od,  \n",
    "stream=oper,  \n",
    "expver=1,  \n",
    "type=fc,  \n",
    "levtype=sfc,  \n",
    "param=167.128/246.228/247.228,  \n",
    "date=20210108,  \n",
    "time=00:00:00,  \n",
    "step=6/12/18/24,  \n",
    "output=cost*  "
   ]
  },
  {
   "cell_type": "markdown",
   "id": "1548c758",
   "metadata": {},
   "source": [
    "Si hacemos retrieve:\n",
    "    \n",
    "*retrieve,  \n",
    "class=od,  \n",
    "stream=oper,  \n",
    "expver=1,  \n",
    "type=fc,  \n",
    "levtype=sfc,  \n",
    "param=167.128/246.228/247.228,  \n",
    "date=20210108,  \n",
    "time=00:00:00,  \n",
    "step=6/12/18/24,  \n",
    "repres=ll,  \n",
    "grib=0.1/0.1,  \n",
    "area=44.0/-10.0/35.0/5.0,  \n",
    "use=infrequent,  \n",
    "target=\"$SCRATCH/ecmwf_surface.grib\"*"
   ]
  },
  {
   "cell_type": "markdown",
   "id": "fb95979f",
   "metadata": {},
   "source": [
    "Otros dos ejemplos:\n",
    "    \n",
    "*retrieve,  \n",
    "class=od,  \n",
    "stream=oper,  \n",
    "expver=1,  \n",
    "type=fc,  \n",
    "levtype=pl,  \n",
    "levelist=850,  \n",
    "param=167.128/246.228/247.228,  \n",
    "date=20210108,  \n",
    "time=00:00:00,  \n",
    "step=6/12/18/24,  \n",
    "repres=ll,  \n",
    "grib=0.1/0.1,  \n",
    "area=44.0/-10.0/35.0/5.0,  \n",
    "use=infrequent,  \n",
    "target=\"$SCRATCH/ecmwf_levels.grib\"*  \n",
    "\n",
    "*retrieve,  \n",
    "class=ea,  \n",
    "stream=oper,  \n",
    "expver=1,  \n",
    "type=an,  \n",
    "date=20210108,  \n",
    "time=00:00:00/06:00:00/12:00:00/18:00:00,  \n",
    "levtype=sfc,  \n",
    "param=246.228/247.228,  \n",
    "repres=ll,  \n",
    "grib=0.25/0.25,  \n",
    "area=44.0/-10.0/35.0/5.0,  \n",
    "target=\"$SCRATCH/ecmwf_reanalysis.grib\"*  "
   ]
  },
  {
   "cell_type": "code",
   "execution_count": null,
   "id": "a8faa081",
   "metadata": {},
   "outputs": [],
   "source": []
  }
 ],
 "metadata": {
  "kernelspec": {
   "display_name": "Python 3 (ipykernel)",
   "language": "python",
   "name": "python3"
  },
  "language_info": {
   "codemirror_mode": {
    "name": "ipython",
    "version": 3
   },
   "file_extension": ".py",
   "mimetype": "text/x-python",
   "name": "python",
   "nbconvert_exporter": "python",
   "pygments_lexer": "ipython3",
   "version": "3.10.1"
  }
 },
 "nbformat": 4,
 "nbformat_minor": 5
}
