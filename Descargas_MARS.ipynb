{
 "cells": [
  {
   "cell_type": "markdown",
   "id": "dc8741dc",
   "metadata": {},
   "source": [
    "# Descarga de datos con MARS"
   ]
  },
  {
   "cell_type": "markdown",
   "id": "179e1cf9",
   "metadata": {},
   "source": [
    "***Nota:*** *Algunos de los enlaces puestos aquí solo funcionarán si nos hemos registrado con usuario y contraseña del ECMWF*"
   ]
  },
  {
   "cell_type": "markdown",
   "id": "677b4992",
   "metadata": {},
   "source": [
    "***Nota:*** *Se pueden encontrar consejos útiles sobre la forma de interpretar información meteorológica en la [guía de usuario del ECMWF](https://confluence.ecmwf.int/display/FUG/Forecast+User+Guide)*"
   ]
  },
  {
   "cell_type": "markdown",
   "id": "e8b22d1b",
   "metadata": {},
   "source": [
    "MARS (Meteorological Archival and Retrieval System) es la base de datos del ECMWF.  \n",
    "Tiene un gran tamaño ([378 petabytes en octubre 2022](https://www.ecmwf.int/en/about/media-centre/key-facts-and-figures#:~:text=As%20of%20October%202022%2C%20it,fields%20are%20stored%20in%20MARS)), por lo que es conveniente conocer la mejor forma de extraer información de ella."
   ]
  },
  {
   "cell_type": "markdown",
   "id": "a47aae51",
   "metadata": {},
   "source": [
    "Se puede encontrar la [documentación de MARS](https://confluence.ecmwf.int/display/UDOC/MARS+user+documentation) en este enlace, la página principal desde la cual se puede acceder a todos los detalles. En esta presentación seguiremos a grandes rasgos esta documentación."
   ]
  },
  {
   "cell_type": "markdown",
   "id": "d4bbea4d",
   "metadata": {},
   "source": [
    "Para conectarse a los servidores del ECMWF para realizar consultas hay que usar [teleport y ssh](https://confluence.ecmwf.int/display/UDOC/Teleport+SSH+Access)   \n",
    "También se puede utilizar una API desarrollada por el ECMWF, aunque tiene menos capacidades (se explicará en una presentación posterior)."
   ]
  },
  {
   "cell_type": "markdown",
   "id": "80c3a9fd",
   "metadata": {},
   "source": [
    "### Exploración de MARS con la web del ECMWF"
   ]
  },
  {
   "cell_type": "markdown",
   "id": "95f11b3a",
   "metadata": {},
   "source": [
    "El objeto más pequeño al que nos podemos referir en MARS es el campo meteorológico (un \"mapa\" de un parámetro). Esto implica que obtener una serie temporal en un punto determinado puede ser algo costoso, ya que requiere descargar los \"mapas\" completos para cada instante de tiempo.\n",
    "\n",
    "La arquitectura de MARS se explica en más detalle en esta [página web](https://confluence.ecmwf.int/display/UDOC/MARS+architecture) y en este [documento](https://confluence.ecmwf.int/download/attachments/45754389/server_architecture.pdf?version=1&modificationDate=1431093939498&api=v2)."
   ]
  },
  {
   "cell_type": "markdown",
   "id": "5add0958",
   "metadata": {},
   "source": [
    "Para acceder a MARS con la web del ECMWF podemos llegar a través de su [página de predicciones general](https://www.ecmwf.int/en/forecasts) en el apartado Datasets, o directamente a través de la [página del catálogo de MARS](https://www.ecmwf.int/en/forecasts/datasets/search?f%5B0%5D=sm_field_dataset_urls_filter%3Afield_dataset_mars_url).  "
   ]
  },
  {
   "cell_type": "markdown",
   "id": "a96461aa",
   "metadata": {},
   "source": [
    "Aunque es posible realizar peticiones a MARS a través de la web, no es aconsejable. Sin embargo sí es útil que la propia página muestre la sintaxis correcta a usar en una petición, y también para ver si hay datos disponibles, o el coste de descargarlos."
   ]
  },
  {
   "cell_type": "markdown",
   "id": "c3e62901",
   "metadata": {},
   "source": [
    "La web también muestra el despliegue del [árbol de MARS](https://confluence.ecmwf.int/download/attachments/77223119/Screenshot_20170605_082349.png?version=1&modificationDate=1496647487359&api=v2) al ir seleccionando cada una de las keywords, algo que es importante tener en cuenta a la hora de hacer peticiones a MARS de forma óptima."
   ]
  },
  {
   "cell_type": "markdown",
   "id": "c6e59f75",
   "metadata": {},
   "source": [
    "### Sintaxis de MARS. Palabras clave (keywords) más importantes"
   ]
  },
  {
   "cell_type": "markdown",
   "id": "c0286d00",
   "metadata": {},
   "source": [
    "En la documentación en línea se puede encontrar información de [la sintaxis de MARS](https://confluence.ecmwf.int/display/UDOC/MARS+command+and+request+syntax), así como [detalles sobre cada una de las keywords](https://confluence.ecmwf.int/display/UDOC/Keywords+in+MARS+and+Dissemination+requests) que se pueden utilizar en una consulta a MARS.\n"
   ]
  },
  {
   "cell_type": "markdown",
   "id": "a8b3b4e2",
   "metadata": {},
   "source": [
    "Este es el formato de una consulta típica a MARS:"
   ]
  },
  {
   "cell_type": "markdown",
   "id": "48ae9561",
   "metadata": {},
   "source": [
    "*mars << END  \n",
    "retrieve,  \n",
    "class=od,  \n",
    "stream=oper,  \n",
    "expver=1,  \n",
    "type=fc,  \n",
    "levtype=sfc,  \n",
    "param=167.128/246.228/247.228,  \n",
    "date=20210108,  \n",
    "time=00:00:00,  \n",
    "step=6/12/18/24,  \n",
    "repres=ll,  \n",
    "grib=0.1/0.1,  \n",
    "area=44.0/-10.0/35.0/5.0,  \n",
    "use=infrequent,  \n",
    "target=\"$SCRATCH/ecmwf_surface.grib\"  \n",
    "END*"
   ]
  },
  {
   "cell_type": "markdown",
   "id": "85235d46",
   "metadata": {},
   "source": [
    "Explicación de algunas de las keywords más importantes (no tienen por qué seguir este orden):\n",
    "- retrieve/list/read/compute: comando a utilizar. Normalmente usaremos siempre retrieve (o list)\n",
    "- class: clase de dato archivado (operacional, reanálisis...)\n",
    "- stream: sistema de predicción (determinista, ensemble, oleaje...)\n",
    "- type: tipo de campo (predicción, análisis, miembro de control en un ensemble...)\n",
    "- levtype: tipo de nivel (superficie, presión, modelo...)\n",
    "- param: parámetro/s a descargar\n",
    "- date: fecha/s de la descarga\n",
    "- time: \"pasada\" o hora de ejecución (run) del modelo\n",
    "- step: \"pasos\" o horas de predicción\n",
    "- repres: representación del dato archivado (ll si es longitud-latitud)\n",
    "- grid: resolución (longitud/latitud si la repres es ll)\n",
    "- area: región que queremos recortar (Norte/Oeste/Sur/Este)\n",
    "- target: fichero de salida"
   ]
  },
  {
   "cell_type": "markdown",
   "id": "972dbe49",
   "metadata": {},
   "source": [
    "El separador \"/\" permite dar varios valores a una keyword. Además las keywords *to* y *by* permiten dan un rango de valores (por ejemplo 3/to/24/by/3)."
   ]
  },
  {
   "cell_type": "markdown",
   "id": "41c0a246",
   "metadata": {},
   "source": [
    "Notar que el modelo está archivado en una [malla gaussiana reducida](https://confluence.ecmwf.int/display/FCST/Gaussian+grids), no en la longitud-latitud, más cómoda, que normalmente utilizamos en la práctica. Por ello MARS al descargar los datos interpola a la malla longitud-latitud que le especifiquemos. Para ello usa la [librería de interpolación MIR](https://confluence.ecmwf.int/display/UDOC/MARS+interpolation+with+MIR) internamente."
   ]
  },
  {
   "cell_type": "markdown",
   "id": "94564f04",
   "metadata": {},
   "source": [
    "Para saber qué código numérico corresponde a cada parámetro podemos consultar las [tablas de parámetros del ECMWF](https://codes.ecmwf.int/grib/param-db/). Las dos que más a menudo utilizaremos (si escogemos el formato grib1) son la 128 (tabla standard) y la 228 (tabla standard2)."
   ]
  },
  {
   "cell_type": "markdown",
   "id": "76eb36dd",
   "metadata": {},
   "source": [
    "### List y retrieve. Acceso a disco y cinta"
   ]
  },
  {
   "cell_type": "markdown",
   "id": "49c15d2e",
   "metadata": {},
   "source": [
    "Al ejecutar una petición es conveniente hacerlo en modo batch, usando el [planificador de procesos SLURM](https://confluence.ecmwf.int/display/UDOC/HPC2020%3A+Batch+system), que se encuentra instalado en el servidor. Nosotros normalmente solo necesitaremos utilizar algunos comandos básicos (principalmente sbatch para lanzar las peticiones)."
   ]
  },
  {
   "cell_type": "markdown",
   "id": "de6674cd",
   "metadata": {},
   "source": [
    "Antes de utilizar el comando *retrieve* para descargar los datos es recomendable comprobar el coste computacional que esta petición va a tener. Para ello hay que usar el comando *list*, incluyendo la keyword *output* con el valor *cost* (observar que con *list* necesitamos menos keywords):"
   ]
  },
  {
   "cell_type": "markdown",
   "id": "673a7050",
   "metadata": {},
   "source": [
    "*list,  \n",
    "class=od,  \n",
    "stream=oper,  \n",
    "expver=1,  \n",
    "type=fc,  \n",
    "levtype=sfc,  \n",
    "param=167.128/246.228/247.228,  \n",
    "date=20210108,  \n",
    "time=00:00:00,  \n",
    "step=6/12/18/24,  \n",
    "output=cost*  "
   ]
  },
  {
   "cell_type": "markdown",
   "id": "83709561",
   "metadata": {},
   "source": [
    "El fichero de log (o el fichero que le indiquemos con *target*) nos dará información sobre la existencia de los datos, sobre su cantidad y dónde están almacenados:"
   ]
  },
  {
   "cell_type": "markdown",
   "id": "2a0423b7",
   "metadata": {},
   "source": [
    "*size=151.1 MB;  \n",
    "number_of_fields=12;  \n",
    "online_size=151.1 MB;  \n",
    "off_line_size=0.0 kB;  \n",
    "number_of_tape_files=0;  \n",
    "number_of_disk_files=2;  \n",
    "number_of_online_fields=12;  \n",
    "number_of_offline_fields=0;  \n",
    "number_of_tapes=0;*"
   ]
  },
  {
   "cell_type": "markdown",
   "id": "28d7ef6f",
   "metadata": {},
   "source": [
    "Los datos que están en disco se extraerán muy rápidamente. Los datos que están en cinta pueden tardar mucho en descargarse (¡sobre todo si alguien ya está utilizando esa cinta o esas cintas)."
   ]
  },
  {
   "cell_type": "markdown",
   "id": "83a226ac",
   "metadata": {},
   "source": [
    "La consulta puede dar error si hay un error de sintaxis, o si sobrepasamos ciertos límites establecidos (por ejemplo el número de campos solicitados)."
   ]
  },
  {
   "cell_type": "markdown",
   "id": "3eb135da",
   "metadata": {},
   "source": [
    "Una vez que hemos comprobado que nuestra petición es adecuada, o la hemos modificado para que sea más óptima, podemos ejecutarla con *retrieve*:"
   ]
  },
  {
   "cell_type": "markdown",
   "id": "229376da",
   "metadata": {},
   "source": [
    "*retrieve,  \n",
    "class=od,  \n",
    "stream=oper,  \n",
    "expver=1,  \n",
    "type=fc,  \n",
    "levtype=sfc,  \n",
    "param=167.128/246.228/247.228,  \n",
    "date=20210108,  \n",
    "time=00:00:00,  \n",
    "step=6/12/18/24,  \n",
    "repres=ll,  \n",
    "grib=0.1/0.1,  \n",
    "area=44.0/-10.0/35.0/5.0,  \n",
    "use=infrequent,  \n",
    "target=\"$SCRATCH/ecmwf_surface.grib\"*"
   ]
  },
  {
   "cell_type": "markdown",
   "id": "97b8d43c",
   "metadata": {},
   "source": [
    "Notar que hemos incluido la keyword *use* para que los datos no se guarden en caché."
   ]
  },
  {
   "cell_type": "markdown",
   "id": "83ca1227",
   "metadata": {},
   "source": [
    "Aquí hay otros dos ejemplos. El primero devuelve predicciones del nivel de presión de 850 mb (observar que hay que utilizar una nueva keyword, *levelist*):\n",
    "    \n",
    "*retrieve,  \n",
    "class=od,  \n",
    "stream=oper,  \n",
    "expver=1,  \n",
    "type=fc,  \n",
    "levtype=pl,  \n",
    "levelist=850,  \n",
    "param=167.128/246.228/247.228,  \n",
    "date=20210108,  \n",
    "time=00:00:00,  \n",
    "step=6/12/18/24,  \n",
    "repres=ll,  \n",
    "grib=0.1/0.1,  \n",
    "area=44.0/-10.0/35.0/5.0,  \n",
    "use=infrequent,  \n",
    "target=\"$SCRATCH/ecmwf_levels.grib\"*  \n",
    "\n",
    "El segundo devuelve datos de ERA5:\n",
    "\n",
    "*retrieve,  \n",
    "class=ea,  \n",
    "stream=oper,  \n",
    "expver=1,  \n",
    "type=an,  \n",
    "date=20210108,  \n",
    "time=00:00:00/06:00:00/12:00:00/18:00:00,  \n",
    "levtype=sfc,  \n",
    "param=246.228/247.228,  \n",
    "repres=ll,  \n",
    "grib=0.25/0.25,  \n",
    "area=44.0/-10.0/35.0/5.0,  \n",
    "target=\"$SCRATCH/ecmwf_reanalysis.grib\"*  "
   ]
  },
  {
   "cell_type": "markdown",
   "id": "4084957f",
   "metadata": {},
   "source": [
    "Después de que MARS descargue los datos en el servidor del ECMWF, ya se pueden transferir por medio de ftp a nuestro ordenador local. También se puede programar su transferencia automática por medio de la aplicación [ectrans](https://confluence.ecmwf.int/display/ECAC/Unattended+file+transfer+-+ectrans), proporcionada por el ECMWF."
   ]
  },
  {
   "cell_type": "markdown",
   "id": "8ee97be7",
   "metadata": {},
   "source": [
    "Es buena idea ver la [actividad en MARS](https://apps.ecmwf.int/mars-activity/) para comprobar el estado de nuestra petición, y si la base de datos está muy ocupada con peticiones (algo que nos puede afectar indirectamente)."
   ]
  },
  {
   "cell_type": "markdown",
   "id": "476bdab6",
   "metadata": {},
   "source": [
    "### Buenas prácticas"
   ]
  },
  {
   "cell_type": "markdown",
   "id": "cec52bb9",
   "metadata": {},
   "source": [
    "El ECMWF recomienda seguir varias [buenas prácticas](https://confluence.ecmwf.int/display/UDOC/Operational+Data%3A+Guidelines+to+write+efficient+MARS+requests) que pueden optimizar las consultas, haciéndolas más eficientes:\n",
    "\n",
    "- Si hay que descargar una gran cantidad de datos, analizar primero en detalle la mejor forma de hacerlo.\n",
    "- Utilizar el comando list para ver previamente qué recursos se van a usar.\n",
    "- Intentar descargar todos los datos posibles en una sola petición, siempre que estén en la misma cinta (en particular, todos los parámetros, niveles y steps deberían ir juntos en la misma petición).\n",
    "- Si la petición es muy grande y requiere de muchas cintas, dividirla en varias más pequeñas, pero teniendo en cuenta la arquitectura de MARS para optimizarlas, de forma que cada cinta se lea solo una vez.\n",
    "- Preparar las peticiones intentando prever posibles embotellamientos de MARS."
   ]
  }
 ],
 "metadata": {
  "kernelspec": {
   "display_name": "Python 3 (ipykernel)",
   "language": "python",
   "name": "python3"
  },
  "language_info": {
   "codemirror_mode": {
    "name": "ipython",
    "version": 3
   },
   "file_extension": ".py",
   "mimetype": "text/x-python",
   "name": "python",
   "nbconvert_exporter": "python",
   "pygments_lexer": "ipython3",
   "version": "3.10.1"
  }
 },
 "nbformat": 4,
 "nbformat_minor": 5
}
