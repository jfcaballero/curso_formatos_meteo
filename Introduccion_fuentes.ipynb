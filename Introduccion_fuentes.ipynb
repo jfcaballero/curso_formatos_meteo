{
 "cells": [
  {
   "cell_type": "markdown",
   "id": "fbcebeb9",
   "metadata": {},
   "source": [
    "![logoAEMET](logoAEMET_05.png)"
   ]
  },
  {
   "cell_type": "markdown",
   "id": "33a1b4e6",
   "metadata": {},
   "source": [
    "- **Autor:** Jose Luis Casado\n",
    "- **Institución:** AEMET"
   ]
  },
  {
   "cell_type": "markdown",
   "id": "6e2ff8d9",
   "metadata": {},
   "source": [
    "---\n",
    "\n",
    "# Introducción a las fuentes de datos\n",
    "\n",
    "---"
   ]
  },
  {
   "cell_type": "markdown",
   "id": "80634649",
   "metadata": {},
   "source": [
    "En meteorología se utilizan muchas fuentes de datos distintas, algunas gratuitas y otras no. \n",
    "En este seminario vamos a explicar tres: MARS, la base de datos del Centro Europeo de Predicción a Medio Plazo (ECMWF) - de pago -, y dos relacionadas con dos servicios de Copernicus, el Copernicus Atmosphere Monitoring Service (CAMS) y Copernicus Climate Change Service (C3S) - gratuitos -."
   ]
  },
  {
   "cell_type": "markdown",
   "id": "e59dc2d0",
   "metadata": {},
   "source": [
    "Nos centraremos en utilizar los dos formatos meteorológicos más utilizados para archivar y manejar predicciones: el formato GRIB y el formato NetCDF.  \n",
    "De todas formas hay que recordar que en meteorología se utilizan muchos más formatos diferentes, especializados en guardar información de distintos tipos. Si queremos manejar datos de otras fuentes (como pueden ser imágenes de satélite, radares meteorológicos, observaciones, u otras) tendremos que estudiar el formato que usen en cada caso."
   ]
  },
  {
   "cell_type": "markdown",
   "id": "6908100c",
   "metadata": {},
   "source": [
    "Esta multiplicidad de formatos puede resultar un poco frustrante, pero en cierto sentido es inevitable, dado que los datos meteorológicos provienen de fuentes muy distintas, por lo que es necesario usar formatos específicos para cada uno."
   ]
  },
  {
   "cell_type": "markdown",
   "id": "f8d4fb1b",
   "metadata": {},
   "source": [
    "Aquí hay un enlace de entrada a la documentación de estas fuentes: [Acceso a datos de Copernicus y del ECMWF](https://confluence.ecmwf.int/display/CKB/Access+Copernicus+data+and+services)"
   ]
  },
  {
   "cell_type": "markdown",
   "id": "18514baf",
   "metadata": {},
   "source": [
    "> Un consejo previo: se pueden encontrar consejos útiles sobre la forma de interpretar información meteorológica en la [guía de usuario del ECMWF](https://confluence.ecmwf.int/display/FUG/Forecast+User+Guide)"
   ]
  },
  {
   "cell_type": "markdown",
   "id": "67044fe3",
   "metadata": {},
   "source": [
    "### Base de datos MARS del ECMWF"
   ]
  },
  {
   "cell_type": "markdown",
   "id": "d872016a",
   "metadata": {},
   "source": [
    "MARS es el nombre de la base de datos del ECMWF, que almacena toda la información histórica del modelo meteorológico (y otras cosas). La estudiaremos en detalle en el siguiente notebook."
   ]
  },
  {
   "cell_type": "markdown",
   "id": "772d1204",
   "metadata": {},
   "source": [
    "Entre otros datos, contiene información sobre:\n",
    "- Las predicciones históricas del modelo meteorológico del ECMWF\n",
    "- Reanálisis utilizando una versión de dicho modelo. El más reciente es el [ERA5](https://confluence.ecmwf.int/display/CKB/ERA5). "
   ]
  },
  {
   "cell_type": "markdown",
   "id": "17cac7c8",
   "metadata": {},
   "source": [
    "### Copernicus Atmosphere Monitoring Service (CAMS)"
   ]
  },
  {
   "cell_type": "markdown",
   "id": "6a41cfa1",
   "metadata": {},
   "source": [
    "[CAMS](https://atmosphere.copernicus.eu/) es uno de los seis servicios del programa Copernicus de observación de la Tierra. Da información sobre la composición atmosférica, y es gestionado por el ECMWF. "
   ]
  },
  {
   "cell_type": "markdown",
   "id": "ab005d4a",
   "metadata": {},
   "source": [
    "Entre otras cosas, proporciona datos en detalle sobre [energía solar](https://atmosphere.copernicus.eu/solar-energy) en el CAMS Radiation Service, en forma de [series temporales](https://ads.atmosphere.copernicus.eu/cdsapp#!/dataset/cams-solar-radiation-timeseries?tab=overview), con o sin nubes.\n",
    "[Aquí](https://atmosphere.copernicus.eu/sites/default/files/custom-uploads/CAMS%207th%20GA/Session%204/48_Schroedter_Homscheidt_15June-9.00-10.30.pdf) se detallan algunos detalles técnicos de este servicio, y las mejoras realizadas recientemente."
   ]
  },
  {
   "cell_type": "markdown",
   "id": "eca48f5f",
   "metadata": {},
   "source": [
    "Estos datos se pueden descargar utilizando el [portal de CAMS](https://ads.atmosphere.copernicus.eu/#!/home), que dispone de una [API](https://ads.atmosphere.copernicus.eu/api-how-to) para automatizar el proceso. En una posterior presentación os hablaremos de ello."
   ]
  },
  {
   "cell_type": "markdown",
   "id": "9614d7ec",
   "metadata": {},
   "source": [
    "Otra posibilidad es usar el portal de [SoDa](https://www.soda-pro.com/), que además dispone de un [visor](https://www.soda-pro.com/web-services/radiation/cams-radiation-service) para descargarlos."
   ]
  },
  {
   "cell_type": "markdown",
   "id": "f7e78ac7",
   "metadata": {},
   "source": [
    "Estos datos son para localidades concretas puntuales, aunque se espera ofrecer [mallas completas](https://atmosphere.copernicus.eu/sites/default/files/custom-uploads/CAMS%207th%20GA/Session%206/68_Luke%20Jones_14.June-13.30%E2%80%9315.00.pdf) (mapas) pronto."
   ]
  },
  {
   "cell_type": "markdown",
   "id": "5a2211e6",
   "metadata": {},
   "source": [
    "Un último apunte: la [librería pvlib](https://pvlib-python.readthedocs.io/en/stable/) para simulación de sistemas fotovoltaicos."
   ]
  },
  {
   "cell_type": "markdown",
   "id": "e6eb0e67",
   "metadata": {},
   "source": [
    "### Copernicus Climate Change Service (C3S)"
   ]
  },
  {
   "cell_type": "markdown",
   "id": "e33c77b5",
   "metadata": {},
   "source": [
    "[C3S](https://climate.copernicus.eu/) es otro de los servicios del programa Copernicus. Como su nombre indica su objetivo es proporcionar información sobre el estado pasado y actual del clima, dar predicciones a escala estacional y proyecciones para las próximas décadas según distintos escenarios. Es gestionado también por el ECMWF."
   ]
  },
  {
   "cell_type": "markdown",
   "id": "89e15579",
   "metadata": {},
   "source": [
    "El [Climate Data Store](https://climate.copernicus.eu/climate-data-store) no solo da acceso a los distintos datasets disponibles, sino que además dispone de una serie de [herramientas](https://cds.climate.copernicus.eu/cdsapp#!/toolbox) para desarrollar aplicaciones online que faciliten esta tarea."
   ]
  },
  {
   "cell_type": "markdown",
   "id": "00635824",
   "metadata": {},
   "source": [
    "**WEkEO:**  \n",
    "Vale la pena mencionar también [WEkEO](https://www.wekeo.eu/). WEkEO es una plataforma basada en la nube que por un lado proporciona acceso a datos de Copernicus (como los mencionados anteriormente) y de los satélites Sentinel, y además dispone de un entorno virtual en el que desarrollar y ejecutar código con notebooks de jupyter."
   ]
  }
 ],
 "metadata": {
  "kernelspec": {
   "display_name": "Python 3 (ipykernel)",
   "language": "python",
   "name": "python3"
  },
  "language_info": {
   "codemirror_mode": {
    "name": "ipython",
    "version": 3
   },
   "file_extension": ".py",
   "mimetype": "text/x-python",
   "name": "python",
   "nbconvert_exporter": "python",
   "pygments_lexer": "ipython3",
   "version": "3.10.1"
  }
 },
 "nbformat": 4,
 "nbformat_minor": 5
}
